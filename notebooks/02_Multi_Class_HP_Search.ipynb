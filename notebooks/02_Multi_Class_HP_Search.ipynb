{
  "cells": [
    {
      "cell_type": "markdown",
      "metadata": {
        "vscode": {
          "languageId": "raw"
        }
      },
      "source": [
        "# Osteoarthritis Severity Classification – Hyperparameter Optimization\n",
        "\n",
        "**George Ford - Advanced Hyperparameter Search Pipeline**\n",
        "\n",
        "## 🏥 Clinical Decision Support System\n",
        "\n",
        "Systematic hyperparameter optimization for five deep learning architectures trained on expert-validated knee X-ray data. This notebook builds directly on `01_Data_Preparation.ipynb`, using the consensus-labelled, preprocessed dataset to identify optimal training configurations for robust clinical performance.\n",
        "\n",
        "---\n",
        "\n",
        "## Overview\n",
        "\n",
        "This notebook performs a **two-stage** hyperparameter optimization across five architectures to identify high-performing configurations tailored to each model.\n",
        "\n",
        "- **Stage 1 - Broad Search:** Systematic exploration of a wide parameter space, ensuring fair representation across all architectures.\n",
        "- **Stage 2 - Focused Refinement:** Targeted searches using narrowed spaces derived from high-performing trials in Stage 1.\n",
        "\n",
        "### Key Features:\n",
        "- **Stratified model search** - Equal trial counts across all model architectures\n",
        "- **Broad Hyperparameter Space** \n",
        "    - optimizer type, learning rate, weight decay, and batch size\n",
        "    - Dropout, mixup, gradient clipping, and label smoothing\n",
        "    - EMA and learning rate schedules\n",
        "- **Automated refinement** - Stage 2 search space optimization based on Stage 1 results\n",
        "\n",
        "---\n",
        "\n",
        "## Table of Contents\n",
        "\n",
        "1. [Setup and Search Space](#setup)\n",
        "2. [Medical Metrics Training Pipeline](#training-pipeline) \n",
        "3. [Stage 1: Broad Exploration](#stage1)\n",
        "4. [Automated Analysis and Refinement](#analysis)\n",
        "5. [Stage 2: Focused Optimization](#stage2)\n",
        "6. [Final Model Comparison](#comparison)\n",
        "7. [Summary and Next Steps](#summary)\n"
      ]
    },
    {
      "cell_type": "markdown",
      "metadata": {
        "vscode": {
          "languageId": "raw"
        }
      },
      "source": [
        "## **Setup and Search Space** <a id=\"setup\"></a>\n",
        "\n",
        "Establishes the PyTorch environment and core configurations for hyperparameter optimization. Includes clinical metrics tracking and comprehensive search space for stage 1.\n",
        "\n",
        "- Initialize environment and seed configuration\n",
        "- Set colour palette and plotting styles\n",
        "- Load relative data paths for reproducibility\n",
        "- Define Stage 1 hyperparameter search space for broad exploration\n",
        "- Confirm runtime configuration and resource availability\n"
      ]
    },
    {
      "cell_type": "code",
      "execution_count": 1,
      "metadata": {},
      "outputs": [
        {
          "name": "stdout",
          "output_type": "stream",
          "text": [
            "Device: cuda\n",
            "GPU: NVIDIA GeForce RTX 4070\n",
            "GPU Memory: 12.0 GB\n",
            "Repository: osteoarthritis-severity\n"
          ]
        }
      ],
      "source": [
        "# Setup and Imports\n",
        "import os\n",
        "import random\n",
        "import datetime\n",
        "import pandas as pd\n",
        "import numpy as np\n",
        "from pathlib import Path\n",
        "from collections import defaultdict\n",
        "import time\n",
        "import json\n",
        "import warnings\n",
        "warnings.filterwarnings('ignore')\n",
        "\n",
        "# PyTorch and ML Libraries\n",
        "import torch\n",
        "import torch.nn as nn\n",
        "import torch.optim as optim\n",
        "import torch.nn.functional as F\n",
        "from torch.utils.data import DataLoader\n",
        "import torchvision\n",
        "from torchvision import transforms, models, datasets\n",
        "\n",
        "# Metrics and Evaluation\n",
        "from sklearn.metrics import precision_score, recall_score, f1_score, fbeta_score, classification_report, confusion_matrix\n",
        "from scipy import stats\n",
        "\n",
        "# Visualization\n",
        "import matplotlib.pyplot as plt\n",
        "import seaborn as sns\n",
        "\n",
        "# Progress Tracking\n",
        "from tqdm.auto import tqdm\n",
        "\n",
        "# Configuration\n",
        "device = torch.device('cuda' if torch.cuda.is_available() else 'cpu')\n",
        "torch.manual_seed(42)\n",
        "np.random.seed(42)\n",
        "random.seed(42)\n",
        "\n",
        "print(f\"Device: {device}\")\n",
        "if torch.cuda.is_available():\n",
        "    print(f\"GPU: {torch.cuda.get_device_name(0)}\")\n",
        "    print(f\"GPU Memory: {torch.cuda.get_device_properties(0).total_memory / 1024**3:.1f} GB\")\n",
        "\n",
        "# Auto-detect repository root for relative path display\n",
        "repo_root = Path(\"..\").resolve()\n",
        "repo_name = repo_root.name\n",
        "print(f\"Repository: {repo_name}\")\n"
      ]
    },
    {
      "cell_type": "code",
      "execution_count": 2,
      "metadata": {},
      "outputs": [
        {
          "name": "stdout",
          "output_type": "stream",
          "text": [
            "Configuration and color palette loaded\n",
            "Results will be saved to: osteoarthritis-severity/results/hp_search_per_model\n"
          ]
        }
      ],
      "source": [
        "# Official Color Palette and Configuration\n",
        "COLORS = {\n",
        "    'primary': {'medical_blue': '#2E5BBA', 'healthcare_teal': '#1B998B', 'clinical_purple': '#6A4C93'},\n",
        "    'neutral': {'charcoal': '#2C3E50', 'slate_gray': '#5D6D7E', 'light_gray': '#BDC3C7', 'off_white': '#F8F9FA'},\n",
        "    'semantic': {'success_green': '#27AE60', 'warning_orange': '#E67E22', 'error_red': '#E74C3C', 'info_blue': '#3498DB'},\n",
        "    'severity': {'normal': '#2ECC71', 'doubtful': '#F1C40F', 'mild': '#E67E22', 'moderate': '#E74C3C', 'severe': '#8E44AD'},\n",
        "    'models': {'efficientnet': '#2E5BBA', 'regnet': '#1B998B', 'densenet': '#6A4C93', 'resnet': '#27AE60', 'convnext': '#FF9A8B'}\n",
        "}\n",
        "\n",
        "# Set plotting style\n",
        "plt.style.use('default')\n",
        "plt.rcParams['figure.figsize'] = (12, 8)\n",
        "plt.rcParams['font.size'] = 12\n",
        "plt.rcParams['axes.facecolor'] = COLORS['neutral']['off_white']\n",
        "\n",
        "print(\"Configuration and color palette loaded\")\n",
        "print(f\"Results will be saved to: {repo_name}/results/hp_search_per_model\")\n"
      ]
    },
    {
      "cell_type": "code",
      "execution_count": 3,
      "metadata": {},
      "outputs": [
        {
          "name": "stdout",
          "output_type": "stream",
          "text": [
            "Data directories:\n",
            "  Training: osteoarthritis-severity/data/consensus/train\n",
            "  Validation: osteoarthritis-severity/data/consensus/val\n",
            "  Test: osteoarthritis-severity/data/consensus/test\n",
            "Results directory: osteoarthritis-severity/results/hp_search_per_model\n"
          ]
        }
      ],
      "source": [
        "# Data Paths and Configuration\n",
        "DATA_DIR = repo_root / 'data' / 'consensus'\n",
        "RESULTS_DIR = repo_root / 'results' / 'hp_search_per_model'\n",
        "RESULTS_DIR.mkdir(parents=True, exist_ok=True)\n",
        "\n",
        "# Dataset paths\n",
        "TRAIN_PATH = DATA_DIR / 'train'\n",
        "VAL_PATH = DATA_DIR / 'val'\n",
        "TEST_PATH = DATA_DIR / 'test'\n",
        "\n",
        "# Model names mapping\n",
        "MODEL_NAMES = {\n",
        "    'efficientnet': 'EfficientNet-B0',\n",
        "    'regnet': 'RegNet-Y-800MF',\n",
        "    'densenet': 'DenseNet-121',\n",
        "    'resnet': 'ResNet-50',\n",
        "    'convnext': 'ConvNeXt-Tiny'\n",
        "}\n",
        "\n",
        "# Clinical classes mapping\n",
        "class_names = ['Normal', 'Doubtful', 'Mild', 'Moderate', 'Severe']\n",
        "\n",
        "print(f\"Data directories:\")\n",
        "print(f\"  Training: {repo_name}/data/consensus/train\")\n",
        "print(f\"  Validation: {repo_name}/data/consensus/val\")\n",
        "print(f\"  Test: {repo_name}/data/consensus/test\")\n",
        "print(f\"Results directory: {repo_name}/results/hp_search_per_model\")\n",
        "\n",
        "# Verify data directories exist\n",
        "for path in [TRAIN_PATH, VAL_PATH, TEST_PATH]:\n",
        "    if not path.exists():\n",
        "        print(f\"Warning: {path} not found\")\n"
      ]
    },
    {
      "cell_type": "code",
      "execution_count": 4,
      "metadata": {},
      "outputs": [
        {
          "name": "stdout",
          "output_type": "stream",
          "text": [
            "Search Space Configuration:\n",
            "Total parameter combinations: 2,332,800\n",
            "Stage 1 trials: 200 (40 per model)\n",
            "Epochs per trial: 15\n",
            "Estimated runtime: 100.0 minutes\n"
          ]
        }
      ],
      "source": [
        "# Search Space - Stage 1 (Broad Exploration)\n",
        "# Comprehensive parameter space for systematic optimization\n",
        "\n",
        "SEARCH_SPACE_STAGE1 = {\n",
        "    'optimizer': ['adamw', 'adam', 'sgd'],\n",
        "    'learning_rate': [1e-4, 3e-4, 5e-4, 1e-3, 2e-3, 3e-3],\n",
        "    'batch_size': [32, 64],\n",
        "    'hidden_dim': [256, 384, 512, 768, 1024],\n",
        "    'weight_decay': [1e-5, 3e-5, 1e-4, 3e-4, 1e-3],\n",
        "    'dropout': [0.1, 0.2, 0.3, 0.4],\n",
        "    'mixup_alpha': [0.0, 0.1, 0.2],  # Mixup augmentation strengths\n",
        "    'gradient_clipping': [0.0, 0.5, 1.0],  # Gradient clipping values\n",
        "    'label_smoothing': [0.0, 0.1],  # Label smoothing options\n",
        "    'use_ema': [True, False],  # Exponential moving average\n",
        "    'ema_decay': [0.999, 0.9999],  # EMA decay rates\n",
        "    'lr_schedule': ['cosine', 'plateau', 'none'],  # Learning rate scheduling\n",
        "    'warmup_epochs': [0, 2, 5]\n",
        "}\n",
        "\n",
        "# Training configuration\n",
        "STAGE1_CONFIG = {\n",
        "    'num_epochs': 15,\n",
        "    'trials_per_model': 40,\n",
        "    'total_trials': 200,  # 40 × 5 models\n",
        "    'early_stopping_patience': 5,\n",
        "    'monitor_metric': 'val_loss',\n",
        "    'reduce_lr_patience': 5,\n",
        "    'reduce_lr_factor': 0.5,\n",
        "    'min_lr': 1e-7\n",
        "}\n",
        "\n",
        "print(\"Search Space Configuration:\")\n",
        "print(f\"Total parameter combinations: {np.prod([len(v) for v in SEARCH_SPACE_STAGE1.values()]):,}\")\n",
        "print(f\"Stage 1 trials: {STAGE1_CONFIG['total_trials']} ({STAGE1_CONFIG['trials_per_model']} per model)\")\n",
        "print(f\"Epochs per trial: {STAGE1_CONFIG['num_epochs']}\")\n",
        "print(f\"Estimated runtime: {STAGE1_CONFIG['total_trials'] * STAGE1_CONFIG['num_epochs'] * 2 / 60:.1f} minutes\")\n"
      ]
    },
    {
      "cell_type": "markdown",
      "metadata": {
        "vscode": {
          "languageId": "raw"
        }
      },
      "source": [
        "## **Training Pipeline with Clinical Metrics and Optimization Strategies** <a id=\"training-pipeline\"></a>\n",
        "\n",
        "Defines the full training and evaluation pipeline used in the hyperparameter search process.  \n",
        "Supports all five model architectures with consistent augmentation, training logic, and clinical performance tracking.\n",
        "\n",
        "- Custom classifier head injection per architecture (EfficientNet, ResNet, DenseNet, RegNet, ConvNeXt)\n",
        "- Preprocessing and augmentation designed for medical imaging consistency\n",
        "- **Mixup augmentation**, **label smoothing**, and **gradient clipping** for regularization\n",
        "- **Exponential Moving Average (EMA)** to stabilize learning\n",
        "- Clinical validation metrics: **F1 Score**, **Precision**, **Recall**, and **Generalization Gap**\n",
        "- Adaptive learning rate scheduling (cosine annealing, plateau reduction)\n",
        "- Early stopping to prevent overfitting\n",
        "- Stratified hyperparameter search with trial-level tracking and performance logging"
      ]
    },
    {
      "cell_type": "code",
      "execution_count": 5,
      "metadata": {},
      "outputs": [
        {
          "name": "stdout",
          "output_type": "stream",
          "text": [
            "Model architectures and data transforms configured\n"
          ]
        }
      ],
      "source": [
        "# Model Architectures and Data Transformations\n",
        "from torchvision.models import (\n",
        "    efficientnet_b0, EfficientNet_B0_Weights,\n",
        "    regnet_y_800mf, RegNet_Y_800MF_Weights,\n",
        "    densenet121, DenseNet121_Weights,\n",
        "    resnet50, ResNet50_Weights,\n",
        "    convnext_tiny, ConvNeXt_Tiny_Weights,\n",
        ")\n",
        "\n",
        "def create_model(model_name, hidden_dim, dropout, num_classes=5):\n",
        "    \"\"\"Create a model with a custom classifier head using explicit weight enums.\"\"\"\n",
        "    if model_name == 'efficientnet':\n",
        "        model = efficientnet_b0(weights=EfficientNet_B0_Weights.IMAGENET1K_V1)\n",
        "        in_features = model.classifier[1].in_features\n",
        "\n",
        "    elif model_name == 'regnet':\n",
        "        model = regnet_y_800mf(weights=RegNet_Y_800MF_Weights.IMAGENET1K_V2)\n",
        "        in_features = model.fc.in_features\n",
        "\n",
        "    elif model_name == 'densenet':\n",
        "        model = densenet121(weights=DenseNet121_Weights.IMAGENET1K_V1)\n",
        "        in_features = model.classifier.in_features\n",
        "\n",
        "    elif model_name == 'resnet':\n",
        "        model = resnet50(weights=ResNet50_Weights.IMAGENET1K_V2)\n",
        "        in_features = model.fc.in_features\n",
        "\n",
        "    elif model_name == 'convnext':\n",
        "        model = convnext_tiny(weights=ConvNeXt_Tiny_Weights.IMAGENET1K_V1)\n",
        "        # Always grab the final Linear\n",
        "        in_features = model.classifier[-1].in_features\n",
        "\n",
        "    else:\n",
        "        raise ValueError(f\"Unknown model: {model_name}\")\n",
        "\n",
        "    # Swap in custom head\n",
        "    if model_name in ['efficientnet', 'densenet']:\n",
        "        model.classifier = _build_classifier(in_features, hidden_dim, dropout, num_classes)\n",
        "    elif model_name in ['regnet', 'resnet']:\n",
        "        model.fc = _build_classifier(in_features, hidden_dim, dropout, num_classes)\n",
        "    else:  # convnext\n",
        "        model.classifier[-1] = _build_classifier(in_features, hidden_dim, dropout, num_classes)\n",
        "\n",
        "    return model\n",
        "\n",
        "def _build_classifier(in_features, hidden_dim, dropout, num_classes):\n",
        "    return nn.Sequential(\n",
        "        nn.Dropout(dropout),\n",
        "        nn.Linear(in_features, hidden_dim),\n",
        "        nn.ReLU(),\n",
        "        nn.Dropout(dropout),\n",
        "        nn.Linear(hidden_dim, num_classes),\n",
        "    )\n",
        "\n",
        "# Data Augmentation Constants\n",
        "IMAGENET_MEAN = [0.485, 0.456, 0.406]\n",
        "IMAGENET_STD = [0.229, 0.224, 0.225]\n",
        "\n",
        "def get_transforms(stage='train'):\n",
        "    \"\"\"Return image transformations for a given stage.\"\"\"\n",
        "    if stage == 'train':\n",
        "        return transforms.Compose([\n",
        "            transforms.Resize((224, 224)),\n",
        "            transforms.RandomHorizontalFlip(),\n",
        "            transforms.RandomRotation(10),\n",
        "            transforms.ColorJitter(0.2, 0.2, 0.2),\n",
        "            transforms.ToTensor(),\n",
        "            transforms.Normalize(mean=IMAGENET_MEAN, std=IMAGENET_STD)\n",
        "        ])\n",
        "    else:\n",
        "        return transforms.Compose([\n",
        "            transforms.Resize((224, 224)),\n",
        "            transforms.ToTensor(),\n",
        "            transforms.Normalize(mean=IMAGENET_MEAN, std=IMAGENET_STD)\n",
        "        ])\n",
        "\n",
        "print(\"Model architectures and data transforms configured\")\n"
      ]
    },
    {
      "cell_type": "code",
      "execution_count": 6,
      "metadata": {},
      "outputs": [
        {
          "name": "stdout",
          "output_type": "stream",
          "text": [
            "Advanced training components configured\n"
          ]
        }
      ],
      "source": [
        "# Training Components\n",
        "\n",
        "class EMA:\n",
        "    \"\"\"Exponential Moving Average for model parameters.\"\"\"\n",
        "    def __init__(self, model, decay=0.999):\n",
        "        self.model = model\n",
        "        self.decay = decay\n",
        "        self.shadow = {}\n",
        "        self.backup = {}\n",
        "        \n",
        "    def register(self):\n",
        "        for name, param in self.model.named_parameters():\n",
        "            if param.requires_grad:\n",
        "                self.shadow[name] = param.data.clone()\n",
        "                \n",
        "    def update(self):\n",
        "        for name, param in self.model.named_parameters():\n",
        "            if param.requires_grad:\n",
        "                new_avg = (1.0 - self.decay) * param.data + self.decay * self.shadow[name]\n",
        "                self.shadow[name] = new_avg.clone()\n",
        "                \n",
        "    def apply_shadow(self):\n",
        "        for name, param in self.model.named_parameters():\n",
        "            if param.requires_grad:\n",
        "                self.backup[name] = param.data\n",
        "                param.data = self.shadow[name]\n",
        "                \n",
        "    def restore(self):\n",
        "        for name, param in self.model.named_parameters():\n",
        "            if param.requires_grad:\n",
        "                param.data = self.backup[name]\n",
        "        self.backup = {}\n",
        "\n",
        "# Mixup Augmentation\n",
        "def mixup_data(x, y, alpha=1.0, device='cuda'):\n",
        "    \"\"\"Apply mixup data augmentation.\"\"\"\n",
        "    lam = np.random.beta(alpha, alpha) if alpha > 0 else 1\n",
        "    index = torch.randperm(x.size(0)).to(device)\n",
        "    mixed_x = lam * x + (1 - lam) * x[index]\n",
        "    return mixed_x, y, y[index], lam\n",
        "\n",
        "def mixup_criterion(criterion, pred, y_a, y_b, lam):\n",
        "    \"\"\"Mixup loss criterion.\"\"\"\n",
        "    return lam * criterion(pred, y_a) + (1 - lam) * criterion(pred, y_b)\n",
        "\n",
        "# Learning Rate Scheduling\n",
        "def get_lr_scheduler(optimizer, schedule_type, num_epochs):\n",
        "    \"\"\"Return a learning rate scheduler.\"\"\"\n",
        "    if schedule_type == 'cosine':\n",
        "        return optim.lr_scheduler.CosineAnnealingLR(optimizer, T_max=num_epochs)\n",
        "    elif schedule_type == 'plateau':\n",
        "        return optim.lr_scheduler.ReduceLROnPlateau(\n",
        "            optimizer, mode='min',\n",
        "            patience=STAGE1_CONFIG['reduce_lr_patience'],\n",
        "            factor=STAGE1_CONFIG['reduce_lr_factor'],\n",
        "            min_lr=STAGE1_CONFIG['min_lr']\n",
        "        )\n",
        "    return None\n",
        "\n",
        "print(\"Advanced training components configured\")\n"
      ]
    },
    {
      "cell_type": "code",
      "execution_count": 7,
      "metadata": {},
      "outputs": [
        {
          "name": "stdout",
          "output_type": "stream",
          "text": [
            "Training function with medical metrics configured\n"
          ]
        }
      ],
      "source": [
        "# Training Function with Medical Metrics\n",
        "\n",
        "def train_and_evaluate_model(\n",
        "    model_name,\n",
        "    params,\n",
        "    train_loader,\n",
        "    val_loader,\n",
        "    num_epochs=15,\n",
        "    trial_pbar: tqdm = None\n",
        "):\n",
        "    \"\"\"Train model with medical metrics tracking and live trial‐level progress.\"\"\"\n",
        "    # Create model\n",
        "    model = create_model(model_name, params['hidden_dim'], params['dropout']).to(device)\n",
        "    \n",
        "    # Initialize EMA if enabled\n",
        "    ema = None\n",
        "    if params.get('use_ema', False):\n",
        "        ema = EMA(model, decay=params.get('ema_decay', 0.999))\n",
        "        ema.register()\n",
        "    \n",
        "    # Loss function with label smoothing\n",
        "    criterion = nn.CrossEntropyLoss(label_smoothing=params.get('label_smoothing', 0.0))\n",
        "    \n",
        "    # Optimizer\n",
        "    if params['optimizer'] == 'adamw':\n",
        "        optimizer = optim.AdamW(\n",
        "            model.parameters(),\n",
        "            lr=params['learning_rate'],\n",
        "            weight_decay=params['weight_decay']\n",
        "        )\n",
        "    elif params['optimizer'] == 'adam':\n",
        "        optimizer = optim.Adam(\n",
        "            model.parameters(),\n",
        "            lr=params['learning_rate'],\n",
        "            weight_decay=params['weight_decay']\n",
        "        )\n",
        "    else:  # sgd\n",
        "        optimizer = optim.SGD(\n",
        "            model.parameters(),\n",
        "            lr=params['learning_rate'],\n",
        "            weight_decay=params['weight_decay'],\n",
        "            momentum=0.9\n",
        "        )\n",
        "    \n",
        "    # Scheduler\n",
        "    scheduler = get_lr_scheduler(optimizer, params.get('lr_schedule', 'none'), num_epochs)\n",
        "    \n",
        "    # History containers\n",
        "    history = {\n",
        "        'train_loss': [], 'val_loss': [],\n",
        "        'train_acc': [],  'val_acc': [],\n",
        "        'val_f1': [],     'val_precision': [],\n",
        "        'val_recall': [], 'val_f2': [], 'generalization_gap': [],\n",
        "        'learning_rate': []\n",
        "    }\n",
        "    \n",
        "    best_val_acc_trial = 0.0\n",
        "    best_epoch_trial = 0\n",
        "    best_val_loss = float('inf')\n",
        "    patience_counter = 0\n",
        "    warmup_epochs = params.get('warmup_epochs', 0)\n",
        "    \n",
        "    for epoch in range(1, num_epochs + 1):\n",
        "        model.train()\n",
        "        train_loss = 0.0\n",
        "        correct_train = 0\n",
        "        total_train = 0\n",
        "        \n",
        "        for data, target in train_loader:\n",
        "            data, target = data.to(device), target.to(device)\n",
        "            \n",
        "            # Warmup LR\n",
        "            if epoch <= warmup_epochs and warmup_epochs > 0:\n",
        "                lr = params['learning_rate'] * (epoch / warmup_epochs)\n",
        "                for g in optimizer.param_groups:\n",
        "                    g['lr'] = lr\n",
        "            \n",
        "            optimizer.zero_grad()\n",
        "            \n",
        "            if params.get('mixup_alpha', 0.0) > 0:\n",
        "                # --- MIXUP BRANCH ---\n",
        "                x_mix, y_a, y_b, lam = mixup_data(\n",
        "                    data, target, params['mixup_alpha'], device\n",
        "                )\n",
        "                outputs = model(x_mix)\n",
        "                loss = mixup_criterion(criterion, outputs, y_a, y_b, lam)\n",
        "\n",
        "                if lam >= 0.5:\n",
        "                    stronger_labels = y_a\n",
        "                else:\n",
        "                    stronger_labels = y_b\n",
        "                \n",
        "                preds = outputs.argmax(dim=1)\n",
        "                total_train += target.size(0)\n",
        "                correct_train += (preds == stronger_labels).sum().item()\n",
        "            \n",
        "            else:\n",
        "                # --- STANDARD BRANCH ---\n",
        "                outputs = model(data)\n",
        "                loss = criterion(outputs, target)\n",
        "                \n",
        "                preds = outputs.argmax(dim=1)\n",
        "                total_train += target.size(0)\n",
        "                correct_train += (preds == target).sum().item()\n",
        "            \n",
        "            loss.backward()\n",
        "            \n",
        "            # Gradient clipping\n",
        "            if params.get('gradient_clipping', 0.0) > 0:\n",
        "                torch.nn.utils.clip_grad_norm_(\n",
        "                    model.parameters(), params['gradient_clipping']\n",
        "                )\n",
        "            \n",
        "            optimizer.step()\n",
        "            \n",
        "            if ema is not None:\n",
        "                ema.update()\n",
        "            \n",
        "            train_loss += loss.item()\n",
        "        \n",
        "        # end training loop\n",
        "        avg_train_loss = train_loss / len(train_loader)\n",
        "        train_acc = 100.0 * correct_train / total_train if total_train > 0 else 0.0\n",
        "        \n",
        "        # --- VALIDATION ---\n",
        "        model.eval()\n",
        "        if ema is not None:\n",
        "            ema.apply_shadow()\n",
        "        \n",
        "        val_loss = 0.0\n",
        "        correct_val = 0\n",
        "        total_val = 0\n",
        "        all_preds = []\n",
        "        all_targs = []\n",
        "        \n",
        "        with torch.no_grad():\n",
        "            for data, target in val_loader:\n",
        "                data, target = data.to(device), target.to(device)\n",
        "                outputs = model(data)\n",
        "                loss = criterion(outputs, target)\n",
        "                \n",
        "                val_loss += loss.item()\n",
        "                preds = outputs.argmax(dim=1)\n",
        "                total_val += target.size(0)\n",
        "                correct_val += (preds == target).sum().item()\n",
        "                \n",
        "                all_preds.extend(preds.cpu().tolist())\n",
        "                all_targs.extend(target.cpu().tolist())\n",
        "        \n",
        "        if ema is not None:\n",
        "            ema.restore()\n",
        "        \n",
        "        avg_val_loss = val_loss / len(val_loader)\n",
        "        val_acc = 100.0 * correct_val / total_val\n",
        "        val_f1 = f1_score(all_targs, all_preds, average='weighted')\n",
        "        val_f2 = fbeta_score(all_targs, all_preds, beta=2, average='weighted')\n",
        "        val_precision = precision_score(all_targs, all_preds, average='weighted')\n",
        "        val_recall = recall_score(all_targs, all_preds, average='weighted')\n",
        "        generalization_gap = train_acc - val_acc\n",
        "        \n",
        "        # Early stopping & best‐epoch tracking\n",
        "        if val_acc > best_val_acc_trial:\n",
        "            best_val_acc_trial = val_acc\n",
        "            best_epoch_trial = epoch\n",
        "        \n",
        "        # record history\n",
        "        history['train_loss'].append(avg_train_loss)\n",
        "        history['val_loss'].append(avg_val_loss)\n",
        "        history['train_acc'].append(train_acc)\n",
        "        history['val_acc'].append(val_acc)\n",
        "        history['val_f1'].append(val_f1)\n",
        "        history['val_f2'].append(val_f2)\n",
        "        history['val_precision'].append(val_precision)\n",
        "        history['val_recall'].append(val_recall)\n",
        "        history['generalization_gap'].append(generalization_gap)\n",
        "        history['learning_rate'].append(optimizer.param_groups[0]['lr'])\n",
        "        \n",
        "        if scheduler is not None:\n",
        "            if params.get('lr_schedule') == 'plateau':\n",
        "                scheduler.step(avg_val_loss)\n",
        "            else:\n",
        "                scheduler.step()\n",
        "        \n",
        "        if avg_val_loss < best_val_loss:\n",
        "            best_val_loss = avg_val_loss\n",
        "            patience_counter = 0\n",
        "        else:\n",
        "            patience_counter += 1\n",
        "            if patience_counter >= STAGE1_CONFIG['early_stopping_patience']:\n",
        "                break\n",
        "        \n",
        "        if trial_pbar is not None:\n",
        "            trial_pbar.set_description(\n",
        "                f\"Epoch {epoch}/{num_epochs} | BestEp {best_epoch_trial}/{num_epochs}\"\n",
        "            )\n",
        "            trial_pbar.update(1)\n",
        "    \n",
        "    return history, model, best_val_acc_trial, best_epoch_trial\n",
        "\n",
        "\n",
        "print(\"Training function with medical metrics configured\")  "
      ]
    },
    {
      "cell_type": "code",
      "execution_count": 8,
      "metadata": {},
      "outputs": [
        {
          "name": "stdout",
          "output_type": "stream",
          "text": [
            "Data loading and stratified search function configured\n"
          ]
        }
      ],
      "source": [
        "# Data Loading and Stratified Search Function\n",
        "\n",
        "def load_data(batch_size):\n",
        "    \"\"\"Load training and validation data\"\"\"\n",
        "    train_dataset = datasets.ImageFolder(TRAIN_PATH, transform=get_transforms('train'))\n",
        "    val_dataset = datasets.ImageFolder(VAL_PATH, transform=get_transforms('val'))\n",
        "    \n",
        "    train_loader = DataLoader(\n",
        "        train_dataset, batch_size=batch_size, shuffle=True, num_workers=4\n",
        "    )\n",
        "    val_loader = DataLoader(\n",
        "        val_dataset, batch_size=batch_size, shuffle=False, num_workers=4\n",
        "    )\n",
        "    \n",
        "    return train_loader, val_loader\n",
        "\n",
        "def sample_hyperparameters(search_space):\n",
        "    \"\"\"Sample random hyperparameters from search space\"\"\"\n",
        "    params = {}\n",
        "    for key, values in search_space.items():\n",
        "        params[key] = random.choice(values)\n",
        "    return params\n",
        "\n",
        "def run_stratified_hp_search(models, search_space, trials_per_model, num_epochs, stage_name=\"Stage 1\"):\n",
        "    \"\"\"\n",
        "    Run stratified hyperparameter search with equal trials per model architecture.\n",
        "    \"\"\"\n",
        "    results = []\n",
        "    start_time = time.time()\n",
        "    architecture_best = {}\n",
        "\n",
        "    overall_progress = tqdm(\n",
        "        total=len(models) * trials_per_model,\n",
        "        desc=f\"{stage_name} Progress\",\n",
        "        position=0,\n",
        "        leave=False\n",
        "    )\n",
        "\n",
        "    for model_name, model_display_name in models.items():\n",
        "        model_best_acc = 0.0\n",
        "        arch_progress = tqdm(\n",
        "            total=trials_per_model,\n",
        "            desc=f\"{model_display_name} | BestAcc N/A\",\n",
        "            position=1,\n",
        "            leave=False\n",
        "        )\n",
        "\n",
        "        for trial in range(1, trials_per_model + 1):\n",
        "            trial_start = time.time()\n",
        "\n",
        "            # sample and data\n",
        "            params = sample_hyperparameters(search_space)\n",
        "            train_loader, val_loader = load_data(params['batch_size'])\n",
        "\n",
        "            # trial‐level bar\n",
        "            trial_pbar = tqdm(\n",
        "                total=num_epochs,\n",
        "                desc=f\"Epoch 0/{num_epochs} | BestEp 0/{num_epochs}\",\n",
        "                position=2,\n",
        "                leave=False\n",
        "            )\n",
        "            try:\n",
        "                history, _, best_acc_t, best_ep_t = train_and_evaluate_model(\n",
        "                    model_name, params, train_loader, val_loader,\n",
        "                    num_epochs, trial_pbar=trial_pbar\n",
        "                )\n",
        "            except Exception as e:\n",
        "                trial_pbar.close()\n",
        "                print(f\"\\n❌ Trial {trial} for {model_display_name} FAILED: {e}\")\n",
        "                import traceback; traceback.print_exc()\n",
        "                continue\n",
        "            trial_pbar.close()\n",
        "\n",
        "            # compute metrics\n",
        "            final_val_acc = history['val_acc'][-1]\n",
        "            final_val_f1 = history['val_f1'][-1]\n",
        "            final_val_f2 = history['val_f2'][-1]\n",
        "            final_val_precision = history['val_precision'][-1]\n",
        "            final_val_recall = history['val_recall'][-1]\n",
        "            final_generalization_gap = history['generalization_gap'][-1]\n",
        "\n",
        "            best_val_acc = max(history['val_acc'])\n",
        "            best_val_f1  = max(history['val_f1'])\n",
        "            best_val_f2  = max(history['val_f2'])\n",
        "            best_epoch   = np.argmax(history['val_acc']) + 1\n",
        "            val_acc_std  = np.std(history['val_acc'])\n",
        "            trial_time   = time.time() - trial_start\n",
        "\n",
        "            # store\n",
        "            result = {\n",
        "                'model_name': model_name,\n",
        "                'model_display_name': model_display_name,\n",
        "                'trial': trial,\n",
        "                'stage': 1,\n",
        "                'final_val_acc': final_val_acc,\n",
        "                'best_val_acc': best_val_acc,\n",
        "                'final_val_f1': final_val_f1,\n",
        "                'best_val_f1': best_val_f1,\n",
        "                'final_val_f2': final_val_f2,\n",
        "                'best_val_f2': best_val_f2,\n",
        "                'final_val_precision': final_val_precision,\n",
        "                'final_val_recall': final_val_recall,\n",
        "                'final_generalization_gap': final_generalization_gap,\n",
        "                'val_acc_std': val_acc_std,\n",
        "                'convergence_epoch': best_epoch,\n",
        "                'trial_time': trial_time,\n",
        "                'history': history,\n",
        "                **params\n",
        "            }\n",
        "            results.append(result)\n",
        "\n",
        "            # best‐so‐far per architecture\n",
        "            if best_val_acc > model_best_acc:\n",
        "                model_best_acc = best_val_acc\n",
        "                architecture_best[model_name] = result\n",
        "                arch_progress.set_description(\n",
        "                    f\"{model_display_name} | BestAcc {model_best_acc:.2f}% (trial {trial})\"\n",
        "                )\n",
        "\n",
        "            # advance bars & clear cache\n",
        "            arch_progress.update(1)\n",
        "            overall_progress.update(1)\n",
        "            if torch.cuda.is_available():\n",
        "                torch.cuda.empty_cache()\n",
        "\n",
        "        arch_progress.close()\n",
        "\n",
        "    overall_progress.close()\n",
        "\n",
        "    total_time = time.time() - start_time\n",
        "    print(f\"\\n{'='*60}\")\n",
        "    print(f\"{stage_name.upper()} COMPLETE\")\n",
        "\n",
        "    if results:\n",
        "        best_overall = max(results, key=lambda x: x['best_val_acc'])\n",
        "        print(\n",
        "            f\"Best overall: {best_overall['model_display_name']} \"\n",
        "            f\"with {best_overall['best_val_acc']:.2f}% validation accuracy\"\n",
        "        )\n",
        "\n",
        "    print(f\"Total time: {total_time/60:.1f} minutes\")\n",
        "    print(f\"Successful trials: {len(results)}\")\n",
        "\n",
        "    return results\n",
        "\n",
        "print(\"Data loading and stratified search function configured\")"
      ]
    },
    {
      "cell_type": "markdown",
      "metadata": {
        "vscode": {
          "languageId": "raw"
        }
      },
      "source": [
        "## **Stage 1: Broad Hyperparameter Exploration** <a id=\"stage1\"></a>\n",
        "\n",
        "Performs stratified hyperparameter search across all model architectures, ensuring equal trial representation.  \n",
        "The goal is to identify promising regions of the search space and uncover patterns in model behavior and sensitivity.\n",
        "\n",
        "- Run 40 randomized trials per architecture across a wide parameter space\n",
        "- Capture model-specific performance trends and early indicators of potential\n",
        "- Save trial-level results for downstream refinement and analysis"
      ]
    },
    {
      "cell_type": "code",
      "execution_count": 9,
      "metadata": {},
      "outputs": [
        {
          "name": "stdout",
          "output_type": "stream",
          "text": [
            "Starting Stage 1 Stratified Hyperparameter Search\n",
            "============================================================\n"
          ]
        },
        {
          "data": {
            "application/vnd.jupyter.widget-view+json": {
              "model_id": "b700910c3f794687af82fb33b6d962cc",
              "version_major": 2,
              "version_minor": 0
            },
            "text/plain": [
              "Stage 1 Progress:   0%|          | 0/200 [00:00<?, ?it/s]"
            ]
          },
          "metadata": {},
          "output_type": "display_data"
        },
        {
          "data": {
            "application/vnd.jupyter.widget-view+json": {
              "model_id": "64e5be4903ef42889e36683c0e5c7bae",
              "version_major": 2,
              "version_minor": 0
            },
            "text/plain": [
              "EfficientNet-B0 | BestAcc N/A:   0%|          | 0/40 [00:00<?, ?it/s]"
            ]
          },
          "metadata": {},
          "output_type": "display_data"
        },
        {
          "data": {
            "application/vnd.jupyter.widget-view+json": {
              "model_id": "68f894298f8744378618f28a6d96dadc",
              "version_major": 2,
              "version_minor": 0
            },
            "text/plain": [
              "Epoch 0/15 | BestEp 0/15:   0%|          | 0/15 [00:00<?, ?it/s]"
            ]
          },
          "metadata": {},
          "output_type": "display_data"
        },
        {
          "data": {
            "application/vnd.jupyter.widget-view+json": {
              "model_id": "7627e268696b485fb2b1d0765eeca306",
              "version_major": 2,
              "version_minor": 0
            },
            "text/plain": [
              "Epoch 0/15 | BestEp 0/15:   0%|          | 0/15 [00:00<?, ?it/s]"
            ]
          },
          "metadata": {},
          "output_type": "display_data"
        },
        {
          "data": {
            "application/vnd.jupyter.widget-view+json": {
              "model_id": "1911ed97fa1b4850a27837ffba2f6bcb",
              "version_major": 2,
              "version_minor": 0
            },
            "text/plain": [
              "Epoch 0/15 | BestEp 0/15:   0%|          | 0/15 [00:00<?, ?it/s]"
            ]
          },
          "metadata": {},
          "output_type": "display_data"
        },
        {
          "data": {
            "application/vnd.jupyter.widget-view+json": {
              "model_id": "172c6559395d45ccb23090fdffa36227",
              "version_major": 2,
              "version_minor": 0
            },
            "text/plain": [
              "Epoch 0/15 | BestEp 0/15:   0%|          | 0/15 [00:00<?, ?it/s]"
            ]
          },
          "metadata": {},
          "output_type": "display_data"
        },
        {
          "data": {
            "application/vnd.jupyter.widget-view+json": {
              "model_id": "a100af91cd274e64b30e2247ccc4e2a1",
              "version_major": 2,
              "version_minor": 0
            },
            "text/plain": [
              "Epoch 0/15 | BestEp 0/15:   0%|          | 0/15 [00:00<?, ?it/s]"
            ]
          },
          "metadata": {},
          "output_type": "display_data"
        },
        {
          "data": {
            "application/vnd.jupyter.widget-view+json": {
              "model_id": "7c01613f2d8e4358a7239aad2fd65604",
              "version_major": 2,
              "version_minor": 0
            },
            "text/plain": [
              "Epoch 0/15 | BestEp 0/15:   0%|          | 0/15 [00:00<?, ?it/s]"
            ]
          },
          "metadata": {},
          "output_type": "display_data"
        },
        {
          "data": {
            "application/vnd.jupyter.widget-view+json": {
              "model_id": "89934debb4914d3f9e53182b92a2b6bd",
              "version_major": 2,
              "version_minor": 0
            },
            "text/plain": [
              "Epoch 0/15 | BestEp 0/15:   0%|          | 0/15 [00:00<?, ?it/s]"
            ]
          },
          "metadata": {},
          "output_type": "display_data"
        },
        {
          "data": {
            "application/vnd.jupyter.widget-view+json": {
              "model_id": "688298a738f44dccbabd294ff8addbc5",
              "version_major": 2,
              "version_minor": 0
            },
            "text/plain": [
              "Epoch 0/15 | BestEp 0/15:   0%|          | 0/15 [00:00<?, ?it/s]"
            ]
          },
          "metadata": {},
          "output_type": "display_data"
        },
        {
          "data": {
            "application/vnd.jupyter.widget-view+json": {
              "model_id": "34c510108de645bd9cc180f6f62f3b31",
              "version_major": 2,
              "version_minor": 0
            },
            "text/plain": [
              "Epoch 0/15 | BestEp 0/15:   0%|          | 0/15 [00:00<?, ?it/s]"
            ]
          },
          "metadata": {},
          "output_type": "display_data"
        },
        {
          "data": {
            "application/vnd.jupyter.widget-view+json": {
              "model_id": "1170d560a1b44d74b11ed7db073c80ed",
              "version_major": 2,
              "version_minor": 0
            },
            "text/plain": [
              "Epoch 0/15 | BestEp 0/15:   0%|          | 0/15 [00:00<?, ?it/s]"
            ]
          },
          "metadata": {},
          "output_type": "display_data"
        },
        {
          "data": {
            "application/vnd.jupyter.widget-view+json": {
              "model_id": "fb063ef4d28643eaae078973bd5debe3",
              "version_major": 2,
              "version_minor": 0
            },
            "text/plain": [
              "Epoch 0/15 | BestEp 0/15:   0%|          | 0/15 [00:00<?, ?it/s]"
            ]
          },
          "metadata": {},
          "output_type": "display_data"
        },
        {
          "data": {
            "application/vnd.jupyter.widget-view+json": {
              "model_id": "c0543e2bf50a4a3ca5c9fec6762c57d6",
              "version_major": 2,
              "version_minor": 0
            },
            "text/plain": [
              "Epoch 0/15 | BestEp 0/15:   0%|          | 0/15 [00:00<?, ?it/s]"
            ]
          },
          "metadata": {},
          "output_type": "display_data"
        },
        {
          "data": {
            "application/vnd.jupyter.widget-view+json": {
              "model_id": "a3e7e078a7984a10872c078c1512e8e0",
              "version_major": 2,
              "version_minor": 0
            },
            "text/plain": [
              "Epoch 0/15 | BestEp 0/15:   0%|          | 0/15 [00:00<?, ?it/s]"
            ]
          },
          "metadata": {},
          "output_type": "display_data"
        },
        {
          "data": {
            "application/vnd.jupyter.widget-view+json": {
              "model_id": "8ef18ebc76424f76b8f7a1a7982a5b1d",
              "version_major": 2,
              "version_minor": 0
            },
            "text/plain": [
              "Epoch 0/15 | BestEp 0/15:   0%|          | 0/15 [00:00<?, ?it/s]"
            ]
          },
          "metadata": {},
          "output_type": "display_data"
        },
        {
          "data": {
            "application/vnd.jupyter.widget-view+json": {
              "model_id": "8148165810b243c7b83162e59e8520c4",
              "version_major": 2,
              "version_minor": 0
            },
            "text/plain": [
              "Epoch 0/15 | BestEp 0/15:   0%|          | 0/15 [00:00<?, ?it/s]"
            ]
          },
          "metadata": {},
          "output_type": "display_data"
        },
        {
          "data": {
            "application/vnd.jupyter.widget-view+json": {
              "model_id": "5603044ba12440ebbb6883cf5eccddd4",
              "version_major": 2,
              "version_minor": 0
            },
            "text/plain": [
              "Epoch 0/15 | BestEp 0/15:   0%|          | 0/15 [00:00<?, ?it/s]"
            ]
          },
          "metadata": {},
          "output_type": "display_data"
        },
        {
          "data": {
            "application/vnd.jupyter.widget-view+json": {
              "model_id": "50f508e9cef7413fae8948845c2ebfbe",
              "version_major": 2,
              "version_minor": 0
            },
            "text/plain": [
              "Epoch 0/15 | BestEp 0/15:   0%|          | 0/15 [00:00<?, ?it/s]"
            ]
          },
          "metadata": {},
          "output_type": "display_data"
        },
        {
          "data": {
            "application/vnd.jupyter.widget-view+json": {
              "model_id": "f02d1b8206354fa49cd95dac22ed3b77",
              "version_major": 2,
              "version_minor": 0
            },
            "text/plain": [
              "Epoch 0/15 | BestEp 0/15:   0%|          | 0/15 [00:00<?, ?it/s]"
            ]
          },
          "metadata": {},
          "output_type": "display_data"
        },
        {
          "data": {
            "application/vnd.jupyter.widget-view+json": {
              "model_id": "c4aa3ba362f144f0b8cbab0d27005686",
              "version_major": 2,
              "version_minor": 0
            },
            "text/plain": [
              "Epoch 0/15 | BestEp 0/15:   0%|          | 0/15 [00:00<?, ?it/s]"
            ]
          },
          "metadata": {},
          "output_type": "display_data"
        },
        {
          "data": {
            "application/vnd.jupyter.widget-view+json": {
              "model_id": "8381973ec02144a6b2e0012398f9ba2f",
              "version_major": 2,
              "version_minor": 0
            },
            "text/plain": [
              "Epoch 0/15 | BestEp 0/15:   0%|          | 0/15 [00:00<?, ?it/s]"
            ]
          },
          "metadata": {},
          "output_type": "display_data"
        },
        {
          "data": {
            "application/vnd.jupyter.widget-view+json": {
              "model_id": "cd3ff5279ad2454cb0ac97499df8c417",
              "version_major": 2,
              "version_minor": 0
            },
            "text/plain": [
              "Epoch 0/15 | BestEp 0/15:   0%|          | 0/15 [00:00<?, ?it/s]"
            ]
          },
          "metadata": {},
          "output_type": "display_data"
        },
        {
          "data": {
            "application/vnd.jupyter.widget-view+json": {
              "model_id": "34fa195cfb8e4cebac73dcf153e0a8fe",
              "version_major": 2,
              "version_minor": 0
            },
            "text/plain": [
              "Epoch 0/15 | BestEp 0/15:   0%|          | 0/15 [00:00<?, ?it/s]"
            ]
          },
          "metadata": {},
          "output_type": "display_data"
        },
        {
          "data": {
            "application/vnd.jupyter.widget-view+json": {
              "model_id": "fd7006a566a04f0ab8c095d059d6cae0",
              "version_major": 2,
              "version_minor": 0
            },
            "text/plain": [
              "Epoch 0/15 | BestEp 0/15:   0%|          | 0/15 [00:00<?, ?it/s]"
            ]
          },
          "metadata": {},
          "output_type": "display_data"
        },
        {
          "data": {
            "application/vnd.jupyter.widget-view+json": {
              "model_id": "538f3b245f074bb091aa713b011b489e",
              "version_major": 2,
              "version_minor": 0
            },
            "text/plain": [
              "Epoch 0/15 | BestEp 0/15:   0%|          | 0/15 [00:00<?, ?it/s]"
            ]
          },
          "metadata": {},
          "output_type": "display_data"
        },
        {
          "data": {
            "application/vnd.jupyter.widget-view+json": {
              "model_id": "51992470d41c46aca5a01cddd14cd233",
              "version_major": 2,
              "version_minor": 0
            },
            "text/plain": [
              "Epoch 0/15 | BestEp 0/15:   0%|          | 0/15 [00:00<?, ?it/s]"
            ]
          },
          "metadata": {},
          "output_type": "display_data"
        },
        {
          "data": {
            "application/vnd.jupyter.widget-view+json": {
              "model_id": "06f00d2411c64b3382367a27b73e6fd7",
              "version_major": 2,
              "version_minor": 0
            },
            "text/plain": [
              "Epoch 0/15 | BestEp 0/15:   0%|          | 0/15 [00:00<?, ?it/s]"
            ]
          },
          "metadata": {},
          "output_type": "display_data"
        },
        {
          "data": {
            "application/vnd.jupyter.widget-view+json": {
              "model_id": "280bac5f2c824bc7864284adf3c3f51a",
              "version_major": 2,
              "version_minor": 0
            },
            "text/plain": [
              "Epoch 0/15 | BestEp 0/15:   0%|          | 0/15 [00:00<?, ?it/s]"
            ]
          },
          "metadata": {},
          "output_type": "display_data"
        },
        {
          "data": {
            "application/vnd.jupyter.widget-view+json": {
              "model_id": "97cc8c4dc28a4930b1faab6ef5a015db",
              "version_major": 2,
              "version_minor": 0
            },
            "text/plain": [
              "Epoch 0/15 | BestEp 0/15:   0%|          | 0/15 [00:00<?, ?it/s]"
            ]
          },
          "metadata": {},
          "output_type": "display_data"
        },
        {
          "data": {
            "application/vnd.jupyter.widget-view+json": {
              "model_id": "22223768c3af4fd68a4c29bce28a5cbd",
              "version_major": 2,
              "version_minor": 0
            },
            "text/plain": [
              "Epoch 0/15 | BestEp 0/15:   0%|          | 0/15 [00:00<?, ?it/s]"
            ]
          },
          "metadata": {},
          "output_type": "display_data"
        },
        {
          "data": {
            "application/vnd.jupyter.widget-view+json": {
              "model_id": "6544402ed65045e48d6560fbe1c6340b",
              "version_major": 2,
              "version_minor": 0
            },
            "text/plain": [
              "Epoch 0/15 | BestEp 0/15:   0%|          | 0/15 [00:00<?, ?it/s]"
            ]
          },
          "metadata": {},
          "output_type": "display_data"
        },
        {
          "data": {
            "application/vnd.jupyter.widget-view+json": {
              "model_id": "4d40f3daaa1c4027b43793494f4b7704",
              "version_major": 2,
              "version_minor": 0
            },
            "text/plain": [
              "Epoch 0/15 | BestEp 0/15:   0%|          | 0/15 [00:00<?, ?it/s]"
            ]
          },
          "metadata": {},
          "output_type": "display_data"
        },
        {
          "data": {
            "application/vnd.jupyter.widget-view+json": {
              "model_id": "fe5bc28e86904c32ad136e1a8387c219",
              "version_major": 2,
              "version_minor": 0
            },
            "text/plain": [
              "Epoch 0/15 | BestEp 0/15:   0%|          | 0/15 [00:00<?, ?it/s]"
            ]
          },
          "metadata": {},
          "output_type": "display_data"
        },
        {
          "data": {
            "application/vnd.jupyter.widget-view+json": {
              "model_id": "fb06d5c9e08e43b1b19a79ffc8d0cc84",
              "version_major": 2,
              "version_minor": 0
            },
            "text/plain": [
              "Epoch 0/15 | BestEp 0/15:   0%|          | 0/15 [00:00<?, ?it/s]"
            ]
          },
          "metadata": {},
          "output_type": "display_data"
        },
        {
          "data": {
            "application/vnd.jupyter.widget-view+json": {
              "model_id": "014fba14afd14e0da85ffcdfa53274c0",
              "version_major": 2,
              "version_minor": 0
            },
            "text/plain": [
              "Epoch 0/15 | BestEp 0/15:   0%|          | 0/15 [00:00<?, ?it/s]"
            ]
          },
          "metadata": {},
          "output_type": "display_data"
        },
        {
          "data": {
            "application/vnd.jupyter.widget-view+json": {
              "model_id": "642a2e25a28b41e286d2439c57663eef",
              "version_major": 2,
              "version_minor": 0
            },
            "text/plain": [
              "Epoch 0/15 | BestEp 0/15:   0%|          | 0/15 [00:00<?, ?it/s]"
            ]
          },
          "metadata": {},
          "output_type": "display_data"
        },
        {
          "data": {
            "application/vnd.jupyter.widget-view+json": {
              "model_id": "2592c0ad4e6a47459088409bb217ca72",
              "version_major": 2,
              "version_minor": 0
            },
            "text/plain": [
              "Epoch 0/15 | BestEp 0/15:   0%|          | 0/15 [00:00<?, ?it/s]"
            ]
          },
          "metadata": {},
          "output_type": "display_data"
        },
        {
          "data": {
            "application/vnd.jupyter.widget-view+json": {
              "model_id": "be2f675e7fa9438faee5af703ea53541",
              "version_major": 2,
              "version_minor": 0
            },
            "text/plain": [
              "Epoch 0/15 | BestEp 0/15:   0%|          | 0/15 [00:00<?, ?it/s]"
            ]
          },
          "metadata": {},
          "output_type": "display_data"
        },
        {
          "data": {
            "application/vnd.jupyter.widget-view+json": {
              "model_id": "86a36bdeda7c4ed39340e02fc37e6928",
              "version_major": 2,
              "version_minor": 0
            },
            "text/plain": [
              "Epoch 0/15 | BestEp 0/15:   0%|          | 0/15 [00:00<?, ?it/s]"
            ]
          },
          "metadata": {},
          "output_type": "display_data"
        },
        {
          "data": {
            "application/vnd.jupyter.widget-view+json": {
              "model_id": "490028ae7d6549b0b4b196000b1c14bf",
              "version_major": 2,
              "version_minor": 0
            },
            "text/plain": [
              "Epoch 0/15 | BestEp 0/15:   0%|          | 0/15 [00:00<?, ?it/s]"
            ]
          },
          "metadata": {},
          "output_type": "display_data"
        },
        {
          "data": {
            "application/vnd.jupyter.widget-view+json": {
              "model_id": "750e6660e4cd4912b013aece03b15055",
              "version_major": 2,
              "version_minor": 0
            },
            "text/plain": [
              "Epoch 0/15 | BestEp 0/15:   0%|          | 0/15 [00:00<?, ?it/s]"
            ]
          },
          "metadata": {},
          "output_type": "display_data"
        },
        {
          "data": {
            "application/vnd.jupyter.widget-view+json": {
              "model_id": "5849b31e6a214ce286db6ed1597f859b",
              "version_major": 2,
              "version_minor": 0
            },
            "text/plain": [
              "RegNet-Y-800MF | BestAcc N/A:   0%|          | 0/40 [00:00<?, ?it/s]"
            ]
          },
          "metadata": {},
          "output_type": "display_data"
        },
        {
          "data": {
            "application/vnd.jupyter.widget-view+json": {
              "model_id": "c77696d99ffb4447922c78ed3f195b23",
              "version_major": 2,
              "version_minor": 0
            },
            "text/plain": [
              "Epoch 0/15 | BestEp 0/15:   0%|          | 0/15 [00:00<?, ?it/s]"
            ]
          },
          "metadata": {},
          "output_type": "display_data"
        },
        {
          "data": {
            "application/vnd.jupyter.widget-view+json": {
              "model_id": "d178560717244255a11d1e5ebb14c26e",
              "version_major": 2,
              "version_minor": 0
            },
            "text/plain": [
              "Epoch 0/15 | BestEp 0/15:   0%|          | 0/15 [00:00<?, ?it/s]"
            ]
          },
          "metadata": {},
          "output_type": "display_data"
        },
        {
          "data": {
            "application/vnd.jupyter.widget-view+json": {
              "model_id": "b1382bec57044ebc8950afa0eb94da0d",
              "version_major": 2,
              "version_minor": 0
            },
            "text/plain": [
              "Epoch 0/15 | BestEp 0/15:   0%|          | 0/15 [00:00<?, ?it/s]"
            ]
          },
          "metadata": {},
          "output_type": "display_data"
        },
        {
          "data": {
            "application/vnd.jupyter.widget-view+json": {
              "model_id": "302869861ea24d14a72c2ee89a2eff98",
              "version_major": 2,
              "version_minor": 0
            },
            "text/plain": [
              "Epoch 0/15 | BestEp 0/15:   0%|          | 0/15 [00:00<?, ?it/s]"
            ]
          },
          "metadata": {},
          "output_type": "display_data"
        },
        {
          "data": {
            "application/vnd.jupyter.widget-view+json": {
              "model_id": "72fadeb9a89c415cb378b386d897cb01",
              "version_major": 2,
              "version_minor": 0
            },
            "text/plain": [
              "Epoch 0/15 | BestEp 0/15:   0%|          | 0/15 [00:00<?, ?it/s]"
            ]
          },
          "metadata": {},
          "output_type": "display_data"
        },
        {
          "data": {
            "application/vnd.jupyter.widget-view+json": {
              "model_id": "e3f794c9706b46eaa4cb3faa75ab925c",
              "version_major": 2,
              "version_minor": 0
            },
            "text/plain": [
              "Epoch 0/15 | BestEp 0/15:   0%|          | 0/15 [00:00<?, ?it/s]"
            ]
          },
          "metadata": {},
          "output_type": "display_data"
        },
        {
          "data": {
            "application/vnd.jupyter.widget-view+json": {
              "model_id": "81a20d2d733a4eb6a1354f4adc1ec9bd",
              "version_major": 2,
              "version_minor": 0
            },
            "text/plain": [
              "Epoch 0/15 | BestEp 0/15:   0%|          | 0/15 [00:00<?, ?it/s]"
            ]
          },
          "metadata": {},
          "output_type": "display_data"
        },
        {
          "data": {
            "application/vnd.jupyter.widget-view+json": {
              "model_id": "f592cfcb200a4804bb0096f64069d85a",
              "version_major": 2,
              "version_minor": 0
            },
            "text/plain": [
              "Epoch 0/15 | BestEp 0/15:   0%|          | 0/15 [00:00<?, ?it/s]"
            ]
          },
          "metadata": {},
          "output_type": "display_data"
        },
        {
          "data": {
            "application/vnd.jupyter.widget-view+json": {
              "model_id": "d2bf482e75c945f1818541171e15769f",
              "version_major": 2,
              "version_minor": 0
            },
            "text/plain": [
              "Epoch 0/15 | BestEp 0/15:   0%|          | 0/15 [00:00<?, ?it/s]"
            ]
          },
          "metadata": {},
          "output_type": "display_data"
        },
        {
          "data": {
            "application/vnd.jupyter.widget-view+json": {
              "model_id": "5987e7b12be740adbb51e49f319f4143",
              "version_major": 2,
              "version_minor": 0
            },
            "text/plain": [
              "Epoch 0/15 | BestEp 0/15:   0%|          | 0/15 [00:00<?, ?it/s]"
            ]
          },
          "metadata": {},
          "output_type": "display_data"
        },
        {
          "data": {
            "application/vnd.jupyter.widget-view+json": {
              "model_id": "b2af7b735363455aa33eda77749b48a1",
              "version_major": 2,
              "version_minor": 0
            },
            "text/plain": [
              "Epoch 0/15 | BestEp 0/15:   0%|          | 0/15 [00:00<?, ?it/s]"
            ]
          },
          "metadata": {},
          "output_type": "display_data"
        },
        {
          "data": {
            "application/vnd.jupyter.widget-view+json": {
              "model_id": "aadf52b92e2947d583c6a3012b6a3b63",
              "version_major": 2,
              "version_minor": 0
            },
            "text/plain": [
              "Epoch 0/15 | BestEp 0/15:   0%|          | 0/15 [00:00<?, ?it/s]"
            ]
          },
          "metadata": {},
          "output_type": "display_data"
        },
        {
          "data": {
            "application/vnd.jupyter.widget-view+json": {
              "model_id": "63cddac5d47c474aa53463d0c3864ade",
              "version_major": 2,
              "version_minor": 0
            },
            "text/plain": [
              "Epoch 0/15 | BestEp 0/15:   0%|          | 0/15 [00:00<?, ?it/s]"
            ]
          },
          "metadata": {},
          "output_type": "display_data"
        },
        {
          "data": {
            "application/vnd.jupyter.widget-view+json": {
              "model_id": "0da65a48296e4080827490987e7dbf4a",
              "version_major": 2,
              "version_minor": 0
            },
            "text/plain": [
              "Epoch 0/15 | BestEp 0/15:   0%|          | 0/15 [00:00<?, ?it/s]"
            ]
          },
          "metadata": {},
          "output_type": "display_data"
        },
        {
          "data": {
            "application/vnd.jupyter.widget-view+json": {
              "model_id": "cdcf98ba472547d0928bd7b32eae8746",
              "version_major": 2,
              "version_minor": 0
            },
            "text/plain": [
              "Epoch 0/15 | BestEp 0/15:   0%|          | 0/15 [00:00<?, ?it/s]"
            ]
          },
          "metadata": {},
          "output_type": "display_data"
        },
        {
          "data": {
            "application/vnd.jupyter.widget-view+json": {
              "model_id": "d7e26c74228c4d68a1511828bab2075a",
              "version_major": 2,
              "version_minor": 0
            },
            "text/plain": [
              "Epoch 0/15 | BestEp 0/15:   0%|          | 0/15 [00:00<?, ?it/s]"
            ]
          },
          "metadata": {},
          "output_type": "display_data"
        },
        {
          "data": {
            "application/vnd.jupyter.widget-view+json": {
              "model_id": "86fcb80ac1be4f47b505d9336f3261bb",
              "version_major": 2,
              "version_minor": 0
            },
            "text/plain": [
              "Epoch 0/15 | BestEp 0/15:   0%|          | 0/15 [00:00<?, ?it/s]"
            ]
          },
          "metadata": {},
          "output_type": "display_data"
        },
        {
          "data": {
            "application/vnd.jupyter.widget-view+json": {
              "model_id": "e2e000784aa542d5b81f4cc15b059fed",
              "version_major": 2,
              "version_minor": 0
            },
            "text/plain": [
              "Epoch 0/15 | BestEp 0/15:   0%|          | 0/15 [00:00<?, ?it/s]"
            ]
          },
          "metadata": {},
          "output_type": "display_data"
        },
        {
          "data": {
            "application/vnd.jupyter.widget-view+json": {
              "model_id": "66f90118fc0d4d13b9fb0f938f5cf561",
              "version_major": 2,
              "version_minor": 0
            },
            "text/plain": [
              "Epoch 0/15 | BestEp 0/15:   0%|          | 0/15 [00:00<?, ?it/s]"
            ]
          },
          "metadata": {},
          "output_type": "display_data"
        },
        {
          "data": {
            "application/vnd.jupyter.widget-view+json": {
              "model_id": "d3ac7ac153e849ddb0a1c9049214a5f4",
              "version_major": 2,
              "version_minor": 0
            },
            "text/plain": [
              "Epoch 0/15 | BestEp 0/15:   0%|          | 0/15 [00:00<?, ?it/s]"
            ]
          },
          "metadata": {},
          "output_type": "display_data"
        },
        {
          "data": {
            "application/vnd.jupyter.widget-view+json": {
              "model_id": "d4264f1b6fee4d67a81e8c0bed8b6423",
              "version_major": 2,
              "version_minor": 0
            },
            "text/plain": [
              "Epoch 0/15 | BestEp 0/15:   0%|          | 0/15 [00:00<?, ?it/s]"
            ]
          },
          "metadata": {},
          "output_type": "display_data"
        },
        {
          "data": {
            "application/vnd.jupyter.widget-view+json": {
              "model_id": "b2a06a089dfe46a592215b96bab62dd1",
              "version_major": 2,
              "version_minor": 0
            },
            "text/plain": [
              "Epoch 0/15 | BestEp 0/15:   0%|          | 0/15 [00:00<?, ?it/s]"
            ]
          },
          "metadata": {},
          "output_type": "display_data"
        },
        {
          "data": {
            "application/vnd.jupyter.widget-view+json": {
              "model_id": "291a48a96afc4ba9b42f6396087a2fd3",
              "version_major": 2,
              "version_minor": 0
            },
            "text/plain": [
              "Epoch 0/15 | BestEp 0/15:   0%|          | 0/15 [00:00<?, ?it/s]"
            ]
          },
          "metadata": {},
          "output_type": "display_data"
        },
        {
          "data": {
            "application/vnd.jupyter.widget-view+json": {
              "model_id": "dd5ba7caa994412e913c2160c91eaab9",
              "version_major": 2,
              "version_minor": 0
            },
            "text/plain": [
              "Epoch 0/15 | BestEp 0/15:   0%|          | 0/15 [00:00<?, ?it/s]"
            ]
          },
          "metadata": {},
          "output_type": "display_data"
        },
        {
          "data": {
            "application/vnd.jupyter.widget-view+json": {
              "model_id": "59c9a1bd86b14f02b04b6d0d084bd9cb",
              "version_major": 2,
              "version_minor": 0
            },
            "text/plain": [
              "Epoch 0/15 | BestEp 0/15:   0%|          | 0/15 [00:00<?, ?it/s]"
            ]
          },
          "metadata": {},
          "output_type": "display_data"
        },
        {
          "data": {
            "application/vnd.jupyter.widget-view+json": {
              "model_id": "9753c61edd9d496eaa7ee2c32aeb997c",
              "version_major": 2,
              "version_minor": 0
            },
            "text/plain": [
              "Epoch 0/15 | BestEp 0/15:   0%|          | 0/15 [00:00<?, ?it/s]"
            ]
          },
          "metadata": {},
          "output_type": "display_data"
        },
        {
          "data": {
            "application/vnd.jupyter.widget-view+json": {
              "model_id": "e8aebb073549498193b102668cb36229",
              "version_major": 2,
              "version_minor": 0
            },
            "text/plain": [
              "Epoch 0/15 | BestEp 0/15:   0%|          | 0/15 [00:00<?, ?it/s]"
            ]
          },
          "metadata": {},
          "output_type": "display_data"
        },
        {
          "data": {
            "application/vnd.jupyter.widget-view+json": {
              "model_id": "3bc5bc200f4c44c98891365436a23999",
              "version_major": 2,
              "version_minor": 0
            },
            "text/plain": [
              "Epoch 0/15 | BestEp 0/15:   0%|          | 0/15 [00:00<?, ?it/s]"
            ]
          },
          "metadata": {},
          "output_type": "display_data"
        },
        {
          "data": {
            "application/vnd.jupyter.widget-view+json": {
              "model_id": "623a29efdad94f9aba0d8be66104fbcf",
              "version_major": 2,
              "version_minor": 0
            },
            "text/plain": [
              "Epoch 0/15 | BestEp 0/15:   0%|          | 0/15 [00:00<?, ?it/s]"
            ]
          },
          "metadata": {},
          "output_type": "display_data"
        },
        {
          "data": {
            "application/vnd.jupyter.widget-view+json": {
              "model_id": "cd1e356816aa470b808cb0b48581fa5e",
              "version_major": 2,
              "version_minor": 0
            },
            "text/plain": [
              "Epoch 0/15 | BestEp 0/15:   0%|          | 0/15 [00:00<?, ?it/s]"
            ]
          },
          "metadata": {},
          "output_type": "display_data"
        },
        {
          "data": {
            "application/vnd.jupyter.widget-view+json": {
              "model_id": "8540b887c0da465ca19a1484aef48e8e",
              "version_major": 2,
              "version_minor": 0
            },
            "text/plain": [
              "Epoch 0/15 | BestEp 0/15:   0%|          | 0/15 [00:00<?, ?it/s]"
            ]
          },
          "metadata": {},
          "output_type": "display_data"
        },
        {
          "data": {
            "application/vnd.jupyter.widget-view+json": {
              "model_id": "ab0ab51b4fb340689ad12c884a9e8bef",
              "version_major": 2,
              "version_minor": 0
            },
            "text/plain": [
              "Epoch 0/15 | BestEp 0/15:   0%|          | 0/15 [00:00<?, ?it/s]"
            ]
          },
          "metadata": {},
          "output_type": "display_data"
        },
        {
          "data": {
            "application/vnd.jupyter.widget-view+json": {
              "model_id": "e242630e691a474cba30a8837a441550",
              "version_major": 2,
              "version_minor": 0
            },
            "text/plain": [
              "Epoch 0/15 | BestEp 0/15:   0%|          | 0/15 [00:00<?, ?it/s]"
            ]
          },
          "metadata": {},
          "output_type": "display_data"
        },
        {
          "data": {
            "application/vnd.jupyter.widget-view+json": {
              "model_id": "47b58621119a434abf1b681a8199dbc1",
              "version_major": 2,
              "version_minor": 0
            },
            "text/plain": [
              "Epoch 0/15 | BestEp 0/15:   0%|          | 0/15 [00:00<?, ?it/s]"
            ]
          },
          "metadata": {},
          "output_type": "display_data"
        },
        {
          "data": {
            "application/vnd.jupyter.widget-view+json": {
              "model_id": "df9fd650fca74b579d601408aa481d5e",
              "version_major": 2,
              "version_minor": 0
            },
            "text/plain": [
              "Epoch 0/15 | BestEp 0/15:   0%|          | 0/15 [00:00<?, ?it/s]"
            ]
          },
          "metadata": {},
          "output_type": "display_data"
        },
        {
          "data": {
            "application/vnd.jupyter.widget-view+json": {
              "model_id": "41719ea3ebde43849d0aeef36f450866",
              "version_major": 2,
              "version_minor": 0
            },
            "text/plain": [
              "Epoch 0/15 | BestEp 0/15:   0%|          | 0/15 [00:00<?, ?it/s]"
            ]
          },
          "metadata": {},
          "output_type": "display_data"
        },
        {
          "data": {
            "application/vnd.jupyter.widget-view+json": {
              "model_id": "b6bab0009ced41a6a0f011e8d2994155",
              "version_major": 2,
              "version_minor": 0
            },
            "text/plain": [
              "Epoch 0/15 | BestEp 0/15:   0%|          | 0/15 [00:00<?, ?it/s]"
            ]
          },
          "metadata": {},
          "output_type": "display_data"
        },
        {
          "data": {
            "application/vnd.jupyter.widget-view+json": {
              "model_id": "bafaac197946421f9bdc71e78dfcffb4",
              "version_major": 2,
              "version_minor": 0
            },
            "text/plain": [
              "Epoch 0/15 | BestEp 0/15:   0%|          | 0/15 [00:00<?, ?it/s]"
            ]
          },
          "metadata": {},
          "output_type": "display_data"
        },
        {
          "data": {
            "application/vnd.jupyter.widget-view+json": {
              "model_id": "3045d2a1bd274470a57ff1ba5f8d4046",
              "version_major": 2,
              "version_minor": 0
            },
            "text/plain": [
              "Epoch 0/15 | BestEp 0/15:   0%|          | 0/15 [00:00<?, ?it/s]"
            ]
          },
          "metadata": {},
          "output_type": "display_data"
        },
        {
          "data": {
            "application/vnd.jupyter.widget-view+json": {
              "model_id": "2c8a3cb4c0b94ce4923dec211e177028",
              "version_major": 2,
              "version_minor": 0
            },
            "text/plain": [
              "Epoch 0/15 | BestEp 0/15:   0%|          | 0/15 [00:00<?, ?it/s]"
            ]
          },
          "metadata": {},
          "output_type": "display_data"
        },
        {
          "data": {
            "application/vnd.jupyter.widget-view+json": {
              "model_id": "f6a93403a13f49e58816eab01b329a09",
              "version_major": 2,
              "version_minor": 0
            },
            "text/plain": [
              "DenseNet-121 | BestAcc N/A:   0%|          | 0/40 [00:00<?, ?it/s]"
            ]
          },
          "metadata": {},
          "output_type": "display_data"
        },
        {
          "data": {
            "application/vnd.jupyter.widget-view+json": {
              "model_id": "4dffa1a193c74f4d87a9cf47094ebaf8",
              "version_major": 2,
              "version_minor": 0
            },
            "text/plain": [
              "Epoch 0/15 | BestEp 0/15:   0%|          | 0/15 [00:00<?, ?it/s]"
            ]
          },
          "metadata": {},
          "output_type": "display_data"
        },
        {
          "data": {
            "application/vnd.jupyter.widget-view+json": {
              "model_id": "9289fd0283fe4dea98059c308b9152c8",
              "version_major": 2,
              "version_minor": 0
            },
            "text/plain": [
              "Epoch 0/15 | BestEp 0/15:   0%|          | 0/15 [00:00<?, ?it/s]"
            ]
          },
          "metadata": {},
          "output_type": "display_data"
        },
        {
          "data": {
            "application/vnd.jupyter.widget-view+json": {
              "model_id": "3ab9f16732f748289d999bd8db97d849",
              "version_major": 2,
              "version_minor": 0
            },
            "text/plain": [
              "Epoch 0/15 | BestEp 0/15:   0%|          | 0/15 [00:00<?, ?it/s]"
            ]
          },
          "metadata": {},
          "output_type": "display_data"
        },
        {
          "data": {
            "application/vnd.jupyter.widget-view+json": {
              "model_id": "73ddbfe5b13c4301b14415da69d0d99f",
              "version_major": 2,
              "version_minor": 0
            },
            "text/plain": [
              "Epoch 0/15 | BestEp 0/15:   0%|          | 0/15 [00:00<?, ?it/s]"
            ]
          },
          "metadata": {},
          "output_type": "display_data"
        },
        {
          "data": {
            "application/vnd.jupyter.widget-view+json": {
              "model_id": "70d8a6c5b02740fc8f396895dde2f29c",
              "version_major": 2,
              "version_minor": 0
            },
            "text/plain": [
              "Epoch 0/15 | BestEp 0/15:   0%|          | 0/15 [00:00<?, ?it/s]"
            ]
          },
          "metadata": {},
          "output_type": "display_data"
        },
        {
          "data": {
            "application/vnd.jupyter.widget-view+json": {
              "model_id": "86166b79c6294c2a9d5db06385779462",
              "version_major": 2,
              "version_minor": 0
            },
            "text/plain": [
              "Epoch 0/15 | BestEp 0/15:   0%|          | 0/15 [00:00<?, ?it/s]"
            ]
          },
          "metadata": {},
          "output_type": "display_data"
        },
        {
          "data": {
            "application/vnd.jupyter.widget-view+json": {
              "model_id": "41a905de38b64d4a93cfa695312dac29",
              "version_major": 2,
              "version_minor": 0
            },
            "text/plain": [
              "Epoch 0/15 | BestEp 0/15:   0%|          | 0/15 [00:00<?, ?it/s]"
            ]
          },
          "metadata": {},
          "output_type": "display_data"
        },
        {
          "data": {
            "application/vnd.jupyter.widget-view+json": {
              "model_id": "f7c133d0e01d4d359bbdc85e1cb68d6e",
              "version_major": 2,
              "version_minor": 0
            },
            "text/plain": [
              "Epoch 0/15 | BestEp 0/15:   0%|          | 0/15 [00:00<?, ?it/s]"
            ]
          },
          "metadata": {},
          "output_type": "display_data"
        },
        {
          "data": {
            "application/vnd.jupyter.widget-view+json": {
              "model_id": "045fc1b12bbf434593f083736375dd4f",
              "version_major": 2,
              "version_minor": 0
            },
            "text/plain": [
              "Epoch 0/15 | BestEp 0/15:   0%|          | 0/15 [00:00<?, ?it/s]"
            ]
          },
          "metadata": {},
          "output_type": "display_data"
        },
        {
          "data": {
            "application/vnd.jupyter.widget-view+json": {
              "model_id": "fa434c4ac25a4d4a85aca294cc9df572",
              "version_major": 2,
              "version_minor": 0
            },
            "text/plain": [
              "Epoch 0/15 | BestEp 0/15:   0%|          | 0/15 [00:00<?, ?it/s]"
            ]
          },
          "metadata": {},
          "output_type": "display_data"
        },
        {
          "data": {
            "application/vnd.jupyter.widget-view+json": {
              "model_id": "9bbd7f35e8dc46e5a5ab806cb5b7167e",
              "version_major": 2,
              "version_minor": 0
            },
            "text/plain": [
              "Epoch 0/15 | BestEp 0/15:   0%|          | 0/15 [00:00<?, ?it/s]"
            ]
          },
          "metadata": {},
          "output_type": "display_data"
        },
        {
          "data": {
            "application/vnd.jupyter.widget-view+json": {
              "model_id": "ccdfd5cecc8e41cbae2c8025292ef727",
              "version_major": 2,
              "version_minor": 0
            },
            "text/plain": [
              "Epoch 0/15 | BestEp 0/15:   0%|          | 0/15 [00:00<?, ?it/s]"
            ]
          },
          "metadata": {},
          "output_type": "display_data"
        },
        {
          "data": {
            "application/vnd.jupyter.widget-view+json": {
              "model_id": "7896eab1e19e4e0195a57157aea9d020",
              "version_major": 2,
              "version_minor": 0
            },
            "text/plain": [
              "Epoch 0/15 | BestEp 0/15:   0%|          | 0/15 [00:00<?, ?it/s]"
            ]
          },
          "metadata": {},
          "output_type": "display_data"
        },
        {
          "data": {
            "application/vnd.jupyter.widget-view+json": {
              "model_id": "58d3550c3e7c45e4b77ce19ae50c8137",
              "version_major": 2,
              "version_minor": 0
            },
            "text/plain": [
              "Epoch 0/15 | BestEp 0/15:   0%|          | 0/15 [00:00<?, ?it/s]"
            ]
          },
          "metadata": {},
          "output_type": "display_data"
        },
        {
          "data": {
            "application/vnd.jupyter.widget-view+json": {
              "model_id": "59ba736cdad741e89043b278f5bb7dc8",
              "version_major": 2,
              "version_minor": 0
            },
            "text/plain": [
              "Epoch 0/15 | BestEp 0/15:   0%|          | 0/15 [00:00<?, ?it/s]"
            ]
          },
          "metadata": {},
          "output_type": "display_data"
        },
        {
          "data": {
            "application/vnd.jupyter.widget-view+json": {
              "model_id": "631b9ba4eb134272b5368d9c4178754f",
              "version_major": 2,
              "version_minor": 0
            },
            "text/plain": [
              "Epoch 0/15 | BestEp 0/15:   0%|          | 0/15 [00:00<?, ?it/s]"
            ]
          },
          "metadata": {},
          "output_type": "display_data"
        },
        {
          "data": {
            "application/vnd.jupyter.widget-view+json": {
              "model_id": "a2666c4207da4765a641192bffd9f3b3",
              "version_major": 2,
              "version_minor": 0
            },
            "text/plain": [
              "Epoch 0/15 | BestEp 0/15:   0%|          | 0/15 [00:00<?, ?it/s]"
            ]
          },
          "metadata": {},
          "output_type": "display_data"
        },
        {
          "data": {
            "application/vnd.jupyter.widget-view+json": {
              "model_id": "a3dc1c6de7154876aec05dd67daac7c6",
              "version_major": 2,
              "version_minor": 0
            },
            "text/plain": [
              "Epoch 0/15 | BestEp 0/15:   0%|          | 0/15 [00:00<?, ?it/s]"
            ]
          },
          "metadata": {},
          "output_type": "display_data"
        },
        {
          "data": {
            "application/vnd.jupyter.widget-view+json": {
              "model_id": "f9512c7395bb40e5ad57308df94602a8",
              "version_major": 2,
              "version_minor": 0
            },
            "text/plain": [
              "Epoch 0/15 | BestEp 0/15:   0%|          | 0/15 [00:00<?, ?it/s]"
            ]
          },
          "metadata": {},
          "output_type": "display_data"
        },
        {
          "data": {
            "application/vnd.jupyter.widget-view+json": {
              "model_id": "2879325aa0e64e76a9cc0d7f8ec48e29",
              "version_major": 2,
              "version_minor": 0
            },
            "text/plain": [
              "Epoch 0/15 | BestEp 0/15:   0%|          | 0/15 [00:00<?, ?it/s]"
            ]
          },
          "metadata": {},
          "output_type": "display_data"
        },
        {
          "data": {
            "application/vnd.jupyter.widget-view+json": {
              "model_id": "cd9dad4d42914503a19bb6b767082f02",
              "version_major": 2,
              "version_minor": 0
            },
            "text/plain": [
              "Epoch 0/15 | BestEp 0/15:   0%|          | 0/15 [00:00<?, ?it/s]"
            ]
          },
          "metadata": {},
          "output_type": "display_data"
        },
        {
          "data": {
            "application/vnd.jupyter.widget-view+json": {
              "model_id": "8b9a6951b6ec4071bb0894f0094ef6b0",
              "version_major": 2,
              "version_minor": 0
            },
            "text/plain": [
              "Epoch 0/15 | BestEp 0/15:   0%|          | 0/15 [00:00<?, ?it/s]"
            ]
          },
          "metadata": {},
          "output_type": "display_data"
        },
        {
          "data": {
            "application/vnd.jupyter.widget-view+json": {
              "model_id": "77f302c5a2fa486c8a093dba34b9eb7a",
              "version_major": 2,
              "version_minor": 0
            },
            "text/plain": [
              "Epoch 0/15 | BestEp 0/15:   0%|          | 0/15 [00:00<?, ?it/s]"
            ]
          },
          "metadata": {},
          "output_type": "display_data"
        },
        {
          "data": {
            "application/vnd.jupyter.widget-view+json": {
              "model_id": "83f89f84809b44edbe84e3ab2dd8e279",
              "version_major": 2,
              "version_minor": 0
            },
            "text/plain": [
              "Epoch 0/15 | BestEp 0/15:   0%|          | 0/15 [00:00<?, ?it/s]"
            ]
          },
          "metadata": {},
          "output_type": "display_data"
        },
        {
          "data": {
            "application/vnd.jupyter.widget-view+json": {
              "model_id": "d19942da4cd04f098797b735a3f16792",
              "version_major": 2,
              "version_minor": 0
            },
            "text/plain": [
              "Epoch 0/15 | BestEp 0/15:   0%|          | 0/15 [00:00<?, ?it/s]"
            ]
          },
          "metadata": {},
          "output_type": "display_data"
        },
        {
          "data": {
            "application/vnd.jupyter.widget-view+json": {
              "model_id": "8390bb4a797240fe954e1bb9c99cb07f",
              "version_major": 2,
              "version_minor": 0
            },
            "text/plain": [
              "Epoch 0/15 | BestEp 0/15:   0%|          | 0/15 [00:00<?, ?it/s]"
            ]
          },
          "metadata": {},
          "output_type": "display_data"
        },
        {
          "data": {
            "application/vnd.jupyter.widget-view+json": {
              "model_id": "85040010f7a34fe68ac3522ca32a4d31",
              "version_major": 2,
              "version_minor": 0
            },
            "text/plain": [
              "Epoch 0/15 | BestEp 0/15:   0%|          | 0/15 [00:00<?, ?it/s]"
            ]
          },
          "metadata": {},
          "output_type": "display_data"
        },
        {
          "data": {
            "application/vnd.jupyter.widget-view+json": {
              "model_id": "be83597b45eb441591b69adbbc87c4b6",
              "version_major": 2,
              "version_minor": 0
            },
            "text/plain": [
              "Epoch 0/15 | BestEp 0/15:   0%|          | 0/15 [00:00<?, ?it/s]"
            ]
          },
          "metadata": {},
          "output_type": "display_data"
        },
        {
          "data": {
            "application/vnd.jupyter.widget-view+json": {
              "model_id": "17832cca356f443c845ae3aa7a38225f",
              "version_major": 2,
              "version_minor": 0
            },
            "text/plain": [
              "Epoch 0/15 | BestEp 0/15:   0%|          | 0/15 [00:00<?, ?it/s]"
            ]
          },
          "metadata": {},
          "output_type": "display_data"
        },
        {
          "data": {
            "application/vnd.jupyter.widget-view+json": {
              "model_id": "0b852572594b423dbcc5edfef219ae1b",
              "version_major": 2,
              "version_minor": 0
            },
            "text/plain": [
              "Epoch 0/15 | BestEp 0/15:   0%|          | 0/15 [00:00<?, ?it/s]"
            ]
          },
          "metadata": {},
          "output_type": "display_data"
        },
        {
          "data": {
            "application/vnd.jupyter.widget-view+json": {
              "model_id": "d49161ebe48b4a40919cd9c8d8b3b7be",
              "version_major": 2,
              "version_minor": 0
            },
            "text/plain": [
              "Epoch 0/15 | BestEp 0/15:   0%|          | 0/15 [00:00<?, ?it/s]"
            ]
          },
          "metadata": {},
          "output_type": "display_data"
        },
        {
          "data": {
            "application/vnd.jupyter.widget-view+json": {
              "model_id": "8561f30648654392bb8422e6c760ab08",
              "version_major": 2,
              "version_minor": 0
            },
            "text/plain": [
              "Epoch 0/15 | BestEp 0/15:   0%|          | 0/15 [00:00<?, ?it/s]"
            ]
          },
          "metadata": {},
          "output_type": "display_data"
        },
        {
          "data": {
            "application/vnd.jupyter.widget-view+json": {
              "model_id": "de32d8055e2c4a93ad403c96fd9e4dfc",
              "version_major": 2,
              "version_minor": 0
            },
            "text/plain": [
              "Epoch 0/15 | BestEp 0/15:   0%|          | 0/15 [00:00<?, ?it/s]"
            ]
          },
          "metadata": {},
          "output_type": "display_data"
        },
        {
          "data": {
            "application/vnd.jupyter.widget-view+json": {
              "model_id": "8ec3c47f0441418585053d34a80b7288",
              "version_major": 2,
              "version_minor": 0
            },
            "text/plain": [
              "Epoch 0/15 | BestEp 0/15:   0%|          | 0/15 [00:00<?, ?it/s]"
            ]
          },
          "metadata": {},
          "output_type": "display_data"
        },
        {
          "data": {
            "application/vnd.jupyter.widget-view+json": {
              "model_id": "cc8feb926e18499faca4e2a7a481629f",
              "version_major": 2,
              "version_minor": 0
            },
            "text/plain": [
              "Epoch 0/15 | BestEp 0/15:   0%|          | 0/15 [00:00<?, ?it/s]"
            ]
          },
          "metadata": {},
          "output_type": "display_data"
        },
        {
          "data": {
            "application/vnd.jupyter.widget-view+json": {
              "model_id": "132b3694d48d484095c7e84d8c5cd201",
              "version_major": 2,
              "version_minor": 0
            },
            "text/plain": [
              "Epoch 0/15 | BestEp 0/15:   0%|          | 0/15 [00:00<?, ?it/s]"
            ]
          },
          "metadata": {},
          "output_type": "display_data"
        },
        {
          "data": {
            "application/vnd.jupyter.widget-view+json": {
              "model_id": "347a91464c8e48ed80188e27469caaec",
              "version_major": 2,
              "version_minor": 0
            },
            "text/plain": [
              "Epoch 0/15 | BestEp 0/15:   0%|          | 0/15 [00:00<?, ?it/s]"
            ]
          },
          "metadata": {},
          "output_type": "display_data"
        },
        {
          "data": {
            "application/vnd.jupyter.widget-view+json": {
              "model_id": "d8f9aae8cfc0442fb8e289cffed19d5a",
              "version_major": 2,
              "version_minor": 0
            },
            "text/plain": [
              "Epoch 0/15 | BestEp 0/15:   0%|          | 0/15 [00:00<?, ?it/s]"
            ]
          },
          "metadata": {},
          "output_type": "display_data"
        },
        {
          "data": {
            "application/vnd.jupyter.widget-view+json": {
              "model_id": "20fe74d0638a4e6fa258e7a9c5032368",
              "version_major": 2,
              "version_minor": 0
            },
            "text/plain": [
              "Epoch 0/15 | BestEp 0/15:   0%|          | 0/15 [00:00<?, ?it/s]"
            ]
          },
          "metadata": {},
          "output_type": "display_data"
        },
        {
          "data": {
            "application/vnd.jupyter.widget-view+json": {
              "model_id": "6d299b04a044427493a158c2a6c69f62",
              "version_major": 2,
              "version_minor": 0
            },
            "text/plain": [
              "Epoch 0/15 | BestEp 0/15:   0%|          | 0/15 [00:00<?, ?it/s]"
            ]
          },
          "metadata": {},
          "output_type": "display_data"
        },
        {
          "data": {
            "application/vnd.jupyter.widget-view+json": {
              "model_id": "8eaeb1c15cd14ea2ae787dbbeee58a1f",
              "version_major": 2,
              "version_minor": 0
            },
            "text/plain": [
              "ResNet-50 | BestAcc N/A:   0%|          | 0/40 [00:00<?, ?it/s]"
            ]
          },
          "metadata": {},
          "output_type": "display_data"
        },
        {
          "data": {
            "application/vnd.jupyter.widget-view+json": {
              "model_id": "a3778748d24f47ae8216d8a021421302",
              "version_major": 2,
              "version_minor": 0
            },
            "text/plain": [
              "Epoch 0/15 | BestEp 0/15:   0%|          | 0/15 [00:00<?, ?it/s]"
            ]
          },
          "metadata": {},
          "output_type": "display_data"
        },
        {
          "data": {
            "application/vnd.jupyter.widget-view+json": {
              "model_id": "54a4bedacaec49a98467e24d620aecae",
              "version_major": 2,
              "version_minor": 0
            },
            "text/plain": [
              "Epoch 0/15 | BestEp 0/15:   0%|          | 0/15 [00:00<?, ?it/s]"
            ]
          },
          "metadata": {},
          "output_type": "display_data"
        },
        {
          "data": {
            "application/vnd.jupyter.widget-view+json": {
              "model_id": "206234b0db704f9795f81d99f3e9923f",
              "version_major": 2,
              "version_minor": 0
            },
            "text/plain": [
              "Epoch 0/15 | BestEp 0/15:   0%|          | 0/15 [00:00<?, ?it/s]"
            ]
          },
          "metadata": {},
          "output_type": "display_data"
        },
        {
          "data": {
            "application/vnd.jupyter.widget-view+json": {
              "model_id": "c04cd40dc4354db59b3eada1d956cb5e",
              "version_major": 2,
              "version_minor": 0
            },
            "text/plain": [
              "Epoch 0/15 | BestEp 0/15:   0%|          | 0/15 [00:00<?, ?it/s]"
            ]
          },
          "metadata": {},
          "output_type": "display_data"
        },
        {
          "data": {
            "application/vnd.jupyter.widget-view+json": {
              "model_id": "b92739e78a494e9692451732282d580e",
              "version_major": 2,
              "version_minor": 0
            },
            "text/plain": [
              "Epoch 0/15 | BestEp 0/15:   0%|          | 0/15 [00:00<?, ?it/s]"
            ]
          },
          "metadata": {},
          "output_type": "display_data"
        },
        {
          "data": {
            "application/vnd.jupyter.widget-view+json": {
              "model_id": "8ccd71083035408980857daae57e01b0",
              "version_major": 2,
              "version_minor": 0
            },
            "text/plain": [
              "Epoch 0/15 | BestEp 0/15:   0%|          | 0/15 [00:00<?, ?it/s]"
            ]
          },
          "metadata": {},
          "output_type": "display_data"
        },
        {
          "data": {
            "application/vnd.jupyter.widget-view+json": {
              "model_id": "36438bd71b9648bd9d7e0ddd25e1f94f",
              "version_major": 2,
              "version_minor": 0
            },
            "text/plain": [
              "Epoch 0/15 | BestEp 0/15:   0%|          | 0/15 [00:00<?, ?it/s]"
            ]
          },
          "metadata": {},
          "output_type": "display_data"
        },
        {
          "data": {
            "application/vnd.jupyter.widget-view+json": {
              "model_id": "5bb514159dae438383b5516dccbddcda",
              "version_major": 2,
              "version_minor": 0
            },
            "text/plain": [
              "Epoch 0/15 | BestEp 0/15:   0%|          | 0/15 [00:00<?, ?it/s]"
            ]
          },
          "metadata": {},
          "output_type": "display_data"
        },
        {
          "data": {
            "application/vnd.jupyter.widget-view+json": {
              "model_id": "5a496de8810c4745b3fc27ffad45549e",
              "version_major": 2,
              "version_minor": 0
            },
            "text/plain": [
              "Epoch 0/15 | BestEp 0/15:   0%|          | 0/15 [00:00<?, ?it/s]"
            ]
          },
          "metadata": {},
          "output_type": "display_data"
        },
        {
          "data": {
            "application/vnd.jupyter.widget-view+json": {
              "model_id": "3ede80df4810484ebab88bd76d0b5826",
              "version_major": 2,
              "version_minor": 0
            },
            "text/plain": [
              "Epoch 0/15 | BestEp 0/15:   0%|          | 0/15 [00:00<?, ?it/s]"
            ]
          },
          "metadata": {},
          "output_type": "display_data"
        },
        {
          "data": {
            "application/vnd.jupyter.widget-view+json": {
              "model_id": "ddaeeb89da934f9f8e87eb727e1f45fa",
              "version_major": 2,
              "version_minor": 0
            },
            "text/plain": [
              "Epoch 0/15 | BestEp 0/15:   0%|          | 0/15 [00:00<?, ?it/s]"
            ]
          },
          "metadata": {},
          "output_type": "display_data"
        },
        {
          "data": {
            "application/vnd.jupyter.widget-view+json": {
              "model_id": "86bd11607c8244bca9536f27eab899a1",
              "version_major": 2,
              "version_minor": 0
            },
            "text/plain": [
              "Epoch 0/15 | BestEp 0/15:   0%|          | 0/15 [00:00<?, ?it/s]"
            ]
          },
          "metadata": {},
          "output_type": "display_data"
        },
        {
          "data": {
            "application/vnd.jupyter.widget-view+json": {
              "model_id": "8cb131ebab0945fbaaea465940c1c089",
              "version_major": 2,
              "version_minor": 0
            },
            "text/plain": [
              "Epoch 0/15 | BestEp 0/15:   0%|          | 0/15 [00:00<?, ?it/s]"
            ]
          },
          "metadata": {},
          "output_type": "display_data"
        },
        {
          "data": {
            "application/vnd.jupyter.widget-view+json": {
              "model_id": "8ce1246d95a94424880b87ec659abca5",
              "version_major": 2,
              "version_minor": 0
            },
            "text/plain": [
              "Epoch 0/15 | BestEp 0/15:   0%|          | 0/15 [00:00<?, ?it/s]"
            ]
          },
          "metadata": {},
          "output_type": "display_data"
        },
        {
          "data": {
            "application/vnd.jupyter.widget-view+json": {
              "model_id": "014d48d470c54210bdd0c4d50c5e12da",
              "version_major": 2,
              "version_minor": 0
            },
            "text/plain": [
              "Epoch 0/15 | BestEp 0/15:   0%|          | 0/15 [00:00<?, ?it/s]"
            ]
          },
          "metadata": {},
          "output_type": "display_data"
        },
        {
          "data": {
            "application/vnd.jupyter.widget-view+json": {
              "model_id": "98d800ea8d3b4350b39c2245fcd23c6a",
              "version_major": 2,
              "version_minor": 0
            },
            "text/plain": [
              "Epoch 0/15 | BestEp 0/15:   0%|          | 0/15 [00:00<?, ?it/s]"
            ]
          },
          "metadata": {},
          "output_type": "display_data"
        },
        {
          "data": {
            "application/vnd.jupyter.widget-view+json": {
              "model_id": "57646408c3e14f77845cec9ff1202fde",
              "version_major": 2,
              "version_minor": 0
            },
            "text/plain": [
              "Epoch 0/15 | BestEp 0/15:   0%|          | 0/15 [00:00<?, ?it/s]"
            ]
          },
          "metadata": {},
          "output_type": "display_data"
        },
        {
          "data": {
            "application/vnd.jupyter.widget-view+json": {
              "model_id": "af180344b7bc476aac1d70da091fa65f",
              "version_major": 2,
              "version_minor": 0
            },
            "text/plain": [
              "Epoch 0/15 | BestEp 0/15:   0%|          | 0/15 [00:00<?, ?it/s]"
            ]
          },
          "metadata": {},
          "output_type": "display_data"
        },
        {
          "data": {
            "application/vnd.jupyter.widget-view+json": {
              "model_id": "098f91281e054e8380d41b62928a1610",
              "version_major": 2,
              "version_minor": 0
            },
            "text/plain": [
              "Epoch 0/15 | BestEp 0/15:   0%|          | 0/15 [00:00<?, ?it/s]"
            ]
          },
          "metadata": {},
          "output_type": "display_data"
        },
        {
          "data": {
            "application/vnd.jupyter.widget-view+json": {
              "model_id": "e1b4c0dbfbe541e1a7fe82ba42059317",
              "version_major": 2,
              "version_minor": 0
            },
            "text/plain": [
              "Epoch 0/15 | BestEp 0/15:   0%|          | 0/15 [00:00<?, ?it/s]"
            ]
          },
          "metadata": {},
          "output_type": "display_data"
        },
        {
          "data": {
            "application/vnd.jupyter.widget-view+json": {
              "model_id": "1ab50f8ee626401ab80c5096a4371288",
              "version_major": 2,
              "version_minor": 0
            },
            "text/plain": [
              "Epoch 0/15 | BestEp 0/15:   0%|          | 0/15 [00:00<?, ?it/s]"
            ]
          },
          "metadata": {},
          "output_type": "display_data"
        },
        {
          "data": {
            "application/vnd.jupyter.widget-view+json": {
              "model_id": "ff08b88999a44e7eb06e1f18e764908f",
              "version_major": 2,
              "version_minor": 0
            },
            "text/plain": [
              "Epoch 0/15 | BestEp 0/15:   0%|          | 0/15 [00:00<?, ?it/s]"
            ]
          },
          "metadata": {},
          "output_type": "display_data"
        },
        {
          "data": {
            "application/vnd.jupyter.widget-view+json": {
              "model_id": "2cdbf9b84df04725acf76d30a543a3ca",
              "version_major": 2,
              "version_minor": 0
            },
            "text/plain": [
              "Epoch 0/15 | BestEp 0/15:   0%|          | 0/15 [00:00<?, ?it/s]"
            ]
          },
          "metadata": {},
          "output_type": "display_data"
        },
        {
          "data": {
            "application/vnd.jupyter.widget-view+json": {
              "model_id": "90866e8c71e74670ad24cb14db2a45e5",
              "version_major": 2,
              "version_minor": 0
            },
            "text/plain": [
              "Epoch 0/15 | BestEp 0/15:   0%|          | 0/15 [00:00<?, ?it/s]"
            ]
          },
          "metadata": {},
          "output_type": "display_data"
        },
        {
          "data": {
            "application/vnd.jupyter.widget-view+json": {
              "model_id": "298464c56c264e6093d0e3e1dc45ebaa",
              "version_major": 2,
              "version_minor": 0
            },
            "text/plain": [
              "Epoch 0/15 | BestEp 0/15:   0%|          | 0/15 [00:00<?, ?it/s]"
            ]
          },
          "metadata": {},
          "output_type": "display_data"
        },
        {
          "data": {
            "application/vnd.jupyter.widget-view+json": {
              "model_id": "b4ba8ffe785c4599b07a065ea8b01256",
              "version_major": 2,
              "version_minor": 0
            },
            "text/plain": [
              "Epoch 0/15 | BestEp 0/15:   0%|          | 0/15 [00:00<?, ?it/s]"
            ]
          },
          "metadata": {},
          "output_type": "display_data"
        },
        {
          "data": {
            "application/vnd.jupyter.widget-view+json": {
              "model_id": "796eeffc8bf5470597b9ca16f1d379f7",
              "version_major": 2,
              "version_minor": 0
            },
            "text/plain": [
              "Epoch 0/15 | BestEp 0/15:   0%|          | 0/15 [00:00<?, ?it/s]"
            ]
          },
          "metadata": {},
          "output_type": "display_data"
        },
        {
          "data": {
            "application/vnd.jupyter.widget-view+json": {
              "model_id": "41a68bcc12fd49518a3383f109dd03ad",
              "version_major": 2,
              "version_minor": 0
            },
            "text/plain": [
              "Epoch 0/15 | BestEp 0/15:   0%|          | 0/15 [00:00<?, ?it/s]"
            ]
          },
          "metadata": {},
          "output_type": "display_data"
        },
        {
          "data": {
            "application/vnd.jupyter.widget-view+json": {
              "model_id": "0628f3e87cd04b62bebabbfb249976d8",
              "version_major": 2,
              "version_minor": 0
            },
            "text/plain": [
              "Epoch 0/15 | BestEp 0/15:   0%|          | 0/15 [00:00<?, ?it/s]"
            ]
          },
          "metadata": {},
          "output_type": "display_data"
        },
        {
          "data": {
            "application/vnd.jupyter.widget-view+json": {
              "model_id": "1f418157138f458c899dacc360787035",
              "version_major": 2,
              "version_minor": 0
            },
            "text/plain": [
              "Epoch 0/15 | BestEp 0/15:   0%|          | 0/15 [00:00<?, ?it/s]"
            ]
          },
          "metadata": {},
          "output_type": "display_data"
        },
        {
          "data": {
            "application/vnd.jupyter.widget-view+json": {
              "model_id": "5ee9115a408041e7a39f471e67724303",
              "version_major": 2,
              "version_minor": 0
            },
            "text/plain": [
              "Epoch 0/15 | BestEp 0/15:   0%|          | 0/15 [00:00<?, ?it/s]"
            ]
          },
          "metadata": {},
          "output_type": "display_data"
        },
        {
          "data": {
            "application/vnd.jupyter.widget-view+json": {
              "model_id": "3ec52b136ca94cd6a37ab2553874e8fa",
              "version_major": 2,
              "version_minor": 0
            },
            "text/plain": [
              "Epoch 0/15 | BestEp 0/15:   0%|          | 0/15 [00:00<?, ?it/s]"
            ]
          },
          "metadata": {},
          "output_type": "display_data"
        },
        {
          "data": {
            "application/vnd.jupyter.widget-view+json": {
              "model_id": "5d39cc1cc00a48abbcb0e316a6e2429b",
              "version_major": 2,
              "version_minor": 0
            },
            "text/plain": [
              "Epoch 0/15 | BestEp 0/15:   0%|          | 0/15 [00:00<?, ?it/s]"
            ]
          },
          "metadata": {},
          "output_type": "display_data"
        },
        {
          "data": {
            "application/vnd.jupyter.widget-view+json": {
              "model_id": "a20a98c29c384812a1ea244c5d07ecc9",
              "version_major": 2,
              "version_minor": 0
            },
            "text/plain": [
              "Epoch 0/15 | BestEp 0/15:   0%|          | 0/15 [00:00<?, ?it/s]"
            ]
          },
          "metadata": {},
          "output_type": "display_data"
        },
        {
          "data": {
            "application/vnd.jupyter.widget-view+json": {
              "model_id": "febd9fbfa7434879be4980c3293a9675",
              "version_major": 2,
              "version_minor": 0
            },
            "text/plain": [
              "Epoch 0/15 | BestEp 0/15:   0%|          | 0/15 [00:00<?, ?it/s]"
            ]
          },
          "metadata": {},
          "output_type": "display_data"
        },
        {
          "data": {
            "application/vnd.jupyter.widget-view+json": {
              "model_id": "207613c9692b41939e5221e3dcbdfc17",
              "version_major": 2,
              "version_minor": 0
            },
            "text/plain": [
              "Epoch 0/15 | BestEp 0/15:   0%|          | 0/15 [00:00<?, ?it/s]"
            ]
          },
          "metadata": {},
          "output_type": "display_data"
        },
        {
          "data": {
            "application/vnd.jupyter.widget-view+json": {
              "model_id": "0457975e11cb4a4f90b035f210131923",
              "version_major": 2,
              "version_minor": 0
            },
            "text/plain": [
              "Epoch 0/15 | BestEp 0/15:   0%|          | 0/15 [00:00<?, ?it/s]"
            ]
          },
          "metadata": {},
          "output_type": "display_data"
        },
        {
          "data": {
            "application/vnd.jupyter.widget-view+json": {
              "model_id": "c0b66a6ada094f378732345fe17fd66d",
              "version_major": 2,
              "version_minor": 0
            },
            "text/plain": [
              "Epoch 0/15 | BestEp 0/15:   0%|          | 0/15 [00:00<?, ?it/s]"
            ]
          },
          "metadata": {},
          "output_type": "display_data"
        },
        {
          "data": {
            "application/vnd.jupyter.widget-view+json": {
              "model_id": "a8d206cf5b1d4e2b870666967b27a14f",
              "version_major": 2,
              "version_minor": 0
            },
            "text/plain": [
              "Epoch 0/15 | BestEp 0/15:   0%|          | 0/15 [00:00<?, ?it/s]"
            ]
          },
          "metadata": {},
          "output_type": "display_data"
        },
        {
          "data": {
            "application/vnd.jupyter.widget-view+json": {
              "model_id": "c8be1f88a4934063bf17ba4ad3a23834",
              "version_major": 2,
              "version_minor": 0
            },
            "text/plain": [
              "Epoch 0/15 | BestEp 0/15:   0%|          | 0/15 [00:00<?, ?it/s]"
            ]
          },
          "metadata": {},
          "output_type": "display_data"
        },
        {
          "data": {
            "application/vnd.jupyter.widget-view+json": {
              "model_id": "416c8e9d81b24c3c80e8d2c77ba66eb0",
              "version_major": 2,
              "version_minor": 0
            },
            "text/plain": [
              "ConvNeXt-Tiny | BestAcc N/A:   0%|          | 0/40 [00:00<?, ?it/s]"
            ]
          },
          "metadata": {},
          "output_type": "display_data"
        },
        {
          "data": {
            "application/vnd.jupyter.widget-view+json": {
              "model_id": "1329ae89b8184dd98081c47acc9e1867",
              "version_major": 2,
              "version_minor": 0
            },
            "text/plain": [
              "Epoch 0/15 | BestEp 0/15:   0%|          | 0/15 [00:00<?, ?it/s]"
            ]
          },
          "metadata": {},
          "output_type": "display_data"
        },
        {
          "data": {
            "application/vnd.jupyter.widget-view+json": {
              "model_id": "3a280f6a674a466f93e2f890b90e4e88",
              "version_major": 2,
              "version_minor": 0
            },
            "text/plain": [
              "Epoch 0/15 | BestEp 0/15:   0%|          | 0/15 [00:00<?, ?it/s]"
            ]
          },
          "metadata": {},
          "output_type": "display_data"
        },
        {
          "data": {
            "application/vnd.jupyter.widget-view+json": {
              "model_id": "50dc78ec5e0a4a0fac13468c08dc4e5d",
              "version_major": 2,
              "version_minor": 0
            },
            "text/plain": [
              "Epoch 0/15 | BestEp 0/15:   0%|          | 0/15 [00:00<?, ?it/s]"
            ]
          },
          "metadata": {},
          "output_type": "display_data"
        },
        {
          "data": {
            "application/vnd.jupyter.widget-view+json": {
              "model_id": "998db3a2a4974610be9c55fcbdab0ba4",
              "version_major": 2,
              "version_minor": 0
            },
            "text/plain": [
              "Epoch 0/15 | BestEp 0/15:   0%|          | 0/15 [00:00<?, ?it/s]"
            ]
          },
          "metadata": {},
          "output_type": "display_data"
        },
        {
          "data": {
            "application/vnd.jupyter.widget-view+json": {
              "model_id": "f09014357f9f40669c327e0646624380",
              "version_major": 2,
              "version_minor": 0
            },
            "text/plain": [
              "Epoch 0/15 | BestEp 0/15:   0%|          | 0/15 [00:00<?, ?it/s]"
            ]
          },
          "metadata": {},
          "output_type": "display_data"
        },
        {
          "data": {
            "application/vnd.jupyter.widget-view+json": {
              "model_id": "6b1ed86184d5457c8f0fc7248a4da20f",
              "version_major": 2,
              "version_minor": 0
            },
            "text/plain": [
              "Epoch 0/15 | BestEp 0/15:   0%|          | 0/15 [00:00<?, ?it/s]"
            ]
          },
          "metadata": {},
          "output_type": "display_data"
        },
        {
          "data": {
            "application/vnd.jupyter.widget-view+json": {
              "model_id": "7a06ee2894de4eb5aa6c1ed6539945a2",
              "version_major": 2,
              "version_minor": 0
            },
            "text/plain": [
              "Epoch 0/15 | BestEp 0/15:   0%|          | 0/15 [00:00<?, ?it/s]"
            ]
          },
          "metadata": {},
          "output_type": "display_data"
        },
        {
          "data": {
            "application/vnd.jupyter.widget-view+json": {
              "model_id": "6120e11d8a684628a5820a7439a98d1e",
              "version_major": 2,
              "version_minor": 0
            },
            "text/plain": [
              "Epoch 0/15 | BestEp 0/15:   0%|          | 0/15 [00:00<?, ?it/s]"
            ]
          },
          "metadata": {},
          "output_type": "display_data"
        },
        {
          "data": {
            "application/vnd.jupyter.widget-view+json": {
              "model_id": "3f3d4c17ecf34bbbbe90c63e50bd8c2e",
              "version_major": 2,
              "version_minor": 0
            },
            "text/plain": [
              "Epoch 0/15 | BestEp 0/15:   0%|          | 0/15 [00:00<?, ?it/s]"
            ]
          },
          "metadata": {},
          "output_type": "display_data"
        },
        {
          "data": {
            "application/vnd.jupyter.widget-view+json": {
              "model_id": "dbfadb4350b34cda8402488d2606ef51",
              "version_major": 2,
              "version_minor": 0
            },
            "text/plain": [
              "Epoch 0/15 | BestEp 0/15:   0%|          | 0/15 [00:00<?, ?it/s]"
            ]
          },
          "metadata": {},
          "output_type": "display_data"
        },
        {
          "data": {
            "application/vnd.jupyter.widget-view+json": {
              "model_id": "d8cfe82f1b05478b820904bc32a0e27d",
              "version_major": 2,
              "version_minor": 0
            },
            "text/plain": [
              "Epoch 0/15 | BestEp 0/15:   0%|          | 0/15 [00:00<?, ?it/s]"
            ]
          },
          "metadata": {},
          "output_type": "display_data"
        },
        {
          "data": {
            "application/vnd.jupyter.widget-view+json": {
              "model_id": "c719d1940cfa42c6b298cdab2c931824",
              "version_major": 2,
              "version_minor": 0
            },
            "text/plain": [
              "Epoch 0/15 | BestEp 0/15:   0%|          | 0/15 [00:00<?, ?it/s]"
            ]
          },
          "metadata": {},
          "output_type": "display_data"
        },
        {
          "data": {
            "application/vnd.jupyter.widget-view+json": {
              "model_id": "48ee162c844542358073a98cc48340cd",
              "version_major": 2,
              "version_minor": 0
            },
            "text/plain": [
              "Epoch 0/15 | BestEp 0/15:   0%|          | 0/15 [00:00<?, ?it/s]"
            ]
          },
          "metadata": {},
          "output_type": "display_data"
        },
        {
          "data": {
            "application/vnd.jupyter.widget-view+json": {
              "model_id": "f1a0e47a261f438e82dcd48c274b48f4",
              "version_major": 2,
              "version_minor": 0
            },
            "text/plain": [
              "Epoch 0/15 | BestEp 0/15:   0%|          | 0/15 [00:00<?, ?it/s]"
            ]
          },
          "metadata": {},
          "output_type": "display_data"
        },
        {
          "data": {
            "application/vnd.jupyter.widget-view+json": {
              "model_id": "ea5411ed987647218ed6e2a07ccb95b3",
              "version_major": 2,
              "version_minor": 0
            },
            "text/plain": [
              "Epoch 0/15 | BestEp 0/15:   0%|          | 0/15 [00:00<?, ?it/s]"
            ]
          },
          "metadata": {},
          "output_type": "display_data"
        },
        {
          "data": {
            "application/vnd.jupyter.widget-view+json": {
              "model_id": "e2ac1dc4a20544bc96b7365e03fddadb",
              "version_major": 2,
              "version_minor": 0
            },
            "text/plain": [
              "Epoch 0/15 | BestEp 0/15:   0%|          | 0/15 [00:00<?, ?it/s]"
            ]
          },
          "metadata": {},
          "output_type": "display_data"
        },
        {
          "data": {
            "application/vnd.jupyter.widget-view+json": {
              "model_id": "94b66a193a7f43cc8e88fb2a389236bc",
              "version_major": 2,
              "version_minor": 0
            },
            "text/plain": [
              "Epoch 0/15 | BestEp 0/15:   0%|          | 0/15 [00:00<?, ?it/s]"
            ]
          },
          "metadata": {},
          "output_type": "display_data"
        },
        {
          "data": {
            "application/vnd.jupyter.widget-view+json": {
              "model_id": "1ff1cc307d0642acb7a07fd503fdf354",
              "version_major": 2,
              "version_minor": 0
            },
            "text/plain": [
              "Epoch 0/15 | BestEp 0/15:   0%|          | 0/15 [00:00<?, ?it/s]"
            ]
          },
          "metadata": {},
          "output_type": "display_data"
        },
        {
          "data": {
            "application/vnd.jupyter.widget-view+json": {
              "model_id": "dcd713df22bc4a26b8db4b509107161b",
              "version_major": 2,
              "version_minor": 0
            },
            "text/plain": [
              "Epoch 0/15 | BestEp 0/15:   0%|          | 0/15 [00:00<?, ?it/s]"
            ]
          },
          "metadata": {},
          "output_type": "display_data"
        },
        {
          "data": {
            "application/vnd.jupyter.widget-view+json": {
              "model_id": "4e7f8deb13744ad2a67534c267e7e453",
              "version_major": 2,
              "version_minor": 0
            },
            "text/plain": [
              "Epoch 0/15 | BestEp 0/15:   0%|          | 0/15 [00:00<?, ?it/s]"
            ]
          },
          "metadata": {},
          "output_type": "display_data"
        },
        {
          "data": {
            "application/vnd.jupyter.widget-view+json": {
              "model_id": "a7880a62ded0468f831871ab19050428",
              "version_major": 2,
              "version_minor": 0
            },
            "text/plain": [
              "Epoch 0/15 | BestEp 0/15:   0%|          | 0/15 [00:00<?, ?it/s]"
            ]
          },
          "metadata": {},
          "output_type": "display_data"
        },
        {
          "data": {
            "application/vnd.jupyter.widget-view+json": {
              "model_id": "a3d14a9dfda548f4af6b183a03f2a4bc",
              "version_major": 2,
              "version_minor": 0
            },
            "text/plain": [
              "Epoch 0/15 | BestEp 0/15:   0%|          | 0/15 [00:00<?, ?it/s]"
            ]
          },
          "metadata": {},
          "output_type": "display_data"
        },
        {
          "data": {
            "application/vnd.jupyter.widget-view+json": {
              "model_id": "cc8f9c525b674dfb843b3dcea6db1f8e",
              "version_major": 2,
              "version_minor": 0
            },
            "text/plain": [
              "Epoch 0/15 | BestEp 0/15:   0%|          | 0/15 [00:00<?, ?it/s]"
            ]
          },
          "metadata": {},
          "output_type": "display_data"
        },
        {
          "data": {
            "application/vnd.jupyter.widget-view+json": {
              "model_id": "f88aac391fb341f99d00f277017629ee",
              "version_major": 2,
              "version_minor": 0
            },
            "text/plain": [
              "Epoch 0/15 | BestEp 0/15:   0%|          | 0/15 [00:00<?, ?it/s]"
            ]
          },
          "metadata": {},
          "output_type": "display_data"
        },
        {
          "data": {
            "application/vnd.jupyter.widget-view+json": {
              "model_id": "be114a2ce1414e8f825c89f8b7ea54ba",
              "version_major": 2,
              "version_minor": 0
            },
            "text/plain": [
              "Epoch 0/15 | BestEp 0/15:   0%|          | 0/15 [00:00<?, ?it/s]"
            ]
          },
          "metadata": {},
          "output_type": "display_data"
        },
        {
          "data": {
            "application/vnd.jupyter.widget-view+json": {
              "model_id": "81f4628d295242d384c1f36de31ae4e0",
              "version_major": 2,
              "version_minor": 0
            },
            "text/plain": [
              "Epoch 0/15 | BestEp 0/15:   0%|          | 0/15 [00:00<?, ?it/s]"
            ]
          },
          "metadata": {},
          "output_type": "display_data"
        },
        {
          "data": {
            "application/vnd.jupyter.widget-view+json": {
              "model_id": "0e69954afadd47cc930aa4d1c5337689",
              "version_major": 2,
              "version_minor": 0
            },
            "text/plain": [
              "Epoch 0/15 | BestEp 0/15:   0%|          | 0/15 [00:00<?, ?it/s]"
            ]
          },
          "metadata": {},
          "output_type": "display_data"
        },
        {
          "data": {
            "application/vnd.jupyter.widget-view+json": {
              "model_id": "6876f1b6d154406bab2090034652d640",
              "version_major": 2,
              "version_minor": 0
            },
            "text/plain": [
              "Epoch 0/15 | BestEp 0/15:   0%|          | 0/15 [00:00<?, ?it/s]"
            ]
          },
          "metadata": {},
          "output_type": "display_data"
        },
        {
          "data": {
            "application/vnd.jupyter.widget-view+json": {
              "model_id": "f4c79c9c0d10479baf8258c2534c98c9",
              "version_major": 2,
              "version_minor": 0
            },
            "text/plain": [
              "Epoch 0/15 | BestEp 0/15:   0%|          | 0/15 [00:00<?, ?it/s]"
            ]
          },
          "metadata": {},
          "output_type": "display_data"
        },
        {
          "data": {
            "application/vnd.jupyter.widget-view+json": {
              "model_id": "954f3271e8eb45ed977777302a9d98ef",
              "version_major": 2,
              "version_minor": 0
            },
            "text/plain": [
              "Epoch 0/15 | BestEp 0/15:   0%|          | 0/15 [00:00<?, ?it/s]"
            ]
          },
          "metadata": {},
          "output_type": "display_data"
        },
        {
          "data": {
            "application/vnd.jupyter.widget-view+json": {
              "model_id": "eae5f46e28a74ac3bac01417a9171481",
              "version_major": 2,
              "version_minor": 0
            },
            "text/plain": [
              "Epoch 0/15 | BestEp 0/15:   0%|          | 0/15 [00:00<?, ?it/s]"
            ]
          },
          "metadata": {},
          "output_type": "display_data"
        },
        {
          "data": {
            "application/vnd.jupyter.widget-view+json": {
              "model_id": "d88e6bcae1d14c07a4699de2ff6eda6d",
              "version_major": 2,
              "version_minor": 0
            },
            "text/plain": [
              "Epoch 0/15 | BestEp 0/15:   0%|          | 0/15 [00:00<?, ?it/s]"
            ]
          },
          "metadata": {},
          "output_type": "display_data"
        },
        {
          "data": {
            "application/vnd.jupyter.widget-view+json": {
              "model_id": "116272cbf9d648de8479b1790e1ecdef",
              "version_major": 2,
              "version_minor": 0
            },
            "text/plain": [
              "Epoch 0/15 | BestEp 0/15:   0%|          | 0/15 [00:00<?, ?it/s]"
            ]
          },
          "metadata": {},
          "output_type": "display_data"
        },
        {
          "data": {
            "application/vnd.jupyter.widget-view+json": {
              "model_id": "faeceb0c4907436681a65bec472762ad",
              "version_major": 2,
              "version_minor": 0
            },
            "text/plain": [
              "Epoch 0/15 | BestEp 0/15:   0%|          | 0/15 [00:00<?, ?it/s]"
            ]
          },
          "metadata": {},
          "output_type": "display_data"
        },
        {
          "data": {
            "application/vnd.jupyter.widget-view+json": {
              "model_id": "d56938632bb24890a0b9a8e002a01b28",
              "version_major": 2,
              "version_minor": 0
            },
            "text/plain": [
              "Epoch 0/15 | BestEp 0/15:   0%|          | 0/15 [00:00<?, ?it/s]"
            ]
          },
          "metadata": {},
          "output_type": "display_data"
        },
        {
          "data": {
            "application/vnd.jupyter.widget-view+json": {
              "model_id": "b4998bb2c2094a55bf8f9af537f8622d",
              "version_major": 2,
              "version_minor": 0
            },
            "text/plain": [
              "Epoch 0/15 | BestEp 0/15:   0%|          | 0/15 [00:00<?, ?it/s]"
            ]
          },
          "metadata": {},
          "output_type": "display_data"
        },
        {
          "data": {
            "application/vnd.jupyter.widget-view+json": {
              "model_id": "924472d19aad4fe4bd266df6c822ac50",
              "version_major": 2,
              "version_minor": 0
            },
            "text/plain": [
              "Epoch 0/15 | BestEp 0/15:   0%|          | 0/15 [00:00<?, ?it/s]"
            ]
          },
          "metadata": {},
          "output_type": "display_data"
        },
        {
          "data": {
            "application/vnd.jupyter.widget-view+json": {
              "model_id": "9e3803f949ac455b9e8aecc75b93c937",
              "version_major": 2,
              "version_minor": 0
            },
            "text/plain": [
              "Epoch 0/15 | BestEp 0/15:   0%|          | 0/15 [00:00<?, ?it/s]"
            ]
          },
          "metadata": {},
          "output_type": "display_data"
        },
        {
          "data": {
            "application/vnd.jupyter.widget-view+json": {
              "model_id": "f80fd438de2d4980a0f178c546166537",
              "version_major": 2,
              "version_minor": 0
            },
            "text/plain": [
              "Epoch 0/15 | BestEp 0/15:   0%|          | 0/15 [00:00<?, ?it/s]"
            ]
          },
          "metadata": {},
          "output_type": "display_data"
        },
        {
          "data": {
            "application/vnd.jupyter.widget-view+json": {
              "model_id": "38bbe1c94cbc461faa81753ad050b6d6",
              "version_major": 2,
              "version_minor": 0
            },
            "text/plain": [
              "Epoch 0/15 | BestEp 0/15:   0%|          | 0/15 [00:00<?, ?it/s]"
            ]
          },
          "metadata": {},
          "output_type": "display_data"
        },
        {
          "name": "stdout",
          "output_type": "stream",
          "text": [
            "\n",
            "============================================================\n",
            "STAGE 1 COMPLETE\n",
            "Best overall: RegNet-Y-800MF with 84.93% validation accuracy\n",
            "Total time: 723.9 minutes\n",
            "Successful trials: 200\n",
            "\n",
            "Stage 1 results saved to: osteoarthritis-severity/results/hp_search_per_model/stage1_results.csv\n",
            "Total successful trials: 200\n",
            "\n",
            "Best overall result:\n",
            "  Model: RegNet-Y-800MF\n",
            "  Validation accuracy: 84.93%\n",
            "  F1 score: 0.8488\n",
            "  Hyperparameters: adam, lr=0.001, batch_size=64, hidden_dim=1024\n"
          ]
        }
      ],
      "source": [
        "# Execute Stage 1 Stratified Search\n",
        "\n",
        "print(\"Starting Stage 1 Stratified Hyperparameter Search\")\n",
        "print(\"=\" * 60)\n",
        "\n",
        "# Run the stratified search\n",
        "stage1_results = run_stratified_hp_search(\n",
        "    models=MODEL_NAMES,\n",
        "    search_space=SEARCH_SPACE_STAGE1,\n",
        "    trials_per_model=STAGE1_CONFIG['trials_per_model'],\n",
        "    num_epochs=STAGE1_CONFIG['num_epochs'],\n",
        "    stage_name=\"Stage 1\"\n",
        ")\n",
        "\n",
        "# Save results\n",
        "results_df = pd.DataFrame(stage1_results)\n",
        "results_file = RESULTS_DIR / 'stage1_results.csv'\n",
        "results_df.to_csv(results_file, index=False)\n",
        "\n",
        "print(f\"\\nStage 1 results saved to: {repo_name}/results/hp_search_per_model/stage1_results.csv\")\n",
        "print(f\"Total successful trials: {len(stage1_results)}\")\n",
        "\n",
        "# Quick summary\n",
        "if stage1_results:\n",
        "    best_overall = max(stage1_results, key=lambda x: x['best_val_acc'])\n",
        "    print(f\"\\nBest overall result:\")\n",
        "    print(f\"  Model: {best_overall['model_display_name']}\")\n",
        "    print(f\"  Validation accuracy: {best_overall['best_val_acc']:.2f}%\")\n",
        "    print(f\"  F1 score: {best_overall['best_val_f1']:.4f}\")\n",
        "    print(f\"  Hyperparameters: {best_overall['optimizer']}, lr={best_overall['learning_rate']}, \"\n",
        "          f\"batch_size={best_overall['batch_size']}, hidden_dim={best_overall['hidden_dim']}\")\n"
      ]
    },
    {
      "cell_type": "markdown",
      "metadata": {
        "vscode": {
          "languageId": "raw"
        }
      },
      "source": [
        "## **Automated Analysis and Search Space Refinement** <a id=\"analysis\"></a>\n",
        "\n",
        "Analyzes Stage 1 trial results to identify high-potential configurations and intelligently narrow the hyperparameter search space for Stage 2.\n",
        "\n",
        "This system combines traditional epsilon-based performance selection with learning curve trend analysis to detect:\n",
        "- **High performers**: configurations with strong final accuracy\n",
        "- **Prospects**: configurations with accelerating improvement that may require more epochs\n",
        "- Trial-level trend metrics: growth rate, acceleration, projected final accuracy\n",
        "- Identification of undertrained but promising models (\"prospects\")\n",
        "- Parameter importance scoring and refinement per architecture\n",
        "- Search space narrowing with up to 90% reduction in combinations\n",
        "- Configuration summary saved for reproducibility"
      ]
    },
    {
      "cell_type": "code",
      "execution_count": 10,
      "metadata": {},
      "outputs": [
        {
          "name": "stdout",
          "output_type": "stream",
          "text": [
            "Hyperparameter space refinement system configured\n",
            "Features: Epsilon-based selection + Learning curve trend analysis\n"
          ]
        }
      ],
      "source": [
        "# Hyperparameter Space Refinement System with Trend Analysis\n",
        "\n",
        "def compute_learning_curve_metrics(history):\n",
        "    val_acc = history.get('val_acc', [])\n",
        "    if len(val_acc) < 10:\n",
        "        return {\n",
        "            'growth_rate': 0,\n",
        "            'acceleration': 0,\n",
        "            'projected_final': val_acc[-1] if val_acc else 0,\n",
        "            'trend_strength': 0,\n",
        "            'is_prospect': False,\n",
        "            'early_growth': 0,\n",
        "            'late_growth': 0\n",
        "        }\n",
        "    \n",
        "    # Extract key epoch metrics\n",
        "    epoch_5 = val_acc[4] if len(val_acc) > 4 else val_acc[0]\n",
        "    epoch_10 = val_acc[9] if len(val_acc) > 9 else val_acc[-1]\n",
        "    epoch_final = val_acc[-1]\n",
        "    \n",
        "    # Calculate growth metrics\n",
        "    early_growth = (epoch_10 - epoch_5) / 5  # Growth rate epochs 5-10\n",
        "    late_growth = (epoch_final - epoch_10) / max(1, len(val_acc) - 10)  # Growth rate epochs 10-final\n",
        "    \n",
        "    # Overall growth rate and acceleration\n",
        "    growth_rate = (epoch_final - epoch_5) / max(1, len(val_acc) - 5)\n",
        "    acceleration = late_growth - early_growth  # Change in growth rate\n",
        "    \n",
        "    # Project final performance (extrapolate to epoch 25)\n",
        "    epochs_remaining = 25 - len(val_acc)\n",
        "    if epochs_remaining > 0 and growth_rate > 0:\n",
        "        # Apply diminishing returns factor\n",
        "        projected_final = epoch_final + (growth_rate * epochs_remaining * 0.7)\n",
        "    else:\n",
        "        projected_final = epoch_final\n",
        "    \n",
        "    # Trend strength (consistency of improvement)\n",
        "    if len(val_acc) >= 5:\n",
        "        recent_trend = np.mean(np.diff(val_acc[-5:]))  # Avg change in last 5 epochs\n",
        "        trend_strength = max(0, recent_trend)  # Only positive trends count\n",
        "    else:\n",
        "        trend_strength = 0\n",
        "    \n",
        "    # Identify prospects: strong recent growth despite lower final performance\n",
        "    is_prospect = (\n",
        "        growth_rate > 0.5 and    # Decent growth rate\n",
        "        trend_strength > 0.3 and # Strong recent trend\n",
        "        acceleration > 0         # Accelerating improvement\n",
        "    )\n",
        "    \n",
        "    return {\n",
        "        'growth_rate': growth_rate,\n",
        "        'acceleration': acceleration,\n",
        "        'projected_final': min(100, max(0, projected_final)),  # Clamp to [0,100]\n",
        "        'trend_strength': trend_strength,\n",
        "        'is_prospect': is_prospect,\n",
        "        'early_growth': early_growth,\n",
        "        'late_growth': late_growth\n",
        "    }\n",
        "\n",
        "def analyze_stage1_and_refine_search_space(stage1_results):\n",
        "    \"\"\"Analyze Stage 1 results with epsilon-based selection and trend analysis\"\"\"\n",
        "    \n",
        "    df = pd.DataFrame(stage1_results)\n",
        "    refined_spaces = {}\n",
        "    analysis_summary = {}\n",
        "    \n",
        "    print(\"STAGE 1 ANALYSIS\")\n",
        "    print(\"=\" * 60)\n",
        "    print(\"Epsilon-based selection with learning curve trend analysis\\n\")\n",
        "    \n",
        "    for model_name in MODEL_NAMES.keys():\n",
        "        model_data = df[df['model_name'] == model_name].copy()\n",
        "        \n",
        "        if model_data.empty:\n",
        "            print(f\"Warning: No data for {model_name}\")\n",
        "            continue\n",
        "        \n",
        "        print(f\"{MODEL_NAMES[model_name]} Analysis:\")\n",
        "        print(f\"  Total trials: {len(model_data)}\")\n",
        "        \n",
        "        # Compute trend metrics for all trials\n",
        "        trend_metrics = []\n",
        "        for _, row in model_data.iterrows():\n",
        "            if row.get('history'):\n",
        "                trend_metrics.append(compute_learning_curve_metrics(row['history']))\n",
        "            else:\n",
        "                # Fallback for missing history\n",
        "                trend_metrics.append({\n",
        "                    'growth_rate': 0, 'acceleration': 0,\n",
        "                    'projected_final': row['best_val_acc'],\n",
        "                    'trend_strength': 0, 'is_prospect': False,\n",
        "                    'early_growth': 0, 'late_growth': 0\n",
        "                })\n",
        "        \n",
        "        # Add trend metrics to dataframe\n",
        "        for i, metrics in enumerate(trend_metrics):\n",
        "            for key, value in metrics.items():\n",
        "                if key not in model_data.columns:\n",
        "                    model_data[key] = None\n",
        "                model_data.iat[i, model_data.columns.get_loc(key)] = value\n",
        "        \n",
        "        # Epsilon-based selection\n",
        "        eps = 5.0  # Within 5% of best performance\n",
        "        best_acc = model_data['best_val_acc'].max()\n",
        "        threshold = best_acc - eps\n",
        "        \n",
        "        # Primary selection: High performers\n",
        "        high_performers = model_data[model_data['best_val_acc'] >= threshold].copy()\n",
        "        \n",
        "        # Secondary selection: Prospects\n",
        "        prospect_threshold = max(threshold, best_acc - 10.0)\n",
        "        prospects = model_data[\n",
        "            (model_data['is_prospect'] == True) &\n",
        "            (model_data['projected_final'] >= prospect_threshold) &\n",
        "            (~model_data.index.isin(high_performers.index))\n",
        "        ].copy()\n",
        "        \n",
        "        # Combine selections and drop duplicates on all except 'history'\n",
        "        combined = pd.concat([high_performers, prospects], ignore_index=True)\n",
        "        cols_to_check = [c for c in combined.columns if c != 'history']\n",
        "        selected_trials = combined.drop_duplicates(subset=cols_to_check)\n",
        "        \n",
        "        print(f\"  Best accuracy: {best_acc:.2f}%\")\n",
        "        print(f\"  Selection threshold (ε={eps}%): {threshold:.2f}%\")\n",
        "        print(f\"  High performers: {len(high_performers)} trials\")\n",
        "        print(f\"  Prospects: {len(prospects)} trials\")\n",
        "        print(f\"  Total selected: {len(selected_trials)} trials\\n\")\n",
        "        \n",
        "        # Analyze parameters from selected trials\n",
        "        refined_space = {}\n",
        "        param_analysis = {}\n",
        "        for param in SEARCH_SPACE_STAGE1.keys():\n",
        "            if param in selected_trials.columns:\n",
        "                param_analysis[param] = analyze_parameter_performance(\n",
        "                    selected_trials, param, SEARCH_SPACE_STAGE1[param]\n",
        "                )\n",
        "                refined_space[param] = refine_hyperparameter_range(\n",
        "                    selected_trials, param, SEARCH_SPACE_STAGE1[param]\n",
        "                )\n",
        "        \n",
        "        refined_spaces[model_name] = refined_space\n",
        "        analysis_summary[model_name] = {\n",
        "            'total_trials': len(model_data),\n",
        "            'selected_trials': len(selected_trials),\n",
        "            'high_performers': len(high_performers),\n",
        "            'prospects': len(prospects),\n",
        "            'epsilon': eps,\n",
        "            'best_accuracy': best_acc,\n",
        "            'selection_threshold': threshold,\n",
        "            'avg_growth_rate': model_data['growth_rate'].mean(),\n",
        "            'parameter_analysis': param_analysis\n",
        "        }\n",
        "        \n",
        "        # Print parameter insights\n",
        "        print(\"  Key parameter insights:\")\n",
        "        for param, analysis in param_analysis.items():\n",
        "            if analysis['insight']:\n",
        "                print(f\"    {param}: {analysis['insight']}\")\n",
        "        print()\n",
        "    \n",
        "    return refined_spaces, analysis_summary\n",
        "\n",
        "def analyze_parameter_performance(selected_trials, param, original_values):\n",
        "    \"\"\"Parameter analysis with trend consideration\"\"\"\n",
        "    counts = selected_trials[param].value_counts()\n",
        "    perf = selected_trials.groupby(param)['best_val_acc'].agg(['mean','count','std'])\n",
        "    \n",
        "    # Combine actual and projected if available\n",
        "    if 'projected_final' in selected_trials:\n",
        "        proj = selected_trials.groupby(param)['projected_final'].agg(['mean','count'])\n",
        "        combined_perf = (perf['mean'] + proj['mean']) / 2\n",
        "    else:\n",
        "        combined_perf = perf['mean']\n",
        "    \n",
        "    insight = None\n",
        "    if len(counts) > 1:\n",
        "        best_value = combined_perf.idxmax()\n",
        "        freq = counts[best_value]\n",
        "        score = combined_perf[best_value]\n",
        "        if freq >= 2:\n",
        "            insight = f\"Best: {best_value} (score: {score:.1f}%, freq: {freq})\"\n",
        "        elif len(counts) > 2:\n",
        "            top3 = list(counts.head(3).index)\n",
        "            insight = f\"Top 3 values: {top3}\"\n",
        "    \n",
        "    return {'value_counts': counts.to_dict(),\n",
        "            'performance': perf.to_dict(),\n",
        "            'insight': insight}\n",
        "\n",
        "def refine_hyperparameter_range(selected_trials, param, original_values):\n",
        "    \"\"\"Hyperparameter refinement with improved logic\"\"\"\n",
        "    vals = selected_trials[param].tolist()\n",
        "    counts = pd.Series(vals).value_counts()\n",
        "    \n",
        "    # Continuous: band approach\n",
        "    if param in ['learning_rate','weight_decay']:\n",
        "        mn, mx = min(vals), max(vals)\n",
        "        band = [v for v in original_values if mn <= v <= mx]\n",
        "        if len(band)==1:\n",
        "            idx = original_values.index(band[0])\n",
        "            if idx>0:    band.append(original_values[idx-1])\n",
        "            if idx<len(original_values)-1: band.append(original_values[idx+1])\n",
        "        return sorted(set(band))\n",
        "    \n",
        "    # Discrete: top3 + neighbors\n",
        "    elif param in ['batch_size','hidden_dim']:\n",
        "        top_n = counts.head(3).index.tolist()\n",
        "        s = set()\n",
        "        for v in top_n:\n",
        "            s.add(v)\n",
        "            try:\n",
        "                i = original_values.index(v)\n",
        "                if i>0:    s.add(original_values[i-1])\n",
        "                if i<len(original_values)-1: s.add(original_values[i+1])\n",
        "            except ValueError:\n",
        "                pass\n",
        "        return sorted(s)\n",
        "    \n",
        "    # Categorical: top3\n",
        "    else:\n",
        "        return counts.head(3).index.tolist()\n",
        "\n",
        "print(\"Hyperparameter space refinement system configured\")\n",
        "print(\"Features: Epsilon-based selection + Learning curve trend analysis\")"
      ]
    },
    {
      "cell_type": "code",
      "execution_count": 11,
      "metadata": {},
      "outputs": [
        {
          "name": "stdout",
          "output_type": "stream",
          "text": [
            "STAGE 1 ANALYSIS\n",
            "============================================================\n",
            "Epsilon-based selection with learning curve trend analysis\n",
            "\n",
            "EfficientNet-B0 Analysis:\n",
            "  Total trials: 40\n",
            "  Best accuracy: 84.02%\n",
            "  Selection threshold (ε=5.0%): 79.02%\n",
            "  High performers: 5 trials\n",
            "  Prospects: 0 trials\n",
            "  Total selected: 5 trials\n",
            "\n",
            "  Key parameter insights:\n",
            "    learning_rate: Top 3 values: [0.0005, 0.0003, 0.003]\n",
            "    batch_size: Best: 32 (score: 86.3%, freq: 3)\n",
            "    hidden_dim: Top 3 values: [256, 512, 384]\n",
            "    weight_decay: Top 3 values: [1e-05, 0.001, 3e-05]\n",
            "    dropout: Best: 0.4 (score: 85.9%, freq: 2)\n",
            "    mixup_alpha: Top 3 values: [0.1, 0.0, 0.2]\n",
            "    gradient_clipping: Best: 0.5 (score: 86.3%, freq: 3)\n",
            "    ema_decay: Best: 0.9999 (score: 87.9%, freq: 3)\n",
            "    lr_schedule: Top 3 values: ['none', 'cosine', 'plateau']\n",
            "    warmup_epochs: Top 3 values: [0, 5, 2]\n",
            "\n",
            "RegNet-Y-800MF Analysis:\n",
            "  Total trials: 40\n",
            "  Best accuracy: 84.93%\n",
            "  Selection threshold (ε=5.0%): 79.93%\n",
            "  High performers: 4 trials\n",
            "  Prospects: 0 trials\n",
            "  Total selected: 4 trials\n",
            "\n",
            "  Key parameter insights:\n",
            "    learning_rate: Top 3 values: [0.001, 0.003, 0.0003]\n",
            "    hidden_dim: Top 3 values: [384, 1024, 256]\n",
            "    weight_decay: Best: 0.0003 (score: 89.8%, freq: 2)\n",
            "    dropout: Top 3 values: [0.2, 0.3, 0.1]\n",
            "    mixup_alpha: Best: 0.2 (score: 89.8%, freq: 2)\n",
            "    gradient_clipping: Best: 1.0 (score: 89.8%, freq: 2)\n",
            "    label_smoothing: Best: 0.1 (score: 89.8%, freq: 2)\n",
            "    ema_decay: Best: 0.999 (score: 89.8%, freq: 2)\n",
            "    lr_schedule: Best: cosine (score: 89.7%, freq: 3)\n",
            "    warmup_epochs: Best: 5 (score: 89.8%, freq: 2)\n",
            "\n",
            "DenseNet-121 Analysis:\n",
            "  Total trials: 40\n",
            "  Best accuracy: 84.02%\n",
            "  Selection threshold (ε=5.0%): 79.02%\n",
            "  High performers: 7 trials\n",
            "  Prospects: 2 trials\n",
            "  Total selected: 9 trials\n",
            "\n",
            "  Key parameter insights:\n",
            "    optimizer: Best: adamw (score: 83.5%, freq: 3)\n",
            "    learning_rate: Best: 0.0001 (score: 83.6%, freq: 3)\n",
            "    batch_size: Best: 64 (score: 84.2%, freq: 3)\n",
            "    hidden_dim: Top 3 values: [768, 1024, 512]\n",
            "    weight_decay: Best: 0.0001 (score: 84.9%, freq: 3)\n",
            "    dropout: Top 3 values: [0.2, 0.4, 0.3]\n",
            "    mixup_alpha: Best: 0.2 (score: 83.7%, freq: 4)\n",
            "    gradient_clipping: Top 3 values: [0.0, 0.5, 1.0]\n",
            "    label_smoothing: Best: 0.1 (score: 83.0%, freq: 5)\n",
            "    ema_decay: Best: 0.9999 (score: 84.2%, freq: 3)\n",
            "    lr_schedule: Best: cosine (score: 83.4%, freq: 5)\n",
            "    warmup_epochs: Best: 5 (score: 82.9%, freq: 5)\n",
            "\n",
            "ResNet-50 Analysis:\n",
            "  Total trials: 40\n",
            "  Best accuracy: 82.65%\n",
            "  Selection threshold (ε=5.0%): 77.65%\n",
            "  High performers: 6 trials\n",
            "  Prospects: 1 trials\n",
            "  Total selected: 7 trials\n",
            "\n",
            "  Key parameter insights:\n",
            "    optimizer: Best: adam (score: 86.8%, freq: 4)\n",
            "    learning_rate: Best: 0.001 (score: 90.1%, freq: 2)\n",
            "    batch_size: Best: 32 (score: 87.3%, freq: 2)\n",
            "    hidden_dim: Best: 768 (score: 90.1%, freq: 2)\n",
            "    weight_decay: Top 3 values: [0.0001, 3e-05, 0.001]\n",
            "    dropout: Top 3 values: [0.3, 0.1, 0.4]\n",
            "    mixup_alpha: Top 3 values: [0.0, 0.1, 0.2]\n",
            "    gradient_clipping: Best: 1.0 (score: 88.5%, freq: 2)\n",
            "    label_smoothing: Best: 0.1 (score: 86.4%, freq: 4)\n",
            "    warmup_epochs: Best: 5 (score: 88.9%, freq: 2)\n",
            "\n",
            "ConvNeXt-Tiny Analysis:\n",
            "  Total trials: 40\n",
            "  Best accuracy: 83.56%\n",
            "  Selection threshold (ε=5.0%): 78.56%\n",
            "  High performers: 2 trials\n",
            "  Prospects: 1 trials\n",
            "  Total selected: 3 trials\n",
            "\n",
            "  Key parameter insights:\n",
            "    optimizer: Top 3 values: ['adamw', 'adam', 'sgd']\n",
            "    learning_rate: Top 3 values: [0.0005, 0.0001, 0.002]\n",
            "    batch_size: Best: 64 (score: 84.5%, freq: 2)\n",
            "    weight_decay: Top 3 values: [0.0003, 1e-05, 0.001]\n",
            "    dropout: Top 3 values: [0.2, 0.3, 0.4]\n",
            "    mixup_alpha: Top 3 values: [0.0, 0.2, 0.1]\n",
            "    gradient_clipping: Best: 1.0 (score: 84.6%, freq: 2)\n",
            "    label_smoothing: Best: 0.1 (score: 84.6%, freq: 2)\n",
            "    lr_schedule: Best: cosine (score: 84.6%, freq: 2)\n",
            "\n",
            "Analysis results saved to: osteoarthritis-severity/results/hp_search_per_model/stage1_analysis.json\n",
            "\n",
            "SEARCH SPACE REFINEMENT SUMMARY\n",
            "==================================================\n",
            "\n",
            "EfficientNet-B0:\n",
            "  Total trials: 40\n",
            "  Selected for Stage 2: 5\n",
            "    High performers: 5\n",
            "    Prospects: 0\n",
            "  Selection rate: 12.5%\n",
            "  Search space reduction: 88.9%\n",
            "  Refined combinations: 259,200 (from 2,332,800)\n",
            "  Key refinements:\n",
            "    optimizer: 2/3 (-33%)\n",
            "    dropout: 2/4 (-50%)\n",
            "    use_ema: 1/2 (-50%)\n",
            "\n",
            "RegNet-Y-800MF:\n",
            "  Total trials: 40\n",
            "  Selected for Stage 2: 4\n",
            "    High performers: 4\n",
            "    Prospects: 0\n",
            "  Selection rate: 10.0%\n",
            "  Search space reduction: 96.9%\n",
            "  Refined combinations: 72,000 (from 2,332,800)\n",
            "  Key refinements:\n",
            "    optimizer: 1/3 (-67%)\n",
            "    mixup_alpha: 2/3 (-33%)\n",
            "    use_ema: 1/2 (-50%)\n",
            "    lr_schedule: 2/3 (-33%)\n",
            "    warmup_epochs: 2/3 (-33%)\n",
            "\n",
            "DenseNet-121:\n",
            "  Total trials: 40\n",
            "  Selected for Stage 2: 9\n",
            "    High performers: 7\n",
            "    Prospects: 2\n",
            "  Selection rate: 22.5%\n",
            "  Prospects detected: 2 configurations with strong trends\n",
            "  Search space reduction: 93.3%\n",
            "  Refined combinations: 155,520 (from 2,332,800)\n",
            "  Key refinements:\n",
            "    optimizer: 2/3 (-33%)\n",
            "    weight_decay: 3/5 (-40%)\n",
            "    use_ema: 1/2 (-50%)\n",
            "    warmup_epochs: 2/3 (-33%)\n",
            "\n",
            "ResNet-50:\n",
            "  Total trials: 40\n",
            "  Selected for Stage 2: 7\n",
            "    High performers: 6\n",
            "    Prospects: 1\n",
            "  Selection rate: 17.5%\n",
            "  Prospects detected: 1 configurations with strong trends\n",
            "  Search space reduction: 88.9%\n",
            "  Refined combinations: 259,200 (from 2,332,800)\n",
            "  Key refinements:\n",
            "    optimizer: 2/3 (-33%)\n",
            "    use_ema: 1/2 (-50%)\n",
            "    lr_schedule: 2/3 (-33%)\n",
            "\n",
            "ConvNeXt-Tiny:\n",
            "  Total trials: 40\n",
            "  Selected for Stage 2: 3\n",
            "    High performers: 2\n",
            "    Prospects: 1\n",
            "  Selection rate: 7.5%\n",
            "  Prospects detected: 1 configurations with strong trends\n",
            "  Search space reduction: 96.3%\n",
            "  Refined combinations: 86,400 (from 2,332,800)\n",
            "  Key refinements:\n",
            "    gradient_clipping: 2/3 (-33%)\n",
            "    use_ema: 1/2 (-50%)\n",
            "    ema_decay: 1/2 (-50%)\n",
            "    lr_schedule: 2/3 (-33%)\n",
            "    warmup_epochs: 2/3 (-33%)\n",
            "\n",
            "OVERALL IMPACT:\n",
            "  Total configurations selected: 28\n",
            "  Prospects identified: 4\n",
            "  Selection efficiency: 14.0%\n",
            "  Trend analysis captured 4 promising configurations\n",
            "  that might have been missed by traditional selection\n",
            "\n",
            "STAGE 2 CONFIGURATION:\n",
            "  Epochs per trial: 25 (extended for prospects)\n",
            "  Trials per model: 40\n",
            "  Total trials: 200\n",
            "  Early stopping patience: 8\n",
            "  Estimated runtime: 208.3 minutes\n",
            "  Expected improvement: 3-5% over Stage 1 best with trend-aware selection\n"
          ]
        }
      ],
      "source": [
        "# Execute Analysis and Generate Stage 2 Search Spaces\n",
        "\n",
        "# Perform automated analysis with trend detection\n",
        "refined_search_spaces, analysis_summary = analyze_stage1_and_refine_search_space(stage1_results)\n",
        "\n",
        "# Save analysis results\n",
        "analysis_file = RESULTS_DIR / 'stage1_analysis.json'\n",
        "with open(analysis_file, 'w') as f:\n",
        "    json.dump(analysis_summary, f, indent=2, default=str)\n",
        "\n",
        "print(f\"Analysis results saved to: {repo_name}/results/hp_search_per_model/stage1_analysis.json\")\n",
        "\n",
        "# Display comprehensive refinement summary\n",
        "print(\"\\nSEARCH SPACE REFINEMENT SUMMARY\")\n",
        "print(\"=\" * 50)\n",
        "\n",
        "total_selected = 0\n",
        "total_prospects = 0\n",
        "\n",
        "for model_name, space in refined_search_spaces.items():\n",
        "    summary = analysis_summary[model_name]\n",
        "    \n",
        "    print(f\"\\n{MODEL_NAMES[model_name]}:\")\n",
        "    print(f\"  Total trials: {summary['total_trials']}\")\n",
        "    print(f\"  Selected for Stage 2: {summary['selected_trials']}\")\n",
        "    print(f\"    High performers: {summary['high_performers']}\")\n",
        "    print(f\"    Prospects: {summary['prospects']}\")\n",
        "    print(f\"  Selection rate: {100 * summary['selected_trials'] / summary['total_trials']:.1f}%\")\n",
        "    \n",
        "    if summary['prospects'] > 0:\n",
        "        print(f\"  Prospects detected: {summary['prospects']} configurations with strong trends\")\n",
        "    \n",
        "    # Calculate space reduction\n",
        "    orig_comb = np.prod([len(v) for v in SEARCH_SPACE_STAGE1.values()])\n",
        "    refined_comb = np.prod([len(v) for v in space.values()])\n",
        "    reduction_pct = (1 - refined_comb / orig_comb) * 100\n",
        "    \n",
        "    print(f\"  Search space reduction: {reduction_pct:.1f}%\")\n",
        "    print(f\"  Refined combinations: {refined_comb:,} (from {orig_comb:,})\")\n",
        "    \n",
        "    # Show significant parameter refinements\n",
        "    sig = []\n",
        "    for param, vals in space.items():\n",
        "        o_cnt = len(SEARCH_SPACE_STAGE1[param])\n",
        "        r_cnt = len(vals)\n",
        "        red = (1 - r_cnt/o_cnt) * 100\n",
        "        if red >= 30:\n",
        "            sig.append(f\"{param}: {r_cnt}/{o_cnt} (-{red:.0f}%)\")\n",
        "    if sig:\n",
        "        print(\"  Key refinements:\")\n",
        "        for entry in sig:\n",
        "            print(f\"    {entry}\")\n",
        "    \n",
        "    total_selected += summary['selected_trials']\n",
        "    total_prospects += summary['prospects']\n",
        "\n",
        "print(f\"\\nOVERALL IMPACT:\")\n",
        "print(f\"  Total configurations selected: {total_selected}\")\n",
        "print(f\"  Prospects identified: {total_prospects}\")\n",
        "print(f\"  Selection efficiency: {100 * total_selected / len(stage1_results):.1f}%\")\n",
        "\n",
        "if total_prospects > 0:\n",
        "    print(f\"  Trend analysis captured {total_prospects} promising configurations\")\n",
        "    print(\"  that might have been missed by traditional selection\")\n",
        "\n",
        "# Stage 2 Configuration\n",
        "STAGE2_CONFIG = {\n",
        "    'num_epochs': 25,\n",
        "    'trials_per_model': 40,\n",
        "    'total_trials': 200,  # 40 × 5 models\n",
        "    'early_stopping_patience': 8,\n",
        "    'monitor_metric': 'val_loss'\n",
        "}\n",
        "\n",
        "print(f\"\\nSTAGE 2 CONFIGURATION:\")\n",
        "print(f\"  Epochs per trial: {STAGE2_CONFIG['num_epochs']} (extended for prospects)\")\n",
        "print(f\"  Trials per model: {STAGE2_CONFIG['trials_per_model']}\")\n",
        "print(f\"  Total trials: {STAGE2_CONFIG['total_trials']}\")\n",
        "print(f\"  Early stopping patience: {STAGE2_CONFIG['early_stopping_patience']}\")\n",
        "print(f\"  Estimated runtime: {STAGE2_CONFIG['total_trials'] * STAGE2_CONFIG['num_epochs'] * 2.5 / 60:.1f} minutes\")\n",
        "print(\"  Expected improvement: 3-5% over Stage 1 best with trend-aware selection\")"
      ]
    },
    {
      "cell_type": "markdown",
      "metadata": {
        "vscode": {
          "languageId": "raw"
        }
      },
      "source": [
        "## **Stage 2: Focused Hyperparameter Optimization** <a id=\"stage2\"></a>\n",
        "\n",
        "Executes targeted hyperparameter search using the refined parameter spaces generated from Stage 1 analysis.  \n",
        "Each architecture is optimized within its own high-potential search space using extended training schedules.\n",
        "- Perform 40 focused trials per model within a narrowed parameter space\n",
        "- Leverage trend-based selections to explore undertrained but promising configurations\n",
        "- Train for more epochs (25) to allow full convergence of \"slow starters\"\n",
        "- Quantify improvement over Stage 1 best performers\n",
        "- Save Stage 2 trial data for in-depth analysus and model selection"
      ]
    },
    {
      "cell_type": "code",
      "execution_count": 12,
      "metadata": {},
      "outputs": [
        {
          "name": "stdout",
          "output_type": "stream",
          "text": [
            "Starting Stage 2 Focused Hyperparameter Optimization\n",
            "============================================================\n",
            "\n",
            "EfficientNet-B0 - Stage 2 Refinement\n",
            "Refined search space: 259,200 combinations\n"
          ]
        },
        {
          "data": {
            "application/vnd.jupyter.widget-view+json": {
              "model_id": "ff881982172f44f0a4eaa0e65c7dc8ea",
              "version_major": 2,
              "version_minor": 0
            },
            "text/plain": [
              "Stage 2 Progress:   0%|          | 0/40 [00:00<?, ?it/s]"
            ]
          },
          "metadata": {},
          "output_type": "display_data"
        },
        {
          "data": {
            "application/vnd.jupyter.widget-view+json": {
              "model_id": "d715c40d4d3047b9a1464fbcdbaf4927",
              "version_major": 2,
              "version_minor": 0
            },
            "text/plain": [
              "EfficientNet-B0 | BestAcc N/A:   0%|          | 0/40 [00:00<?, ?it/s]"
            ]
          },
          "metadata": {},
          "output_type": "display_data"
        },
        {
          "data": {
            "application/vnd.jupyter.widget-view+json": {
              "model_id": "1c802433bf2d4b37a5c1c96ff375b024",
              "version_major": 2,
              "version_minor": 0
            },
            "text/plain": [
              "Epoch 0/25 | BestEp 0/25:   0%|          | 0/25 [00:00<?, ?it/s]"
            ]
          },
          "metadata": {},
          "output_type": "display_data"
        },
        {
          "data": {
            "application/vnd.jupyter.widget-view+json": {
              "model_id": "f013452ee5bd4fa0b524d8c53e3edd17",
              "version_major": 2,
              "version_minor": 0
            },
            "text/plain": [
              "Epoch 0/25 | BestEp 0/25:   0%|          | 0/25 [00:00<?, ?it/s]"
            ]
          },
          "metadata": {},
          "output_type": "display_data"
        },
        {
          "data": {
            "application/vnd.jupyter.widget-view+json": {
              "model_id": "8efc79943a034752a5c96397fc705b0b",
              "version_major": 2,
              "version_minor": 0
            },
            "text/plain": [
              "Epoch 0/25 | BestEp 0/25:   0%|          | 0/25 [00:00<?, ?it/s]"
            ]
          },
          "metadata": {},
          "output_type": "display_data"
        },
        {
          "data": {
            "application/vnd.jupyter.widget-view+json": {
              "model_id": "78ca96c137674e4b864ee834f83ab1b4",
              "version_major": 2,
              "version_minor": 0
            },
            "text/plain": [
              "Epoch 0/25 | BestEp 0/25:   0%|          | 0/25 [00:00<?, ?it/s]"
            ]
          },
          "metadata": {},
          "output_type": "display_data"
        },
        {
          "data": {
            "application/vnd.jupyter.widget-view+json": {
              "model_id": "9cbb648f79d5418e90e6c4cc67421970",
              "version_major": 2,
              "version_minor": 0
            },
            "text/plain": [
              "Epoch 0/25 | BestEp 0/25:   0%|          | 0/25 [00:00<?, ?it/s]"
            ]
          },
          "metadata": {},
          "output_type": "display_data"
        },
        {
          "data": {
            "application/vnd.jupyter.widget-view+json": {
              "model_id": "fbdf0434361a40cc9cb581948460b205",
              "version_major": 2,
              "version_minor": 0
            },
            "text/plain": [
              "Epoch 0/25 | BestEp 0/25:   0%|          | 0/25 [00:00<?, ?it/s]"
            ]
          },
          "metadata": {},
          "output_type": "display_data"
        },
        {
          "data": {
            "application/vnd.jupyter.widget-view+json": {
              "model_id": "0a66035d392846d4bf4b4edb0ff61efe",
              "version_major": 2,
              "version_minor": 0
            },
            "text/plain": [
              "Epoch 0/25 | BestEp 0/25:   0%|          | 0/25 [00:00<?, ?it/s]"
            ]
          },
          "metadata": {},
          "output_type": "display_data"
        },
        {
          "data": {
            "application/vnd.jupyter.widget-view+json": {
              "model_id": "148736bec1d44e3eaf1bde0a36fc9b23",
              "version_major": 2,
              "version_minor": 0
            },
            "text/plain": [
              "Epoch 0/25 | BestEp 0/25:   0%|          | 0/25 [00:00<?, ?it/s]"
            ]
          },
          "metadata": {},
          "output_type": "display_data"
        },
        {
          "data": {
            "application/vnd.jupyter.widget-view+json": {
              "model_id": "c8e06b96689d4d1784dbeec69a87cc03",
              "version_major": 2,
              "version_minor": 0
            },
            "text/plain": [
              "Epoch 0/25 | BestEp 0/25:   0%|          | 0/25 [00:00<?, ?it/s]"
            ]
          },
          "metadata": {},
          "output_type": "display_data"
        },
        {
          "data": {
            "application/vnd.jupyter.widget-view+json": {
              "model_id": "f6ea75545e7a49f5a2f4ed232fce5ea1",
              "version_major": 2,
              "version_minor": 0
            },
            "text/plain": [
              "Epoch 0/25 | BestEp 0/25:   0%|          | 0/25 [00:00<?, ?it/s]"
            ]
          },
          "metadata": {},
          "output_type": "display_data"
        },
        {
          "data": {
            "application/vnd.jupyter.widget-view+json": {
              "model_id": "27567027d41348298773a42974f379ff",
              "version_major": 2,
              "version_minor": 0
            },
            "text/plain": [
              "Epoch 0/25 | BestEp 0/25:   0%|          | 0/25 [00:00<?, ?it/s]"
            ]
          },
          "metadata": {},
          "output_type": "display_data"
        },
        {
          "data": {
            "application/vnd.jupyter.widget-view+json": {
              "model_id": "08af28ae1bb747d3bea0ca8bdce5850e",
              "version_major": 2,
              "version_minor": 0
            },
            "text/plain": [
              "Epoch 0/25 | BestEp 0/25:   0%|          | 0/25 [00:00<?, ?it/s]"
            ]
          },
          "metadata": {},
          "output_type": "display_data"
        },
        {
          "data": {
            "application/vnd.jupyter.widget-view+json": {
              "model_id": "fad8789dd37e4883bbb8a851151576b6",
              "version_major": 2,
              "version_minor": 0
            },
            "text/plain": [
              "Epoch 0/25 | BestEp 0/25:   0%|          | 0/25 [00:00<?, ?it/s]"
            ]
          },
          "metadata": {},
          "output_type": "display_data"
        },
        {
          "data": {
            "application/vnd.jupyter.widget-view+json": {
              "model_id": "5c9befd009824a79803cc5cd79c3854c",
              "version_major": 2,
              "version_minor": 0
            },
            "text/plain": [
              "Epoch 0/25 | BestEp 0/25:   0%|          | 0/25 [00:00<?, ?it/s]"
            ]
          },
          "metadata": {},
          "output_type": "display_data"
        },
        {
          "data": {
            "application/vnd.jupyter.widget-view+json": {
              "model_id": "87f8b0fa73a94d7daf83a1e521379aa1",
              "version_major": 2,
              "version_minor": 0
            },
            "text/plain": [
              "Epoch 0/25 | BestEp 0/25:   0%|          | 0/25 [00:00<?, ?it/s]"
            ]
          },
          "metadata": {},
          "output_type": "display_data"
        },
        {
          "data": {
            "application/vnd.jupyter.widget-view+json": {
              "model_id": "2bdb2ef17121430ba73c859c66861d98",
              "version_major": 2,
              "version_minor": 0
            },
            "text/plain": [
              "Epoch 0/25 | BestEp 0/25:   0%|          | 0/25 [00:00<?, ?it/s]"
            ]
          },
          "metadata": {},
          "output_type": "display_data"
        },
        {
          "data": {
            "application/vnd.jupyter.widget-view+json": {
              "model_id": "539ebef3d7184e2e9ec13f6a5da1d8ec",
              "version_major": 2,
              "version_minor": 0
            },
            "text/plain": [
              "Epoch 0/25 | BestEp 0/25:   0%|          | 0/25 [00:00<?, ?it/s]"
            ]
          },
          "metadata": {},
          "output_type": "display_data"
        },
        {
          "data": {
            "application/vnd.jupyter.widget-view+json": {
              "model_id": "f0fed885bcb84cec9942139ae4fe773a",
              "version_major": 2,
              "version_minor": 0
            },
            "text/plain": [
              "Epoch 0/25 | BestEp 0/25:   0%|          | 0/25 [00:00<?, ?it/s]"
            ]
          },
          "metadata": {},
          "output_type": "display_data"
        },
        {
          "data": {
            "application/vnd.jupyter.widget-view+json": {
              "model_id": "3566a4216e4a4b209ab1fd5be78071e9",
              "version_major": 2,
              "version_minor": 0
            },
            "text/plain": [
              "Epoch 0/25 | BestEp 0/25:   0%|          | 0/25 [00:00<?, ?it/s]"
            ]
          },
          "metadata": {},
          "output_type": "display_data"
        },
        {
          "data": {
            "application/vnd.jupyter.widget-view+json": {
              "model_id": "3425b03d2dc448fa8655a60d739a780e",
              "version_major": 2,
              "version_minor": 0
            },
            "text/plain": [
              "Epoch 0/25 | BestEp 0/25:   0%|          | 0/25 [00:00<?, ?it/s]"
            ]
          },
          "metadata": {},
          "output_type": "display_data"
        },
        {
          "data": {
            "application/vnd.jupyter.widget-view+json": {
              "model_id": "8ed864bed10c4d31895b99896009322e",
              "version_major": 2,
              "version_minor": 0
            },
            "text/plain": [
              "Epoch 0/25 | BestEp 0/25:   0%|          | 0/25 [00:00<?, ?it/s]"
            ]
          },
          "metadata": {},
          "output_type": "display_data"
        },
        {
          "data": {
            "application/vnd.jupyter.widget-view+json": {
              "model_id": "7c1b01559bcf494893298b941130d94d",
              "version_major": 2,
              "version_minor": 0
            },
            "text/plain": [
              "Epoch 0/25 | BestEp 0/25:   0%|          | 0/25 [00:00<?, ?it/s]"
            ]
          },
          "metadata": {},
          "output_type": "display_data"
        },
        {
          "data": {
            "application/vnd.jupyter.widget-view+json": {
              "model_id": "ad4a6b088b1940e39cd842447c2af7ea",
              "version_major": 2,
              "version_minor": 0
            },
            "text/plain": [
              "Epoch 0/25 | BestEp 0/25:   0%|          | 0/25 [00:00<?, ?it/s]"
            ]
          },
          "metadata": {},
          "output_type": "display_data"
        },
        {
          "data": {
            "application/vnd.jupyter.widget-view+json": {
              "model_id": "68dbce2b85e64807a303b1046007d66e",
              "version_major": 2,
              "version_minor": 0
            },
            "text/plain": [
              "Epoch 0/25 | BestEp 0/25:   0%|          | 0/25 [00:00<?, ?it/s]"
            ]
          },
          "metadata": {},
          "output_type": "display_data"
        },
        {
          "data": {
            "application/vnd.jupyter.widget-view+json": {
              "model_id": "a1d1d48664ea4878abeb124d6309c2d2",
              "version_major": 2,
              "version_minor": 0
            },
            "text/plain": [
              "Epoch 0/25 | BestEp 0/25:   0%|          | 0/25 [00:00<?, ?it/s]"
            ]
          },
          "metadata": {},
          "output_type": "display_data"
        },
        {
          "data": {
            "application/vnd.jupyter.widget-view+json": {
              "model_id": "752150ec5eb74d7ea66b2c98a9e5a537",
              "version_major": 2,
              "version_minor": 0
            },
            "text/plain": [
              "Epoch 0/25 | BestEp 0/25:   0%|          | 0/25 [00:00<?, ?it/s]"
            ]
          },
          "metadata": {},
          "output_type": "display_data"
        },
        {
          "data": {
            "application/vnd.jupyter.widget-view+json": {
              "model_id": "ed8d8daf1a4c4662a2579ea1c6d433c0",
              "version_major": 2,
              "version_minor": 0
            },
            "text/plain": [
              "Epoch 0/25 | BestEp 0/25:   0%|          | 0/25 [00:00<?, ?it/s]"
            ]
          },
          "metadata": {},
          "output_type": "display_data"
        },
        {
          "data": {
            "application/vnd.jupyter.widget-view+json": {
              "model_id": "0e14d30cafce4738a4fdfb023ff995b8",
              "version_major": 2,
              "version_minor": 0
            },
            "text/plain": [
              "Epoch 0/25 | BestEp 0/25:   0%|          | 0/25 [00:00<?, ?it/s]"
            ]
          },
          "metadata": {},
          "output_type": "display_data"
        },
        {
          "data": {
            "application/vnd.jupyter.widget-view+json": {
              "model_id": "9768eb83993a4d008f6524cf59fd4cda",
              "version_major": 2,
              "version_minor": 0
            },
            "text/plain": [
              "Epoch 0/25 | BestEp 0/25:   0%|          | 0/25 [00:00<?, ?it/s]"
            ]
          },
          "metadata": {},
          "output_type": "display_data"
        },
        {
          "data": {
            "application/vnd.jupyter.widget-view+json": {
              "model_id": "766fdeb5d0ab45439e432025d4052ae1",
              "version_major": 2,
              "version_minor": 0
            },
            "text/plain": [
              "Epoch 0/25 | BestEp 0/25:   0%|          | 0/25 [00:00<?, ?it/s]"
            ]
          },
          "metadata": {},
          "output_type": "display_data"
        },
        {
          "data": {
            "application/vnd.jupyter.widget-view+json": {
              "model_id": "9093ab39e33a45ce88574520a6719555",
              "version_major": 2,
              "version_minor": 0
            },
            "text/plain": [
              "Epoch 0/25 | BestEp 0/25:   0%|          | 0/25 [00:00<?, ?it/s]"
            ]
          },
          "metadata": {},
          "output_type": "display_data"
        },
        {
          "data": {
            "application/vnd.jupyter.widget-view+json": {
              "model_id": "89b23e44d486435ab8ca3e4ff195ac76",
              "version_major": 2,
              "version_minor": 0
            },
            "text/plain": [
              "Epoch 0/25 | BestEp 0/25:   0%|          | 0/25 [00:00<?, ?it/s]"
            ]
          },
          "metadata": {},
          "output_type": "display_data"
        },
        {
          "data": {
            "application/vnd.jupyter.widget-view+json": {
              "model_id": "d01f4c3db1bf4c4394a349c6a9ae52f7",
              "version_major": 2,
              "version_minor": 0
            },
            "text/plain": [
              "Epoch 0/25 | BestEp 0/25:   0%|          | 0/25 [00:00<?, ?it/s]"
            ]
          },
          "metadata": {},
          "output_type": "display_data"
        },
        {
          "data": {
            "application/vnd.jupyter.widget-view+json": {
              "model_id": "2ea229779e8f41fdb63789c8b8a32983",
              "version_major": 2,
              "version_minor": 0
            },
            "text/plain": [
              "Epoch 0/25 | BestEp 0/25:   0%|          | 0/25 [00:00<?, ?it/s]"
            ]
          },
          "metadata": {},
          "output_type": "display_data"
        },
        {
          "data": {
            "application/vnd.jupyter.widget-view+json": {
              "model_id": "02b57fa556c442b0a3bbfcedf584446e",
              "version_major": 2,
              "version_minor": 0
            },
            "text/plain": [
              "Epoch 0/25 | BestEp 0/25:   0%|          | 0/25 [00:00<?, ?it/s]"
            ]
          },
          "metadata": {},
          "output_type": "display_data"
        },
        {
          "data": {
            "application/vnd.jupyter.widget-view+json": {
              "model_id": "8ff2e4e0a7714f09b33201aada0a08dd",
              "version_major": 2,
              "version_minor": 0
            },
            "text/plain": [
              "Epoch 0/25 | BestEp 0/25:   0%|          | 0/25 [00:00<?, ?it/s]"
            ]
          },
          "metadata": {},
          "output_type": "display_data"
        },
        {
          "data": {
            "application/vnd.jupyter.widget-view+json": {
              "model_id": "92c3712be2404ff2a56008131dc91c14",
              "version_major": 2,
              "version_minor": 0
            },
            "text/plain": [
              "Epoch 0/25 | BestEp 0/25:   0%|          | 0/25 [00:00<?, ?it/s]"
            ]
          },
          "metadata": {},
          "output_type": "display_data"
        },
        {
          "data": {
            "application/vnd.jupyter.widget-view+json": {
              "model_id": "7e56f79cef064bfdb9138e304f402e99",
              "version_major": 2,
              "version_minor": 0
            },
            "text/plain": [
              "Epoch 0/25 | BestEp 0/25:   0%|          | 0/25 [00:00<?, ?it/s]"
            ]
          },
          "metadata": {},
          "output_type": "display_data"
        },
        {
          "data": {
            "application/vnd.jupyter.widget-view+json": {
              "model_id": "8d029c23b67e40c0929491314eb5d78c",
              "version_major": 2,
              "version_minor": 0
            },
            "text/plain": [
              "Epoch 0/25 | BestEp 0/25:   0%|          | 0/25 [00:00<?, ?it/s]"
            ]
          },
          "metadata": {},
          "output_type": "display_data"
        },
        {
          "data": {
            "application/vnd.jupyter.widget-view+json": {
              "model_id": "45ce9b7cc5324a428a267e161b7651d7",
              "version_major": 2,
              "version_minor": 0
            },
            "text/plain": [
              "Epoch 0/25 | BestEp 0/25:   0%|          | 0/25 [00:00<?, ?it/s]"
            ]
          },
          "metadata": {},
          "output_type": "display_data"
        },
        {
          "name": "stdout",
          "output_type": "stream",
          "text": [
            "\n",
            "============================================================\n",
            "STAGE 2 COMPLETE\n",
            "Best overall: EfficientNet-B0 with 88.13% validation accuracy\n",
            "Total time: 188.5 minutes\n",
            "Successful trials: 40\n",
            "\n",
            "RegNet-Y-800MF - Stage 2 Refinement\n",
            "Refined search space: 72,000 combinations\n"
          ]
        },
        {
          "data": {
            "application/vnd.jupyter.widget-view+json": {
              "model_id": "9c23fb8b4c6940f29fd032e6675c1600",
              "version_major": 2,
              "version_minor": 0
            },
            "text/plain": [
              "Stage 2 Progress:   0%|          | 0/40 [00:00<?, ?it/s]"
            ]
          },
          "metadata": {},
          "output_type": "display_data"
        },
        {
          "data": {
            "application/vnd.jupyter.widget-view+json": {
              "model_id": "fa06a4f48b354805903150c3a5c1d9f1",
              "version_major": 2,
              "version_minor": 0
            },
            "text/plain": [
              "RegNet-Y-800MF | BestAcc N/A:   0%|          | 0/40 [00:00<?, ?it/s]"
            ]
          },
          "metadata": {},
          "output_type": "display_data"
        },
        {
          "data": {
            "application/vnd.jupyter.widget-view+json": {
              "model_id": "ed81bc0b892d432b95d5c53846f995cc",
              "version_major": 2,
              "version_minor": 0
            },
            "text/plain": [
              "Epoch 0/25 | BestEp 0/25:   0%|          | 0/25 [00:00<?, ?it/s]"
            ]
          },
          "metadata": {},
          "output_type": "display_data"
        },
        {
          "data": {
            "application/vnd.jupyter.widget-view+json": {
              "model_id": "bac24afac7b54e9b9f7306466fefb557",
              "version_major": 2,
              "version_minor": 0
            },
            "text/plain": [
              "Epoch 0/25 | BestEp 0/25:   0%|          | 0/25 [00:00<?, ?it/s]"
            ]
          },
          "metadata": {},
          "output_type": "display_data"
        },
        {
          "data": {
            "application/vnd.jupyter.widget-view+json": {
              "model_id": "486ac1b8f88b42d29f8fbead195ad8d2",
              "version_major": 2,
              "version_minor": 0
            },
            "text/plain": [
              "Epoch 0/25 | BestEp 0/25:   0%|          | 0/25 [00:00<?, ?it/s]"
            ]
          },
          "metadata": {},
          "output_type": "display_data"
        },
        {
          "data": {
            "application/vnd.jupyter.widget-view+json": {
              "model_id": "994a6b1995f94bfe8c1d7e8adb958b7f",
              "version_major": 2,
              "version_minor": 0
            },
            "text/plain": [
              "Epoch 0/25 | BestEp 0/25:   0%|          | 0/25 [00:00<?, ?it/s]"
            ]
          },
          "metadata": {},
          "output_type": "display_data"
        },
        {
          "data": {
            "application/vnd.jupyter.widget-view+json": {
              "model_id": "6e5c5ffad4474a069c54b07c7f0adfdc",
              "version_major": 2,
              "version_minor": 0
            },
            "text/plain": [
              "Epoch 0/25 | BestEp 0/25:   0%|          | 0/25 [00:00<?, ?it/s]"
            ]
          },
          "metadata": {},
          "output_type": "display_data"
        },
        {
          "data": {
            "application/vnd.jupyter.widget-view+json": {
              "model_id": "4461017432bf4d538e88c698a962e533",
              "version_major": 2,
              "version_minor": 0
            },
            "text/plain": [
              "Epoch 0/25 | BestEp 0/25:   0%|          | 0/25 [00:00<?, ?it/s]"
            ]
          },
          "metadata": {},
          "output_type": "display_data"
        },
        {
          "data": {
            "application/vnd.jupyter.widget-view+json": {
              "model_id": "a425c557613947a29448fcb083ee0de4",
              "version_major": 2,
              "version_minor": 0
            },
            "text/plain": [
              "Epoch 0/25 | BestEp 0/25:   0%|          | 0/25 [00:00<?, ?it/s]"
            ]
          },
          "metadata": {},
          "output_type": "display_data"
        },
        {
          "data": {
            "application/vnd.jupyter.widget-view+json": {
              "model_id": "613bae438494468eba6b002ce2eb4642",
              "version_major": 2,
              "version_minor": 0
            },
            "text/plain": [
              "Epoch 0/25 | BestEp 0/25:   0%|          | 0/25 [00:00<?, ?it/s]"
            ]
          },
          "metadata": {},
          "output_type": "display_data"
        },
        {
          "data": {
            "application/vnd.jupyter.widget-view+json": {
              "model_id": "0d4502e957b04ad5978fa2d684ca976b",
              "version_major": 2,
              "version_minor": 0
            },
            "text/plain": [
              "Epoch 0/25 | BestEp 0/25:   0%|          | 0/25 [00:00<?, ?it/s]"
            ]
          },
          "metadata": {},
          "output_type": "display_data"
        },
        {
          "data": {
            "application/vnd.jupyter.widget-view+json": {
              "model_id": "bd6e6c9482414f9bbabb94e7cf44537a",
              "version_major": 2,
              "version_minor": 0
            },
            "text/plain": [
              "Epoch 0/25 | BestEp 0/25:   0%|          | 0/25 [00:00<?, ?it/s]"
            ]
          },
          "metadata": {},
          "output_type": "display_data"
        },
        {
          "data": {
            "application/vnd.jupyter.widget-view+json": {
              "model_id": "137cd85fa1b84c8e9ccb57a139900166",
              "version_major": 2,
              "version_minor": 0
            },
            "text/plain": [
              "Epoch 0/25 | BestEp 0/25:   0%|          | 0/25 [00:00<?, ?it/s]"
            ]
          },
          "metadata": {},
          "output_type": "display_data"
        },
        {
          "data": {
            "application/vnd.jupyter.widget-view+json": {
              "model_id": "1e435fd7734845a091bc717c0e755f1d",
              "version_major": 2,
              "version_minor": 0
            },
            "text/plain": [
              "Epoch 0/25 | BestEp 0/25:   0%|          | 0/25 [00:00<?, ?it/s]"
            ]
          },
          "metadata": {},
          "output_type": "display_data"
        },
        {
          "data": {
            "application/vnd.jupyter.widget-view+json": {
              "model_id": "0558d0605d734d2fa7068ec148cc2f4d",
              "version_major": 2,
              "version_minor": 0
            },
            "text/plain": [
              "Epoch 0/25 | BestEp 0/25:   0%|          | 0/25 [00:00<?, ?it/s]"
            ]
          },
          "metadata": {},
          "output_type": "display_data"
        },
        {
          "data": {
            "application/vnd.jupyter.widget-view+json": {
              "model_id": "ef9e153b37ef4804a19422b675d6e966",
              "version_major": 2,
              "version_minor": 0
            },
            "text/plain": [
              "Epoch 0/25 | BestEp 0/25:   0%|          | 0/25 [00:00<?, ?it/s]"
            ]
          },
          "metadata": {},
          "output_type": "display_data"
        },
        {
          "data": {
            "application/vnd.jupyter.widget-view+json": {
              "model_id": "6b310a808cdf4cc7975720b8ddcedd63",
              "version_major": 2,
              "version_minor": 0
            },
            "text/plain": [
              "Epoch 0/25 | BestEp 0/25:   0%|          | 0/25 [00:00<?, ?it/s]"
            ]
          },
          "metadata": {},
          "output_type": "display_data"
        },
        {
          "data": {
            "application/vnd.jupyter.widget-view+json": {
              "model_id": "663b163fbf1b4b3ca7a797344cc64cd3",
              "version_major": 2,
              "version_minor": 0
            },
            "text/plain": [
              "Epoch 0/25 | BestEp 0/25:   0%|          | 0/25 [00:00<?, ?it/s]"
            ]
          },
          "metadata": {},
          "output_type": "display_data"
        },
        {
          "data": {
            "application/vnd.jupyter.widget-view+json": {
              "model_id": "8b925884e19e44a99a91b54a08dd85fd",
              "version_major": 2,
              "version_minor": 0
            },
            "text/plain": [
              "Epoch 0/25 | BestEp 0/25:   0%|          | 0/25 [00:00<?, ?it/s]"
            ]
          },
          "metadata": {},
          "output_type": "display_data"
        },
        {
          "data": {
            "application/vnd.jupyter.widget-view+json": {
              "model_id": "550ba9ae2415476ba0629bde92cfb77f",
              "version_major": 2,
              "version_minor": 0
            },
            "text/plain": [
              "Epoch 0/25 | BestEp 0/25:   0%|          | 0/25 [00:00<?, ?it/s]"
            ]
          },
          "metadata": {},
          "output_type": "display_data"
        },
        {
          "data": {
            "application/vnd.jupyter.widget-view+json": {
              "model_id": "4d295f051699479db84be45a242e13f4",
              "version_major": 2,
              "version_minor": 0
            },
            "text/plain": [
              "Epoch 0/25 | BestEp 0/25:   0%|          | 0/25 [00:00<?, ?it/s]"
            ]
          },
          "metadata": {},
          "output_type": "display_data"
        },
        {
          "data": {
            "application/vnd.jupyter.widget-view+json": {
              "model_id": "a8b1dd81644b4eaa8b6db9000f3fbce8",
              "version_major": 2,
              "version_minor": 0
            },
            "text/plain": [
              "Epoch 0/25 | BestEp 0/25:   0%|          | 0/25 [00:00<?, ?it/s]"
            ]
          },
          "metadata": {},
          "output_type": "display_data"
        },
        {
          "data": {
            "application/vnd.jupyter.widget-view+json": {
              "model_id": "92628e5cc9ef4339aae8647195d7fa6d",
              "version_major": 2,
              "version_minor": 0
            },
            "text/plain": [
              "Epoch 0/25 | BestEp 0/25:   0%|          | 0/25 [00:00<?, ?it/s]"
            ]
          },
          "metadata": {},
          "output_type": "display_data"
        },
        {
          "data": {
            "application/vnd.jupyter.widget-view+json": {
              "model_id": "98a6fccd85774fbd8e8e8145d5ccaa54",
              "version_major": 2,
              "version_minor": 0
            },
            "text/plain": [
              "Epoch 0/25 | BestEp 0/25:   0%|          | 0/25 [00:00<?, ?it/s]"
            ]
          },
          "metadata": {},
          "output_type": "display_data"
        },
        {
          "data": {
            "application/vnd.jupyter.widget-view+json": {
              "model_id": "f146f455c52d49ddb354bf112d2160d7",
              "version_major": 2,
              "version_minor": 0
            },
            "text/plain": [
              "Epoch 0/25 | BestEp 0/25:   0%|          | 0/25 [00:00<?, ?it/s]"
            ]
          },
          "metadata": {},
          "output_type": "display_data"
        },
        {
          "data": {
            "application/vnd.jupyter.widget-view+json": {
              "model_id": "adb061a77bc04ee28d75fd7fe877fccf",
              "version_major": 2,
              "version_minor": 0
            },
            "text/plain": [
              "Epoch 0/25 | BestEp 0/25:   0%|          | 0/25 [00:00<?, ?it/s]"
            ]
          },
          "metadata": {},
          "output_type": "display_data"
        },
        {
          "data": {
            "application/vnd.jupyter.widget-view+json": {
              "model_id": "425e1c2094274d4aba3959e447cdf1fc",
              "version_major": 2,
              "version_minor": 0
            },
            "text/plain": [
              "Epoch 0/25 | BestEp 0/25:   0%|          | 0/25 [00:00<?, ?it/s]"
            ]
          },
          "metadata": {},
          "output_type": "display_data"
        },
        {
          "data": {
            "application/vnd.jupyter.widget-view+json": {
              "model_id": "2471e6729ded4dba8603bb8748f93cf7",
              "version_major": 2,
              "version_minor": 0
            },
            "text/plain": [
              "Epoch 0/25 | BestEp 0/25:   0%|          | 0/25 [00:00<?, ?it/s]"
            ]
          },
          "metadata": {},
          "output_type": "display_data"
        },
        {
          "data": {
            "application/vnd.jupyter.widget-view+json": {
              "model_id": "b053c8e551a84d339567dad0a02cf4ce",
              "version_major": 2,
              "version_minor": 0
            },
            "text/plain": [
              "Epoch 0/25 | BestEp 0/25:   0%|          | 0/25 [00:00<?, ?it/s]"
            ]
          },
          "metadata": {},
          "output_type": "display_data"
        },
        {
          "data": {
            "application/vnd.jupyter.widget-view+json": {
              "model_id": "7f738c42b1c74542a1f1b725ef8cea57",
              "version_major": 2,
              "version_minor": 0
            },
            "text/plain": [
              "Epoch 0/25 | BestEp 0/25:   0%|          | 0/25 [00:00<?, ?it/s]"
            ]
          },
          "metadata": {},
          "output_type": "display_data"
        },
        {
          "data": {
            "application/vnd.jupyter.widget-view+json": {
              "model_id": "2ceefb19ea6d49cc93d966565dad2c84",
              "version_major": 2,
              "version_minor": 0
            },
            "text/plain": [
              "Epoch 0/25 | BestEp 0/25:   0%|          | 0/25 [00:00<?, ?it/s]"
            ]
          },
          "metadata": {},
          "output_type": "display_data"
        },
        {
          "data": {
            "application/vnd.jupyter.widget-view+json": {
              "model_id": "612588abd7254f4fb52c0df103eab97b",
              "version_major": 2,
              "version_minor": 0
            },
            "text/plain": [
              "Epoch 0/25 | BestEp 0/25:   0%|          | 0/25 [00:00<?, ?it/s]"
            ]
          },
          "metadata": {},
          "output_type": "display_data"
        },
        {
          "data": {
            "application/vnd.jupyter.widget-view+json": {
              "model_id": "169630fbcac0468f8f76215f2a166e3c",
              "version_major": 2,
              "version_minor": 0
            },
            "text/plain": [
              "Epoch 0/25 | BestEp 0/25:   0%|          | 0/25 [00:00<?, ?it/s]"
            ]
          },
          "metadata": {},
          "output_type": "display_data"
        },
        {
          "data": {
            "application/vnd.jupyter.widget-view+json": {
              "model_id": "1ed85df7905f4efd9d72879334c5fafe",
              "version_major": 2,
              "version_minor": 0
            },
            "text/plain": [
              "Epoch 0/25 | BestEp 0/25:   0%|          | 0/25 [00:00<?, ?it/s]"
            ]
          },
          "metadata": {},
          "output_type": "display_data"
        },
        {
          "data": {
            "application/vnd.jupyter.widget-view+json": {
              "model_id": "db67e81970354c319f563c210fa525e6",
              "version_major": 2,
              "version_minor": 0
            },
            "text/plain": [
              "Epoch 0/25 | BestEp 0/25:   0%|          | 0/25 [00:00<?, ?it/s]"
            ]
          },
          "metadata": {},
          "output_type": "display_data"
        },
        {
          "data": {
            "application/vnd.jupyter.widget-view+json": {
              "model_id": "1e9a3dd2c4074e2bba588f338d26fbcd",
              "version_major": 2,
              "version_minor": 0
            },
            "text/plain": [
              "Epoch 0/25 | BestEp 0/25:   0%|          | 0/25 [00:00<?, ?it/s]"
            ]
          },
          "metadata": {},
          "output_type": "display_data"
        },
        {
          "data": {
            "application/vnd.jupyter.widget-view+json": {
              "model_id": "e57c6d49014b468f8c18ca503200fd6b",
              "version_major": 2,
              "version_minor": 0
            },
            "text/plain": [
              "Epoch 0/25 | BestEp 0/25:   0%|          | 0/25 [00:00<?, ?it/s]"
            ]
          },
          "metadata": {},
          "output_type": "display_data"
        },
        {
          "data": {
            "application/vnd.jupyter.widget-view+json": {
              "model_id": "750f6e09a07843d085a336d58fc6e918",
              "version_major": 2,
              "version_minor": 0
            },
            "text/plain": [
              "Epoch 0/25 | BestEp 0/25:   0%|          | 0/25 [00:00<?, ?it/s]"
            ]
          },
          "metadata": {},
          "output_type": "display_data"
        },
        {
          "data": {
            "application/vnd.jupyter.widget-view+json": {
              "model_id": "30b437cf7ff64d46a28303bff5f6919f",
              "version_major": 2,
              "version_minor": 0
            },
            "text/plain": [
              "Epoch 0/25 | BestEp 0/25:   0%|          | 0/25 [00:00<?, ?it/s]"
            ]
          },
          "metadata": {},
          "output_type": "display_data"
        },
        {
          "data": {
            "application/vnd.jupyter.widget-view+json": {
              "model_id": "ea8a6a0070094d2faff96a4ca9dd3165",
              "version_major": 2,
              "version_minor": 0
            },
            "text/plain": [
              "Epoch 0/25 | BestEp 0/25:   0%|          | 0/25 [00:00<?, ?it/s]"
            ]
          },
          "metadata": {},
          "output_type": "display_data"
        },
        {
          "data": {
            "application/vnd.jupyter.widget-view+json": {
              "model_id": "19051f34a4d34e4cbe7a22963cd59b6a",
              "version_major": 2,
              "version_minor": 0
            },
            "text/plain": [
              "Epoch 0/25 | BestEp 0/25:   0%|          | 0/25 [00:00<?, ?it/s]"
            ]
          },
          "metadata": {},
          "output_type": "display_data"
        },
        {
          "data": {
            "application/vnd.jupyter.widget-view+json": {
              "model_id": "6463e54bc40a44289abc1948da554872",
              "version_major": 2,
              "version_minor": 0
            },
            "text/plain": [
              "Epoch 0/25 | BestEp 0/25:   0%|          | 0/25 [00:00<?, ?it/s]"
            ]
          },
          "metadata": {},
          "output_type": "display_data"
        },
        {
          "name": "stdout",
          "output_type": "stream",
          "text": [
            "\n",
            "============================================================\n",
            "STAGE 2 COMPLETE\n",
            "Best overall: RegNet-Y-800MF with 86.76% validation accuracy\n",
            "Total time: 184.0 minutes\n",
            "Successful trials: 40\n",
            "\n",
            "DenseNet-121 - Stage 2 Refinement\n",
            "Refined search space: 155,520 combinations\n"
          ]
        },
        {
          "data": {
            "application/vnd.jupyter.widget-view+json": {
              "model_id": "6a7d5a7d4cbc48d689481db0c807df78",
              "version_major": 2,
              "version_minor": 0
            },
            "text/plain": [
              "Stage 2 Progress:   0%|          | 0/40 [00:00<?, ?it/s]"
            ]
          },
          "metadata": {},
          "output_type": "display_data"
        },
        {
          "data": {
            "application/vnd.jupyter.widget-view+json": {
              "model_id": "924d958c01614467841ae332b670e7cb",
              "version_major": 2,
              "version_minor": 0
            },
            "text/plain": [
              "DenseNet-121 | BestAcc N/A:   0%|          | 0/40 [00:00<?, ?it/s]"
            ]
          },
          "metadata": {},
          "output_type": "display_data"
        },
        {
          "data": {
            "application/vnd.jupyter.widget-view+json": {
              "model_id": "00bc19fcb45a44b78142d8ade43735ac",
              "version_major": 2,
              "version_minor": 0
            },
            "text/plain": [
              "Epoch 0/25 | BestEp 0/25:   0%|          | 0/25 [00:00<?, ?it/s]"
            ]
          },
          "metadata": {},
          "output_type": "display_data"
        },
        {
          "data": {
            "application/vnd.jupyter.widget-view+json": {
              "model_id": "ba90df194bdc46d89fef106da7203cde",
              "version_major": 2,
              "version_minor": 0
            },
            "text/plain": [
              "Epoch 0/25 | BestEp 0/25:   0%|          | 0/25 [00:00<?, ?it/s]"
            ]
          },
          "metadata": {},
          "output_type": "display_data"
        },
        {
          "data": {
            "application/vnd.jupyter.widget-view+json": {
              "model_id": "fade0a32954746d6bfaa5423ddfbc090",
              "version_major": 2,
              "version_minor": 0
            },
            "text/plain": [
              "Epoch 0/25 | BestEp 0/25:   0%|          | 0/25 [00:00<?, ?it/s]"
            ]
          },
          "metadata": {},
          "output_type": "display_data"
        },
        {
          "data": {
            "application/vnd.jupyter.widget-view+json": {
              "model_id": "b600927f88ac45ffb87e754979fa0045",
              "version_major": 2,
              "version_minor": 0
            },
            "text/plain": [
              "Epoch 0/25 | BestEp 0/25:   0%|          | 0/25 [00:00<?, ?it/s]"
            ]
          },
          "metadata": {},
          "output_type": "display_data"
        },
        {
          "data": {
            "application/vnd.jupyter.widget-view+json": {
              "model_id": "b7355d2704b84f5382ec61f400a77142",
              "version_major": 2,
              "version_minor": 0
            },
            "text/plain": [
              "Epoch 0/25 | BestEp 0/25:   0%|          | 0/25 [00:00<?, ?it/s]"
            ]
          },
          "metadata": {},
          "output_type": "display_data"
        },
        {
          "data": {
            "application/vnd.jupyter.widget-view+json": {
              "model_id": "b9f11b835088439cba0c9233001b90a3",
              "version_major": 2,
              "version_minor": 0
            },
            "text/plain": [
              "Epoch 0/25 | BestEp 0/25:   0%|          | 0/25 [00:00<?, ?it/s]"
            ]
          },
          "metadata": {},
          "output_type": "display_data"
        },
        {
          "data": {
            "application/vnd.jupyter.widget-view+json": {
              "model_id": "b65a5c6e3cc648f68df6f57b93599f84",
              "version_major": 2,
              "version_minor": 0
            },
            "text/plain": [
              "Epoch 0/25 | BestEp 0/25:   0%|          | 0/25 [00:00<?, ?it/s]"
            ]
          },
          "metadata": {},
          "output_type": "display_data"
        },
        {
          "data": {
            "application/vnd.jupyter.widget-view+json": {
              "model_id": "1fc1c3b45d654737afc931364fc18308",
              "version_major": 2,
              "version_minor": 0
            },
            "text/plain": [
              "Epoch 0/25 | BestEp 0/25:   0%|          | 0/25 [00:00<?, ?it/s]"
            ]
          },
          "metadata": {},
          "output_type": "display_data"
        },
        {
          "data": {
            "application/vnd.jupyter.widget-view+json": {
              "model_id": "86c7b3711e084398afcf2c8d1ee76f14",
              "version_major": 2,
              "version_minor": 0
            },
            "text/plain": [
              "Epoch 0/25 | BestEp 0/25:   0%|          | 0/25 [00:00<?, ?it/s]"
            ]
          },
          "metadata": {},
          "output_type": "display_data"
        },
        {
          "data": {
            "application/vnd.jupyter.widget-view+json": {
              "model_id": "4ee4cfcdf8be45568a41ec16f6181a74",
              "version_major": 2,
              "version_minor": 0
            },
            "text/plain": [
              "Epoch 0/25 | BestEp 0/25:   0%|          | 0/25 [00:00<?, ?it/s]"
            ]
          },
          "metadata": {},
          "output_type": "display_data"
        },
        {
          "data": {
            "application/vnd.jupyter.widget-view+json": {
              "model_id": "6f81fdd6faba4336b662652d91aadb80",
              "version_major": 2,
              "version_minor": 0
            },
            "text/plain": [
              "Epoch 0/25 | BestEp 0/25:   0%|          | 0/25 [00:00<?, ?it/s]"
            ]
          },
          "metadata": {},
          "output_type": "display_data"
        },
        {
          "data": {
            "application/vnd.jupyter.widget-view+json": {
              "model_id": "1f93d0bb4ddf4cdeb8c631dbc8ee30ba",
              "version_major": 2,
              "version_minor": 0
            },
            "text/plain": [
              "Epoch 0/25 | BestEp 0/25:   0%|          | 0/25 [00:00<?, ?it/s]"
            ]
          },
          "metadata": {},
          "output_type": "display_data"
        },
        {
          "data": {
            "application/vnd.jupyter.widget-view+json": {
              "model_id": "ac65c4d6078b423ba07ffbd77eac95f3",
              "version_major": 2,
              "version_minor": 0
            },
            "text/plain": [
              "Epoch 0/25 | BestEp 0/25:   0%|          | 0/25 [00:00<?, ?it/s]"
            ]
          },
          "metadata": {},
          "output_type": "display_data"
        },
        {
          "data": {
            "application/vnd.jupyter.widget-view+json": {
              "model_id": "3f22b44ea3e54f9b9bdf35a8db4f422b",
              "version_major": 2,
              "version_minor": 0
            },
            "text/plain": [
              "Epoch 0/25 | BestEp 0/25:   0%|          | 0/25 [00:00<?, ?it/s]"
            ]
          },
          "metadata": {},
          "output_type": "display_data"
        },
        {
          "data": {
            "application/vnd.jupyter.widget-view+json": {
              "model_id": "81f58029d4cd45dfa2bd9b2e16500e6a",
              "version_major": 2,
              "version_minor": 0
            },
            "text/plain": [
              "Epoch 0/25 | BestEp 0/25:   0%|          | 0/25 [00:00<?, ?it/s]"
            ]
          },
          "metadata": {},
          "output_type": "display_data"
        },
        {
          "data": {
            "application/vnd.jupyter.widget-view+json": {
              "model_id": "01b45dd7bffd4f5299fd500f9d95882f",
              "version_major": 2,
              "version_minor": 0
            },
            "text/plain": [
              "Epoch 0/25 | BestEp 0/25:   0%|          | 0/25 [00:00<?, ?it/s]"
            ]
          },
          "metadata": {},
          "output_type": "display_data"
        },
        {
          "data": {
            "application/vnd.jupyter.widget-view+json": {
              "model_id": "de5575d70f974afb85015d6b7e53e54a",
              "version_major": 2,
              "version_minor": 0
            },
            "text/plain": [
              "Epoch 0/25 | BestEp 0/25:   0%|          | 0/25 [00:00<?, ?it/s]"
            ]
          },
          "metadata": {},
          "output_type": "display_data"
        },
        {
          "data": {
            "application/vnd.jupyter.widget-view+json": {
              "model_id": "e092f556f0e54b6881196d3e7ba33a39",
              "version_major": 2,
              "version_minor": 0
            },
            "text/plain": [
              "Epoch 0/25 | BestEp 0/25:   0%|          | 0/25 [00:00<?, ?it/s]"
            ]
          },
          "metadata": {},
          "output_type": "display_data"
        },
        {
          "data": {
            "application/vnd.jupyter.widget-view+json": {
              "model_id": "d900349ef8a9478cbc3eb43a5cebb9b7",
              "version_major": 2,
              "version_minor": 0
            },
            "text/plain": [
              "Epoch 0/25 | BestEp 0/25:   0%|          | 0/25 [00:00<?, ?it/s]"
            ]
          },
          "metadata": {},
          "output_type": "display_data"
        },
        {
          "data": {
            "application/vnd.jupyter.widget-view+json": {
              "model_id": "9b375a5d3f68481eaa7712845a9b3887",
              "version_major": 2,
              "version_minor": 0
            },
            "text/plain": [
              "Epoch 0/25 | BestEp 0/25:   0%|          | 0/25 [00:00<?, ?it/s]"
            ]
          },
          "metadata": {},
          "output_type": "display_data"
        },
        {
          "data": {
            "application/vnd.jupyter.widget-view+json": {
              "model_id": "f877e6c0272042f0a13006e7ee2b0781",
              "version_major": 2,
              "version_minor": 0
            },
            "text/plain": [
              "Epoch 0/25 | BestEp 0/25:   0%|          | 0/25 [00:00<?, ?it/s]"
            ]
          },
          "metadata": {},
          "output_type": "display_data"
        },
        {
          "data": {
            "application/vnd.jupyter.widget-view+json": {
              "model_id": "1668bdfdeb2c4ea49cb8278aca4d82a5",
              "version_major": 2,
              "version_minor": 0
            },
            "text/plain": [
              "Epoch 0/25 | BestEp 0/25:   0%|          | 0/25 [00:00<?, ?it/s]"
            ]
          },
          "metadata": {},
          "output_type": "display_data"
        },
        {
          "data": {
            "application/vnd.jupyter.widget-view+json": {
              "model_id": "43790322c83c44cdbab95b57e852e4d3",
              "version_major": 2,
              "version_minor": 0
            },
            "text/plain": [
              "Epoch 0/25 | BestEp 0/25:   0%|          | 0/25 [00:00<?, ?it/s]"
            ]
          },
          "metadata": {},
          "output_type": "display_data"
        },
        {
          "data": {
            "application/vnd.jupyter.widget-view+json": {
              "model_id": "2838091973094e5cbaacddc78c4649d9",
              "version_major": 2,
              "version_minor": 0
            },
            "text/plain": [
              "Epoch 0/25 | BestEp 0/25:   0%|          | 0/25 [00:00<?, ?it/s]"
            ]
          },
          "metadata": {},
          "output_type": "display_data"
        },
        {
          "data": {
            "application/vnd.jupyter.widget-view+json": {
              "model_id": "6b08abb833084aa7ad514c5584e2d285",
              "version_major": 2,
              "version_minor": 0
            },
            "text/plain": [
              "Epoch 0/25 | BestEp 0/25:   0%|          | 0/25 [00:00<?, ?it/s]"
            ]
          },
          "metadata": {},
          "output_type": "display_data"
        },
        {
          "data": {
            "application/vnd.jupyter.widget-view+json": {
              "model_id": "80772f65d6e444a5a114d44823dcf991",
              "version_major": 2,
              "version_minor": 0
            },
            "text/plain": [
              "Epoch 0/25 | BestEp 0/25:   0%|          | 0/25 [00:00<?, ?it/s]"
            ]
          },
          "metadata": {},
          "output_type": "display_data"
        },
        {
          "data": {
            "application/vnd.jupyter.widget-view+json": {
              "model_id": "ceaafaba328046f29e82664f34c4a2e1",
              "version_major": 2,
              "version_minor": 0
            },
            "text/plain": [
              "Epoch 0/25 | BestEp 0/25:   0%|          | 0/25 [00:00<?, ?it/s]"
            ]
          },
          "metadata": {},
          "output_type": "display_data"
        },
        {
          "data": {
            "application/vnd.jupyter.widget-view+json": {
              "model_id": "09d18bf337b840d680e6f4aa69a9ba7f",
              "version_major": 2,
              "version_minor": 0
            },
            "text/plain": [
              "Epoch 0/25 | BestEp 0/25:   0%|          | 0/25 [00:00<?, ?it/s]"
            ]
          },
          "metadata": {},
          "output_type": "display_data"
        },
        {
          "data": {
            "application/vnd.jupyter.widget-view+json": {
              "model_id": "ec02dde17d5942ba882ba5baffc5fd81",
              "version_major": 2,
              "version_minor": 0
            },
            "text/plain": [
              "Epoch 0/25 | BestEp 0/25:   0%|          | 0/25 [00:00<?, ?it/s]"
            ]
          },
          "metadata": {},
          "output_type": "display_data"
        },
        {
          "data": {
            "application/vnd.jupyter.widget-view+json": {
              "model_id": "c8c1e8eae73e404ea8ec97f07cd2c22a",
              "version_major": 2,
              "version_minor": 0
            },
            "text/plain": [
              "Epoch 0/25 | BestEp 0/25:   0%|          | 0/25 [00:00<?, ?it/s]"
            ]
          },
          "metadata": {},
          "output_type": "display_data"
        },
        {
          "data": {
            "application/vnd.jupyter.widget-view+json": {
              "model_id": "10b55f4bf2ea4d3cadfae76791aeb10e",
              "version_major": 2,
              "version_minor": 0
            },
            "text/plain": [
              "Epoch 0/25 | BestEp 0/25:   0%|          | 0/25 [00:00<?, ?it/s]"
            ]
          },
          "metadata": {},
          "output_type": "display_data"
        },
        {
          "data": {
            "application/vnd.jupyter.widget-view+json": {
              "model_id": "c2c6efc79fee4e259f6814bfbcef0563",
              "version_major": 2,
              "version_minor": 0
            },
            "text/plain": [
              "Epoch 0/25 | BestEp 0/25:   0%|          | 0/25 [00:00<?, ?it/s]"
            ]
          },
          "metadata": {},
          "output_type": "display_data"
        },
        {
          "data": {
            "application/vnd.jupyter.widget-view+json": {
              "model_id": "cac021a5cca34e69a6e66ac2f495b956",
              "version_major": 2,
              "version_minor": 0
            },
            "text/plain": [
              "Epoch 0/25 | BestEp 0/25:   0%|          | 0/25 [00:00<?, ?it/s]"
            ]
          },
          "metadata": {},
          "output_type": "display_data"
        },
        {
          "data": {
            "application/vnd.jupyter.widget-view+json": {
              "model_id": "d19322d4d24f44a6b7614d903870be0d",
              "version_major": 2,
              "version_minor": 0
            },
            "text/plain": [
              "Epoch 0/25 | BestEp 0/25:   0%|          | 0/25 [00:00<?, ?it/s]"
            ]
          },
          "metadata": {},
          "output_type": "display_data"
        },
        {
          "data": {
            "application/vnd.jupyter.widget-view+json": {
              "model_id": "29b8ee414a86435d9b2f9e5cb6d52e88",
              "version_major": 2,
              "version_minor": 0
            },
            "text/plain": [
              "Epoch 0/25 | BestEp 0/25:   0%|          | 0/25 [00:00<?, ?it/s]"
            ]
          },
          "metadata": {},
          "output_type": "display_data"
        },
        {
          "data": {
            "application/vnd.jupyter.widget-view+json": {
              "model_id": "a65c7588e345437c976404e6e26f6b9a",
              "version_major": 2,
              "version_minor": 0
            },
            "text/plain": [
              "Epoch 0/25 | BestEp 0/25:   0%|          | 0/25 [00:00<?, ?it/s]"
            ]
          },
          "metadata": {},
          "output_type": "display_data"
        },
        {
          "data": {
            "application/vnd.jupyter.widget-view+json": {
              "model_id": "16da0c71c480475ab013ddb4f5ae4e4b",
              "version_major": 2,
              "version_minor": 0
            },
            "text/plain": [
              "Epoch 0/25 | BestEp 0/25:   0%|          | 0/25 [00:00<?, ?it/s]"
            ]
          },
          "metadata": {},
          "output_type": "display_data"
        },
        {
          "data": {
            "application/vnd.jupyter.widget-view+json": {
              "model_id": "ee623cee667c410cb9672a68d4f1b380",
              "version_major": 2,
              "version_minor": 0
            },
            "text/plain": [
              "Epoch 0/25 | BestEp 0/25:   0%|          | 0/25 [00:00<?, ?it/s]"
            ]
          },
          "metadata": {},
          "output_type": "display_data"
        },
        {
          "data": {
            "application/vnd.jupyter.widget-view+json": {
              "model_id": "34bd9fbf382f482c9dcb795381319b3b",
              "version_major": 2,
              "version_minor": 0
            },
            "text/plain": [
              "Epoch 0/25 | BestEp 0/25:   0%|          | 0/25 [00:00<?, ?it/s]"
            ]
          },
          "metadata": {},
          "output_type": "display_data"
        },
        {
          "data": {
            "application/vnd.jupyter.widget-view+json": {
              "model_id": "48c704dac23b4a9d90b84cf91f5b4a68",
              "version_major": 2,
              "version_minor": 0
            },
            "text/plain": [
              "Epoch 0/25 | BestEp 0/25:   0%|          | 0/25 [00:00<?, ?it/s]"
            ]
          },
          "metadata": {},
          "output_type": "display_data"
        },
        {
          "name": "stdout",
          "output_type": "stream",
          "text": [
            "\n",
            "============================================================\n",
            "STAGE 2 COMPLETE\n",
            "Best overall: DenseNet-121 with 85.39% validation accuracy\n",
            "Total time: 183.2 minutes\n",
            "Successful trials: 40\n",
            "\n",
            "ResNet-50 - Stage 2 Refinement\n",
            "Refined search space: 259,200 combinations\n"
          ]
        },
        {
          "data": {
            "application/vnd.jupyter.widget-view+json": {
              "model_id": "cb1fef845cbe41a19aa86ccd184a1660",
              "version_major": 2,
              "version_minor": 0
            },
            "text/plain": [
              "Stage 2 Progress:   0%|          | 0/40 [00:00<?, ?it/s]"
            ]
          },
          "metadata": {},
          "output_type": "display_data"
        },
        {
          "data": {
            "application/vnd.jupyter.widget-view+json": {
              "model_id": "07cdc615999945d3b4412894d7a5a230",
              "version_major": 2,
              "version_minor": 0
            },
            "text/plain": [
              "ResNet-50 | BestAcc N/A:   0%|          | 0/40 [00:00<?, ?it/s]"
            ]
          },
          "metadata": {},
          "output_type": "display_data"
        },
        {
          "data": {
            "application/vnd.jupyter.widget-view+json": {
              "model_id": "14ba953476ef40d788bb39ba09bba304",
              "version_major": 2,
              "version_minor": 0
            },
            "text/plain": [
              "Epoch 0/25 | BestEp 0/25:   0%|          | 0/25 [00:00<?, ?it/s]"
            ]
          },
          "metadata": {},
          "output_type": "display_data"
        },
        {
          "data": {
            "application/vnd.jupyter.widget-view+json": {
              "model_id": "d36da92c25034c85a24714c9fb25bfb0",
              "version_major": 2,
              "version_minor": 0
            },
            "text/plain": [
              "Epoch 0/25 | BestEp 0/25:   0%|          | 0/25 [00:00<?, ?it/s]"
            ]
          },
          "metadata": {},
          "output_type": "display_data"
        },
        {
          "data": {
            "application/vnd.jupyter.widget-view+json": {
              "model_id": "917498ea62fe478c997eaaae813d0305",
              "version_major": 2,
              "version_minor": 0
            },
            "text/plain": [
              "Epoch 0/25 | BestEp 0/25:   0%|          | 0/25 [00:00<?, ?it/s]"
            ]
          },
          "metadata": {},
          "output_type": "display_data"
        },
        {
          "data": {
            "application/vnd.jupyter.widget-view+json": {
              "model_id": "8e6e3252979b44ff8672ec87daf86452",
              "version_major": 2,
              "version_minor": 0
            },
            "text/plain": [
              "Epoch 0/25 | BestEp 0/25:   0%|          | 0/25 [00:00<?, ?it/s]"
            ]
          },
          "metadata": {},
          "output_type": "display_data"
        },
        {
          "data": {
            "application/vnd.jupyter.widget-view+json": {
              "model_id": "bab45f43b3644e808437c9f497519173",
              "version_major": 2,
              "version_minor": 0
            },
            "text/plain": [
              "Epoch 0/25 | BestEp 0/25:   0%|          | 0/25 [00:00<?, ?it/s]"
            ]
          },
          "metadata": {},
          "output_type": "display_data"
        },
        {
          "data": {
            "application/vnd.jupyter.widget-view+json": {
              "model_id": "352f348cfd5d447c94f6b8ee83e74f8b",
              "version_major": 2,
              "version_minor": 0
            },
            "text/plain": [
              "Epoch 0/25 | BestEp 0/25:   0%|          | 0/25 [00:00<?, ?it/s]"
            ]
          },
          "metadata": {},
          "output_type": "display_data"
        },
        {
          "data": {
            "application/vnd.jupyter.widget-view+json": {
              "model_id": "88d4564c0def49a0a6103daeaae1b9f4",
              "version_major": 2,
              "version_minor": 0
            },
            "text/plain": [
              "Epoch 0/25 | BestEp 0/25:   0%|          | 0/25 [00:00<?, ?it/s]"
            ]
          },
          "metadata": {},
          "output_type": "display_data"
        },
        {
          "data": {
            "application/vnd.jupyter.widget-view+json": {
              "model_id": "ce915af3809247ee88c5fdd7d0ce057b",
              "version_major": 2,
              "version_minor": 0
            },
            "text/plain": [
              "Epoch 0/25 | BestEp 0/25:   0%|          | 0/25 [00:00<?, ?it/s]"
            ]
          },
          "metadata": {},
          "output_type": "display_data"
        },
        {
          "data": {
            "application/vnd.jupyter.widget-view+json": {
              "model_id": "df992847e0f344dfba9ea557fca4ae1a",
              "version_major": 2,
              "version_minor": 0
            },
            "text/plain": [
              "Epoch 0/25 | BestEp 0/25:   0%|          | 0/25 [00:00<?, ?it/s]"
            ]
          },
          "metadata": {},
          "output_type": "display_data"
        },
        {
          "data": {
            "application/vnd.jupyter.widget-view+json": {
              "model_id": "eda92913d7a9433db0fba693fbbfbfa3",
              "version_major": 2,
              "version_minor": 0
            },
            "text/plain": [
              "Epoch 0/25 | BestEp 0/25:   0%|          | 0/25 [00:00<?, ?it/s]"
            ]
          },
          "metadata": {},
          "output_type": "display_data"
        },
        {
          "data": {
            "application/vnd.jupyter.widget-view+json": {
              "model_id": "07712836777e4a62989bf44c36854154",
              "version_major": 2,
              "version_minor": 0
            },
            "text/plain": [
              "Epoch 0/25 | BestEp 0/25:   0%|          | 0/25 [00:00<?, ?it/s]"
            ]
          },
          "metadata": {},
          "output_type": "display_data"
        },
        {
          "data": {
            "application/vnd.jupyter.widget-view+json": {
              "model_id": "baac781515704216a4d2c990dac3689f",
              "version_major": 2,
              "version_minor": 0
            },
            "text/plain": [
              "Epoch 0/25 | BestEp 0/25:   0%|          | 0/25 [00:00<?, ?it/s]"
            ]
          },
          "metadata": {},
          "output_type": "display_data"
        },
        {
          "data": {
            "application/vnd.jupyter.widget-view+json": {
              "model_id": "761057cb91b640fd9a8429b22947cbc8",
              "version_major": 2,
              "version_minor": 0
            },
            "text/plain": [
              "Epoch 0/25 | BestEp 0/25:   0%|          | 0/25 [00:00<?, ?it/s]"
            ]
          },
          "metadata": {},
          "output_type": "display_data"
        },
        {
          "data": {
            "application/vnd.jupyter.widget-view+json": {
              "model_id": "fae117cde1a043edb597accd12881acb",
              "version_major": 2,
              "version_minor": 0
            },
            "text/plain": [
              "Epoch 0/25 | BestEp 0/25:   0%|          | 0/25 [00:00<?, ?it/s]"
            ]
          },
          "metadata": {},
          "output_type": "display_data"
        },
        {
          "data": {
            "application/vnd.jupyter.widget-view+json": {
              "model_id": "9068e471da244f70a4923a9c50eb2f9d",
              "version_major": 2,
              "version_minor": 0
            },
            "text/plain": [
              "Epoch 0/25 | BestEp 0/25:   0%|          | 0/25 [00:00<?, ?it/s]"
            ]
          },
          "metadata": {},
          "output_type": "display_data"
        },
        {
          "data": {
            "application/vnd.jupyter.widget-view+json": {
              "model_id": "346815c67d5b4a2aa32e909a392c67b4",
              "version_major": 2,
              "version_minor": 0
            },
            "text/plain": [
              "Epoch 0/25 | BestEp 0/25:   0%|          | 0/25 [00:00<?, ?it/s]"
            ]
          },
          "metadata": {},
          "output_type": "display_data"
        },
        {
          "data": {
            "application/vnd.jupyter.widget-view+json": {
              "model_id": "3954e3c813c141deb933ba98206a7f3e",
              "version_major": 2,
              "version_minor": 0
            },
            "text/plain": [
              "Epoch 0/25 | BestEp 0/25:   0%|          | 0/25 [00:00<?, ?it/s]"
            ]
          },
          "metadata": {},
          "output_type": "display_data"
        },
        {
          "data": {
            "application/vnd.jupyter.widget-view+json": {
              "model_id": "ed1a731cc52b44f89c331080db8c499f",
              "version_major": 2,
              "version_minor": 0
            },
            "text/plain": [
              "Epoch 0/25 | BestEp 0/25:   0%|          | 0/25 [00:00<?, ?it/s]"
            ]
          },
          "metadata": {},
          "output_type": "display_data"
        },
        {
          "data": {
            "application/vnd.jupyter.widget-view+json": {
              "model_id": "7c800cac88c54992a9242ed284765026",
              "version_major": 2,
              "version_minor": 0
            },
            "text/plain": [
              "Epoch 0/25 | BestEp 0/25:   0%|          | 0/25 [00:00<?, ?it/s]"
            ]
          },
          "metadata": {},
          "output_type": "display_data"
        },
        {
          "data": {
            "application/vnd.jupyter.widget-view+json": {
              "model_id": "fd7539e6b373409389b6e2dfab5ea0c1",
              "version_major": 2,
              "version_minor": 0
            },
            "text/plain": [
              "Epoch 0/25 | BestEp 0/25:   0%|          | 0/25 [00:00<?, ?it/s]"
            ]
          },
          "metadata": {},
          "output_type": "display_data"
        },
        {
          "data": {
            "application/vnd.jupyter.widget-view+json": {
              "model_id": "d9cb276e7f5c4b80a31b790fc9a93ff0",
              "version_major": 2,
              "version_minor": 0
            },
            "text/plain": [
              "Epoch 0/25 | BestEp 0/25:   0%|          | 0/25 [00:00<?, ?it/s]"
            ]
          },
          "metadata": {},
          "output_type": "display_data"
        },
        {
          "data": {
            "application/vnd.jupyter.widget-view+json": {
              "model_id": "360044ca5d3a42e98a652e3419597037",
              "version_major": 2,
              "version_minor": 0
            },
            "text/plain": [
              "Epoch 0/25 | BestEp 0/25:   0%|          | 0/25 [00:00<?, ?it/s]"
            ]
          },
          "metadata": {},
          "output_type": "display_data"
        },
        {
          "data": {
            "application/vnd.jupyter.widget-view+json": {
              "model_id": "8b375156ea734121b1e6aecbe303d079",
              "version_major": 2,
              "version_minor": 0
            },
            "text/plain": [
              "Epoch 0/25 | BestEp 0/25:   0%|          | 0/25 [00:00<?, ?it/s]"
            ]
          },
          "metadata": {},
          "output_type": "display_data"
        },
        {
          "data": {
            "application/vnd.jupyter.widget-view+json": {
              "model_id": "ca0c715de95640ad96cc36b6f0e14091",
              "version_major": 2,
              "version_minor": 0
            },
            "text/plain": [
              "Epoch 0/25 | BestEp 0/25:   0%|          | 0/25 [00:00<?, ?it/s]"
            ]
          },
          "metadata": {},
          "output_type": "display_data"
        },
        {
          "data": {
            "application/vnd.jupyter.widget-view+json": {
              "model_id": "bbe3a9aaff834efebc642b5873f99d1b",
              "version_major": 2,
              "version_minor": 0
            },
            "text/plain": [
              "Epoch 0/25 | BestEp 0/25:   0%|          | 0/25 [00:00<?, ?it/s]"
            ]
          },
          "metadata": {},
          "output_type": "display_data"
        },
        {
          "data": {
            "application/vnd.jupyter.widget-view+json": {
              "model_id": "115bdf8111684505be582844b3f0f193",
              "version_major": 2,
              "version_minor": 0
            },
            "text/plain": [
              "Epoch 0/25 | BestEp 0/25:   0%|          | 0/25 [00:00<?, ?it/s]"
            ]
          },
          "metadata": {},
          "output_type": "display_data"
        },
        {
          "data": {
            "application/vnd.jupyter.widget-view+json": {
              "model_id": "0beb5ee227914e7d87807bf17b97763e",
              "version_major": 2,
              "version_minor": 0
            },
            "text/plain": [
              "Epoch 0/25 | BestEp 0/25:   0%|          | 0/25 [00:00<?, ?it/s]"
            ]
          },
          "metadata": {},
          "output_type": "display_data"
        },
        {
          "data": {
            "application/vnd.jupyter.widget-view+json": {
              "model_id": "11c9a945b4434bd18d2afe6e9239fef0",
              "version_major": 2,
              "version_minor": 0
            },
            "text/plain": [
              "Epoch 0/25 | BestEp 0/25:   0%|          | 0/25 [00:00<?, ?it/s]"
            ]
          },
          "metadata": {},
          "output_type": "display_data"
        },
        {
          "data": {
            "application/vnd.jupyter.widget-view+json": {
              "model_id": "f4c32ea1ac0b4a6a93eb2bdfb31b7262",
              "version_major": 2,
              "version_minor": 0
            },
            "text/plain": [
              "Epoch 0/25 | BestEp 0/25:   0%|          | 0/25 [00:00<?, ?it/s]"
            ]
          },
          "metadata": {},
          "output_type": "display_data"
        },
        {
          "data": {
            "application/vnd.jupyter.widget-view+json": {
              "model_id": "f244d24e1d4140c585c6df8203d302a1",
              "version_major": 2,
              "version_minor": 0
            },
            "text/plain": [
              "Epoch 0/25 | BestEp 0/25:   0%|          | 0/25 [00:00<?, ?it/s]"
            ]
          },
          "metadata": {},
          "output_type": "display_data"
        },
        {
          "data": {
            "application/vnd.jupyter.widget-view+json": {
              "model_id": "157d94cdad364e98b69ee67e1f8b59c1",
              "version_major": 2,
              "version_minor": 0
            },
            "text/plain": [
              "Epoch 0/25 | BestEp 0/25:   0%|          | 0/25 [00:00<?, ?it/s]"
            ]
          },
          "metadata": {},
          "output_type": "display_data"
        },
        {
          "data": {
            "application/vnd.jupyter.widget-view+json": {
              "model_id": "d427b67e17104cf3a5a4ddcc8caa1a44",
              "version_major": 2,
              "version_minor": 0
            },
            "text/plain": [
              "Epoch 0/25 | BestEp 0/25:   0%|          | 0/25 [00:00<?, ?it/s]"
            ]
          },
          "metadata": {},
          "output_type": "display_data"
        },
        {
          "data": {
            "application/vnd.jupyter.widget-view+json": {
              "model_id": "5feb731a7f19415a84b3710f4fe59001",
              "version_major": 2,
              "version_minor": 0
            },
            "text/plain": [
              "Epoch 0/25 | BestEp 0/25:   0%|          | 0/25 [00:00<?, ?it/s]"
            ]
          },
          "metadata": {},
          "output_type": "display_data"
        },
        {
          "data": {
            "application/vnd.jupyter.widget-view+json": {
              "model_id": "0b6d6b617b194e9b898518cc4fdf080f",
              "version_major": 2,
              "version_minor": 0
            },
            "text/plain": [
              "Epoch 0/25 | BestEp 0/25:   0%|          | 0/25 [00:00<?, ?it/s]"
            ]
          },
          "metadata": {},
          "output_type": "display_data"
        },
        {
          "data": {
            "application/vnd.jupyter.widget-view+json": {
              "model_id": "2d65a35d86994b139e2d611d0029f04e",
              "version_major": 2,
              "version_minor": 0
            },
            "text/plain": [
              "Epoch 0/25 | BestEp 0/25:   0%|          | 0/25 [00:00<?, ?it/s]"
            ]
          },
          "metadata": {},
          "output_type": "display_data"
        },
        {
          "data": {
            "application/vnd.jupyter.widget-view+json": {
              "model_id": "3a6aa9c83c8c479087d59e6ec7663d96",
              "version_major": 2,
              "version_minor": 0
            },
            "text/plain": [
              "Epoch 0/25 | BestEp 0/25:   0%|          | 0/25 [00:00<?, ?it/s]"
            ]
          },
          "metadata": {},
          "output_type": "display_data"
        },
        {
          "data": {
            "application/vnd.jupyter.widget-view+json": {
              "model_id": "50aa2b7970464a5ba75062b0a90b5a86",
              "version_major": 2,
              "version_minor": 0
            },
            "text/plain": [
              "Epoch 0/25 | BestEp 0/25:   0%|          | 0/25 [00:00<?, ?it/s]"
            ]
          },
          "metadata": {},
          "output_type": "display_data"
        },
        {
          "data": {
            "application/vnd.jupyter.widget-view+json": {
              "model_id": "9e4f9b4a2cde4f829e7be1c566543029",
              "version_major": 2,
              "version_minor": 0
            },
            "text/plain": [
              "Epoch 0/25 | BestEp 0/25:   0%|          | 0/25 [00:00<?, ?it/s]"
            ]
          },
          "metadata": {},
          "output_type": "display_data"
        },
        {
          "data": {
            "application/vnd.jupyter.widget-view+json": {
              "model_id": "baa24a925c9c44ac81d8cd8cf710e623",
              "version_major": 2,
              "version_minor": 0
            },
            "text/plain": [
              "Epoch 0/25 | BestEp 0/25:   0%|          | 0/25 [00:00<?, ?it/s]"
            ]
          },
          "metadata": {},
          "output_type": "display_data"
        },
        {
          "data": {
            "application/vnd.jupyter.widget-view+json": {
              "model_id": "cc86cbc37129488683504ab6afb95b1e",
              "version_major": 2,
              "version_minor": 0
            },
            "text/plain": [
              "Epoch 0/25 | BestEp 0/25:   0%|          | 0/25 [00:00<?, ?it/s]"
            ]
          },
          "metadata": {},
          "output_type": "display_data"
        },
        {
          "name": "stdout",
          "output_type": "stream",
          "text": [
            "\n",
            "============================================================\n",
            "STAGE 2 COMPLETE\n",
            "Best overall: ResNet-50 with 86.76% validation accuracy\n",
            "Total time: 233.5 minutes\n",
            "Successful trials: 40\n",
            "\n",
            "ConvNeXt-Tiny - Stage 2 Refinement\n",
            "Refined search space: 86,400 combinations\n"
          ]
        },
        {
          "data": {
            "application/vnd.jupyter.widget-view+json": {
              "model_id": "b15bbc5314784ad1bf87193e14c273ae",
              "version_major": 2,
              "version_minor": 0
            },
            "text/plain": [
              "Stage 2 Progress:   0%|          | 0/40 [00:00<?, ?it/s]"
            ]
          },
          "metadata": {},
          "output_type": "display_data"
        },
        {
          "data": {
            "application/vnd.jupyter.widget-view+json": {
              "model_id": "8ef6686a86cb4323ba368ea0b050b902",
              "version_major": 2,
              "version_minor": 0
            },
            "text/plain": [
              "ConvNeXt-Tiny | BestAcc N/A:   0%|          | 0/40 [00:00<?, ?it/s]"
            ]
          },
          "metadata": {},
          "output_type": "display_data"
        },
        {
          "data": {
            "application/vnd.jupyter.widget-view+json": {
              "model_id": "17bc6645b9124f6c99fc32858f93b7c1",
              "version_major": 2,
              "version_minor": 0
            },
            "text/plain": [
              "Epoch 0/25 | BestEp 0/25:   0%|          | 0/25 [00:00<?, ?it/s]"
            ]
          },
          "metadata": {},
          "output_type": "display_data"
        },
        {
          "data": {
            "application/vnd.jupyter.widget-view+json": {
              "model_id": "1a4f1dbc25c8448293ec7cf39546f279",
              "version_major": 2,
              "version_minor": 0
            },
            "text/plain": [
              "Epoch 0/25 | BestEp 0/25:   0%|          | 0/25 [00:00<?, ?it/s]"
            ]
          },
          "metadata": {},
          "output_type": "display_data"
        },
        {
          "data": {
            "application/vnd.jupyter.widget-view+json": {
              "model_id": "1a6edf9a3fa9437cad1ad3773e8eb7f9",
              "version_major": 2,
              "version_minor": 0
            },
            "text/plain": [
              "Epoch 0/25 | BestEp 0/25:   0%|          | 0/25 [00:00<?, ?it/s]"
            ]
          },
          "metadata": {},
          "output_type": "display_data"
        },
        {
          "data": {
            "application/vnd.jupyter.widget-view+json": {
              "model_id": "5f47738fac4948edbf41b95030584f29",
              "version_major": 2,
              "version_minor": 0
            },
            "text/plain": [
              "Epoch 0/25 | BestEp 0/25:   0%|          | 0/25 [00:00<?, ?it/s]"
            ]
          },
          "metadata": {},
          "output_type": "display_data"
        },
        {
          "data": {
            "application/vnd.jupyter.widget-view+json": {
              "model_id": "6b5d624c726a4cbb9d282dfa69facade",
              "version_major": 2,
              "version_minor": 0
            },
            "text/plain": [
              "Epoch 0/25 | BestEp 0/25:   0%|          | 0/25 [00:00<?, ?it/s]"
            ]
          },
          "metadata": {},
          "output_type": "display_data"
        },
        {
          "data": {
            "application/vnd.jupyter.widget-view+json": {
              "model_id": "814573be44394a73a4e251145989b3cd",
              "version_major": 2,
              "version_minor": 0
            },
            "text/plain": [
              "Epoch 0/25 | BestEp 0/25:   0%|          | 0/25 [00:00<?, ?it/s]"
            ]
          },
          "metadata": {},
          "output_type": "display_data"
        },
        {
          "data": {
            "application/vnd.jupyter.widget-view+json": {
              "model_id": "588cb1e15ea14c1197d959d68dba591d",
              "version_major": 2,
              "version_minor": 0
            },
            "text/plain": [
              "Epoch 0/25 | BestEp 0/25:   0%|          | 0/25 [00:00<?, ?it/s]"
            ]
          },
          "metadata": {},
          "output_type": "display_data"
        },
        {
          "data": {
            "application/vnd.jupyter.widget-view+json": {
              "model_id": "ac6caa13db874a8aa9daf13a9961c287",
              "version_major": 2,
              "version_minor": 0
            },
            "text/plain": [
              "Epoch 0/25 | BestEp 0/25:   0%|          | 0/25 [00:00<?, ?it/s]"
            ]
          },
          "metadata": {},
          "output_type": "display_data"
        },
        {
          "data": {
            "application/vnd.jupyter.widget-view+json": {
              "model_id": "acdd1ae470eb4f2e96ca03dca6b3cf24",
              "version_major": 2,
              "version_minor": 0
            },
            "text/plain": [
              "Epoch 0/25 | BestEp 0/25:   0%|          | 0/25 [00:00<?, ?it/s]"
            ]
          },
          "metadata": {},
          "output_type": "display_data"
        },
        {
          "data": {
            "application/vnd.jupyter.widget-view+json": {
              "model_id": "6e6bb03781114568b02aed252c971d08",
              "version_major": 2,
              "version_minor": 0
            },
            "text/plain": [
              "Epoch 0/25 | BestEp 0/25:   0%|          | 0/25 [00:00<?, ?it/s]"
            ]
          },
          "metadata": {},
          "output_type": "display_data"
        },
        {
          "data": {
            "application/vnd.jupyter.widget-view+json": {
              "model_id": "dc002510c93b48cbaf78fcf9e3848e0b",
              "version_major": 2,
              "version_minor": 0
            },
            "text/plain": [
              "Epoch 0/25 | BestEp 0/25:   0%|          | 0/25 [00:00<?, ?it/s]"
            ]
          },
          "metadata": {},
          "output_type": "display_data"
        },
        {
          "data": {
            "application/vnd.jupyter.widget-view+json": {
              "model_id": "03182ce3a992487899a493f5aefabe9d",
              "version_major": 2,
              "version_minor": 0
            },
            "text/plain": [
              "Epoch 0/25 | BestEp 0/25:   0%|          | 0/25 [00:00<?, ?it/s]"
            ]
          },
          "metadata": {},
          "output_type": "display_data"
        },
        {
          "data": {
            "application/vnd.jupyter.widget-view+json": {
              "model_id": "5646c14aa4964352a72012d0a1126f1c",
              "version_major": 2,
              "version_minor": 0
            },
            "text/plain": [
              "Epoch 0/25 | BestEp 0/25:   0%|          | 0/25 [00:00<?, ?it/s]"
            ]
          },
          "metadata": {},
          "output_type": "display_data"
        },
        {
          "data": {
            "application/vnd.jupyter.widget-view+json": {
              "model_id": "cdee65accdd2414eb9d2fea6bd7f8fe8",
              "version_major": 2,
              "version_minor": 0
            },
            "text/plain": [
              "Epoch 0/25 | BestEp 0/25:   0%|          | 0/25 [00:00<?, ?it/s]"
            ]
          },
          "metadata": {},
          "output_type": "display_data"
        },
        {
          "data": {
            "application/vnd.jupyter.widget-view+json": {
              "model_id": "b32ca63c701d468487e629d77077a894",
              "version_major": 2,
              "version_minor": 0
            },
            "text/plain": [
              "Epoch 0/25 | BestEp 0/25:   0%|          | 0/25 [00:00<?, ?it/s]"
            ]
          },
          "metadata": {},
          "output_type": "display_data"
        },
        {
          "data": {
            "application/vnd.jupyter.widget-view+json": {
              "model_id": "121e9e0684e64056a1a7a88914ba012c",
              "version_major": 2,
              "version_minor": 0
            },
            "text/plain": [
              "Epoch 0/25 | BestEp 0/25:   0%|          | 0/25 [00:00<?, ?it/s]"
            ]
          },
          "metadata": {},
          "output_type": "display_data"
        },
        {
          "data": {
            "application/vnd.jupyter.widget-view+json": {
              "model_id": "cee65508d54549e4bc836ea8c7d64079",
              "version_major": 2,
              "version_minor": 0
            },
            "text/plain": [
              "Epoch 0/25 | BestEp 0/25:   0%|          | 0/25 [00:00<?, ?it/s]"
            ]
          },
          "metadata": {},
          "output_type": "display_data"
        },
        {
          "data": {
            "application/vnd.jupyter.widget-view+json": {
              "model_id": "109526824b8f486ba365dae203ce2c3b",
              "version_major": 2,
              "version_minor": 0
            },
            "text/plain": [
              "Epoch 0/25 | BestEp 0/25:   0%|          | 0/25 [00:00<?, ?it/s]"
            ]
          },
          "metadata": {},
          "output_type": "display_data"
        },
        {
          "data": {
            "application/vnd.jupyter.widget-view+json": {
              "model_id": "72dedc2069f744a9ae6ffeb6ad26effb",
              "version_major": 2,
              "version_minor": 0
            },
            "text/plain": [
              "Epoch 0/25 | BestEp 0/25:   0%|          | 0/25 [00:00<?, ?it/s]"
            ]
          },
          "metadata": {},
          "output_type": "display_data"
        },
        {
          "data": {
            "application/vnd.jupyter.widget-view+json": {
              "model_id": "dff976a73e614324afc3a27f55cfbf75",
              "version_major": 2,
              "version_minor": 0
            },
            "text/plain": [
              "Epoch 0/25 | BestEp 0/25:   0%|          | 0/25 [00:00<?, ?it/s]"
            ]
          },
          "metadata": {},
          "output_type": "display_data"
        },
        {
          "data": {
            "application/vnd.jupyter.widget-view+json": {
              "model_id": "492b5dd9efb54203b9aa53347938d192",
              "version_major": 2,
              "version_minor": 0
            },
            "text/plain": [
              "Epoch 0/25 | BestEp 0/25:   0%|          | 0/25 [00:00<?, ?it/s]"
            ]
          },
          "metadata": {},
          "output_type": "display_data"
        },
        {
          "data": {
            "application/vnd.jupyter.widget-view+json": {
              "model_id": "679ec0570bf844788ca48ec86281e29d",
              "version_major": 2,
              "version_minor": 0
            },
            "text/plain": [
              "Epoch 0/25 | BestEp 0/25:   0%|          | 0/25 [00:00<?, ?it/s]"
            ]
          },
          "metadata": {},
          "output_type": "display_data"
        },
        {
          "data": {
            "application/vnd.jupyter.widget-view+json": {
              "model_id": "fedc5758d5f34a05ab4a7cbdfa8ea532",
              "version_major": 2,
              "version_minor": 0
            },
            "text/plain": [
              "Epoch 0/25 | BestEp 0/25:   0%|          | 0/25 [00:00<?, ?it/s]"
            ]
          },
          "metadata": {},
          "output_type": "display_data"
        },
        {
          "data": {
            "application/vnd.jupyter.widget-view+json": {
              "model_id": "7f8c1a5db8c94f0d8090cbf5aaae8bcc",
              "version_major": 2,
              "version_minor": 0
            },
            "text/plain": [
              "Epoch 0/25 | BestEp 0/25:   0%|          | 0/25 [00:00<?, ?it/s]"
            ]
          },
          "metadata": {},
          "output_type": "display_data"
        },
        {
          "data": {
            "application/vnd.jupyter.widget-view+json": {
              "model_id": "bdad67107c774301aa5d95611ea9908a",
              "version_major": 2,
              "version_minor": 0
            },
            "text/plain": [
              "Epoch 0/25 | BestEp 0/25:   0%|          | 0/25 [00:00<?, ?it/s]"
            ]
          },
          "metadata": {},
          "output_type": "display_data"
        },
        {
          "data": {
            "application/vnd.jupyter.widget-view+json": {
              "model_id": "d5d5a4079aaa4877b5757bb0603d66d4",
              "version_major": 2,
              "version_minor": 0
            },
            "text/plain": [
              "Epoch 0/25 | BestEp 0/25:   0%|          | 0/25 [00:00<?, ?it/s]"
            ]
          },
          "metadata": {},
          "output_type": "display_data"
        },
        {
          "data": {
            "application/vnd.jupyter.widget-view+json": {
              "model_id": "6c33e00450ff47b883c10d1a7f583e41",
              "version_major": 2,
              "version_minor": 0
            },
            "text/plain": [
              "Epoch 0/25 | BestEp 0/25:   0%|          | 0/25 [00:00<?, ?it/s]"
            ]
          },
          "metadata": {},
          "output_type": "display_data"
        },
        {
          "data": {
            "application/vnd.jupyter.widget-view+json": {
              "model_id": "9caaf6382ca8465e864d2d52ec11b6c4",
              "version_major": 2,
              "version_minor": 0
            },
            "text/plain": [
              "Epoch 0/25 | BestEp 0/25:   0%|          | 0/25 [00:00<?, ?it/s]"
            ]
          },
          "metadata": {},
          "output_type": "display_data"
        },
        {
          "data": {
            "application/vnd.jupyter.widget-view+json": {
              "model_id": "16b499120b3f4c96805a4c1878b99e0e",
              "version_major": 2,
              "version_minor": 0
            },
            "text/plain": [
              "Epoch 0/25 | BestEp 0/25:   0%|          | 0/25 [00:00<?, ?it/s]"
            ]
          },
          "metadata": {},
          "output_type": "display_data"
        },
        {
          "data": {
            "application/vnd.jupyter.widget-view+json": {
              "model_id": "99f5da5ffcaa40d88b77ed548585c3e9",
              "version_major": 2,
              "version_minor": 0
            },
            "text/plain": [
              "Epoch 0/25 | BestEp 0/25:   0%|          | 0/25 [00:00<?, ?it/s]"
            ]
          },
          "metadata": {},
          "output_type": "display_data"
        },
        {
          "data": {
            "application/vnd.jupyter.widget-view+json": {
              "model_id": "19648e98964a4a2197f4bd9e44fe062c",
              "version_major": 2,
              "version_minor": 0
            },
            "text/plain": [
              "Epoch 0/25 | BestEp 0/25:   0%|          | 0/25 [00:00<?, ?it/s]"
            ]
          },
          "metadata": {},
          "output_type": "display_data"
        },
        {
          "data": {
            "application/vnd.jupyter.widget-view+json": {
              "model_id": "22924b89c08645d0b28dd5a76be249aa",
              "version_major": 2,
              "version_minor": 0
            },
            "text/plain": [
              "Epoch 0/25 | BestEp 0/25:   0%|          | 0/25 [00:00<?, ?it/s]"
            ]
          },
          "metadata": {},
          "output_type": "display_data"
        },
        {
          "data": {
            "application/vnd.jupyter.widget-view+json": {
              "model_id": "349e97512d334f48ae57813b83fb8338",
              "version_major": 2,
              "version_minor": 0
            },
            "text/plain": [
              "Epoch 0/25 | BestEp 0/25:   0%|          | 0/25 [00:00<?, ?it/s]"
            ]
          },
          "metadata": {},
          "output_type": "display_data"
        },
        {
          "data": {
            "application/vnd.jupyter.widget-view+json": {
              "model_id": "19f8d67c3a5d4e4c9cc39eb7a369ae51",
              "version_major": 2,
              "version_minor": 0
            },
            "text/plain": [
              "Epoch 0/25 | BestEp 0/25:   0%|          | 0/25 [00:00<?, ?it/s]"
            ]
          },
          "metadata": {},
          "output_type": "display_data"
        },
        {
          "data": {
            "application/vnd.jupyter.widget-view+json": {
              "model_id": "716c24ea888a400fafa0f0508e08d1d2",
              "version_major": 2,
              "version_minor": 0
            },
            "text/plain": [
              "Epoch 0/25 | BestEp 0/25:   0%|          | 0/25 [00:00<?, ?it/s]"
            ]
          },
          "metadata": {},
          "output_type": "display_data"
        },
        {
          "data": {
            "application/vnd.jupyter.widget-view+json": {
              "model_id": "3cb868769d58427bb5b8284373f9def1",
              "version_major": 2,
              "version_minor": 0
            },
            "text/plain": [
              "Epoch 0/25 | BestEp 0/25:   0%|          | 0/25 [00:00<?, ?it/s]"
            ]
          },
          "metadata": {},
          "output_type": "display_data"
        },
        {
          "data": {
            "application/vnd.jupyter.widget-view+json": {
              "model_id": "4727c66952ce4b0bbf40c5b617120e21",
              "version_major": 2,
              "version_minor": 0
            },
            "text/plain": [
              "Epoch 0/25 | BestEp 0/25:   0%|          | 0/25 [00:00<?, ?it/s]"
            ]
          },
          "metadata": {},
          "output_type": "display_data"
        },
        {
          "data": {
            "application/vnd.jupyter.widget-view+json": {
              "model_id": "093aba1483564a85b00d1c2fdafc2d3c",
              "version_major": 2,
              "version_minor": 0
            },
            "text/plain": [
              "Epoch 0/25 | BestEp 0/25:   0%|          | 0/25 [00:00<?, ?it/s]"
            ]
          },
          "metadata": {},
          "output_type": "display_data"
        },
        {
          "data": {
            "application/vnd.jupyter.widget-view+json": {
              "model_id": "e8934f8adf9b4ad69466474f713091f2",
              "version_major": 2,
              "version_minor": 0
            },
            "text/plain": [
              "Epoch 0/25 | BestEp 0/25:   0%|          | 0/25 [00:00<?, ?it/s]"
            ]
          },
          "metadata": {},
          "output_type": "display_data"
        },
        {
          "data": {
            "application/vnd.jupyter.widget-view+json": {
              "model_id": "124a004c854148039903a989159bd7a8",
              "version_major": 2,
              "version_minor": 0
            },
            "text/plain": [
              "Epoch 0/25 | BestEp 0/25:   0%|          | 0/25 [00:00<?, ?it/s]"
            ]
          },
          "metadata": {},
          "output_type": "display_data"
        },
        {
          "name": "stdout",
          "output_type": "stream",
          "text": [
            "\n",
            "============================================================\n",
            "STAGE 2 COMPLETE\n",
            "Best overall: ConvNeXt-Tiny with 83.11% validation accuracy\n",
            "Total time: 463.1 minutes\n",
            "Successful trials: 40\n",
            "\n",
            "Stage 2 results saved to: osteoarthritis-severity/results/hp_search_per_model/stage2_results.csv\n",
            "Total Stage 2 trials: 200\n",
            "\n",
            "Best Stage 2 result:\n",
            "  Model: EfficientNet-B0\n",
            "  Validation accuracy: 88.13%\n",
            "  F1 score: 0.8822\n",
            "\n",
            "Improvement over Stage 1: +3.20%\n",
            "  Stage 1 best: 84.93%\n",
            "  Stage 2 best: 88.13%\n"
          ]
        }
      ],
      "source": [
        "# Execute Stage 2 Focused Optimization\n",
        "\n",
        "print(\"Starting Stage 2 Focused Hyperparameter Optimization\")\n",
        "print(\"=\" * 60)\n",
        "\n",
        "# Run Stage 2 with model-specific refined search spaces\n",
        "stage2_results = []\n",
        "\n",
        "for model_name, refined_space in refined_search_spaces.items():\n",
        "    print(f\"\\n{MODEL_NAMES[model_name]} - Stage 2 Refinement\")\n",
        "    print(f\"Refined search space: {np.prod([len(v) for v in refined_space.values()]):,} combinations\")\n",
        "    \n",
        "    # Run focused search for this model\n",
        "    model_stage2_results = run_stratified_hp_search(\n",
        "        models={model_name: MODEL_NAMES[model_name]},\n",
        "        search_space=refined_space,\n",
        "        trials_per_model=STAGE2_CONFIG['trials_per_model'],\n",
        "        num_epochs=STAGE2_CONFIG['num_epochs'],\n",
        "        stage_name=\"Stage 2\"\n",
        "    )\n",
        "    \n",
        "    # Mark as Stage 2 results\n",
        "    for result in model_stage2_results:\n",
        "        result['stage'] = 2\n",
        "    \n",
        "    stage2_results.extend(model_stage2_results)\n",
        "\n",
        "# Save Stage 2 results\n",
        "stage2_df = pd.DataFrame(stage2_results)\n",
        "stage2_file = RESULTS_DIR / 'stage2_results.csv'\n",
        "stage2_df.to_csv(stage2_file, index=False)\n",
        "\n",
        "print(f\"\\nStage 2 results saved to: {repo_name}/results/hp_search_per_model/stage2_results.csv\")\n",
        "print(f\"Total Stage 2 trials: {len(stage2_results)}\")\n",
        "\n",
        "# Quick Stage 2 summary\n",
        "if stage2_results:\n",
        "    best_stage2 = max(stage2_results, key=lambda x: x['best_val_acc'])\n",
        "    print(f\"\\nBest Stage 2 result:\")\n",
        "    print(f\"  Model: {best_stage2['model_display_name']}\")\n",
        "    print(f\"  Validation accuracy: {best_stage2['best_val_acc']:.2f}%\")\n",
        "    print(f\"  F1 score: {best_stage2['best_val_f1']:.4f}\")\n",
        "    \n",
        "    # Compare with Stage 1 best\n",
        "    best_stage1 = max(stage1_results, key=lambda x: x['best_val_acc'])\n",
        "    improvement = best_stage2['best_val_acc'] - best_stage1['best_val_acc']\n",
        "    print(f\"\\nImprovement over Stage 1: {improvement:+.2f}%\")\n",
        "    print(f\"  Stage 1 best: {best_stage1['best_val_acc']:.2f}%\")\n",
        "    print(f\"  Stage 2 best: {best_stage2['best_val_acc']:.2f}%\")\n"
      ]
    },
    {
      "cell_type": "markdown",
      "metadata": {
        "vscode": {
          "languageId": "raw"
        }
      },
      "source": [
        "## **Final Model Comparison and Statistical Summary** <a id=\"comparison\"></a>\n",
        "\n",
        "Compares and summarizes the results of both Stage 1 and Stage 2 hyperparameter optimization trials.  \n",
        "Highlights the best-performing configurations, model-wise improvements, and generalization trends.\n",
        "\n",
        "### Key Analyses:\n",
        "- Best architecture performance across both stages\n",
        "- Validation accuracy improvement from Stage 1 to Stage 2\n",
        "- Clinical metric distributions (F1, Precision, Recall)\n",
        "- Overfitting trends via generalization gap comparison\n",
        "- Convergence efficiency analysis\n",
        "- 95% confidence intervals for each model’s validation accuracy"
      ]
    },
    {
      "cell_type": "code",
      "execution_count": 13,
      "metadata": {},
      "outputs": [
        {
          "name": "stdout",
          "output_type": "stream",
          "text": [
            "Two-Stage Hyperparameter Search Results\n",
            "============================================================\n",
            "Total trials completed: 400\n",
            "  Stage 1 trials: 200\n",
            "  Stage 2 trials: 200\n",
            "\n",
            "Best Results Summary:\n",
            "  Overall best: EfficientNet-B0 - 88.13% (Stage 2)\n",
            "  Stage 1 best: RegNet-Y-800MF - 84.93%\n",
            "  Stage 2 best: EfficientNet-B0 - 88.13%\n",
            "\n",
            "Model Performance Comparison:\n",
            "--------------------------------------------------------------------------------\n",
            "Model                Stage 1 Best Stage 2 Best Overall Best Improvement \n",
            "--------------------------------------------------------------------------------\n",
            "EfficientNet-B0      84.02        88.13        88.13        4.11        \n",
            "RegNet-Y-800MF       84.93        86.76        86.76        1.83        \n",
            "DenseNet-121         84.02        85.39        85.39        1.37        \n",
            "ResNet-50            82.65        86.76        86.76        4.11        \n",
            "ConvNeXt-Tiny        83.56        83.11        83.56        -0.46       \n",
            "\n",
            "Statistical Analysis:\n",
            "----------------------------------------\n",
            "EfficientNet-B0:\n",
            "  Mean ± Std: 60.88% ± 26.37%\n",
            "  95% CI: [55.11%, 66.66%]\n",
            "  Best: 88.13% (n=80)\n",
            "RegNet-Y-800MF:\n",
            "  Mean ± Std: 62.69% ± 23.02%\n",
            "  95% CI: [57.64%, 67.73%]\n",
            "  Best: 86.76% (n=80)\n",
            "DenseNet-121:\n",
            "  Mean ± Std: 59.93% ± 21.90%\n",
            "  95% CI: [55.13%, 64.72%]\n",
            "  Best: 85.39% (n=80)\n",
            "ResNet-50:\n",
            "  Mean ± Std: 60.44% ± 21.02%\n",
            "  95% CI: [55.83%, 65.05%]\n",
            "  Best: 86.76% (n=80)\n",
            "ConvNeXt-Tiny:\n",
            "  Mean ± Std: 56.83% ± 20.48%\n",
            "  95% CI: [52.34%, 61.32%]\n",
            "  Best: 83.56% (n=80)\n"
          ]
        },
        {
          "data": {
            "image/png": "[encoded data removed]",
            "text/plain": [
              "<Figure size 1600x1200 with 4 Axes>"
            ]
          },
          "metadata": {},
          "output_type": "display_data"
        },
        {
          "name": "stdout",
          "output_type": "stream",
          "text": [
            "\n",
            "Visualization saved to: osteoarthritis-severity/results/hp_search_per_model/results_analysis.png\n"
          ]
        }
      ],
      "source": [
        "# Analysis and Visualization\n",
        "\n",
        "# Combine all results\n",
        "all_results = stage1_results + stage2_results\n",
        "all_df = pd.DataFrame(all_results)\n",
        "\n",
        "print(\"Two-Stage Hyperparameter Search Results\")\n",
        "print(\"=\" * 60)\n",
        "\n",
        "# Overall statistics\n",
        "print(f\"Total trials completed: {len(all_results)}\")\n",
        "print(f\"  Stage 1 trials: {len(stage1_results)}\")\n",
        "print(f\"  Stage 2 trials: {len(stage2_results)}\")\n",
        "\n",
        "# Best results by stage\n",
        "best_overall = max(all_results, key=lambda x: x['best_val_acc'])\n",
        "best_stage1 = max(stage1_results, key=lambda x: x['best_val_acc'])\n",
        "best_stage2 = max(stage2_results, key=lambda x: x['best_val_acc']) if stage2_results else None\n",
        "\n",
        "print(f\"\\nBest Results Summary:\")\n",
        "print(f\"  Overall best: {best_overall['model_display_name']} - {best_overall['best_val_acc']:.2f}% (Stage {best_overall['stage']})\")\n",
        "print(f\"  Stage 1 best: {best_stage1['model_display_name']} - {best_stage1['best_val_acc']:.2f}%\")\n",
        "if best_stage2:\n",
        "    print(f\"  Stage 2 best: {best_stage2['model_display_name']} - {best_stage2['best_val_acc']:.2f}%\")\n",
        "\n",
        "# Model comparison\n",
        "print(f\"\\nModel Performance Comparison:\")\n",
        "print(\"-\" * 80)\n",
        "print(f\"{'Model':<20} {'Stage 1 Best':<12} {'Stage 2 Best':<12} {'Overall Best':<12} {'Improvement':<12}\")\n",
        "print(\"-\" * 80)\n",
        "\n",
        "for model_name, display_name in MODEL_NAMES.items():\n",
        "    stage1_model = [r for r in stage1_results if r['model_name'] == model_name]\n",
        "    stage2_model = [r for r in stage2_results if r['model_name'] == model_name]\n",
        "    \n",
        "    stage1_best = max(stage1_model, key=lambda x: x['best_val_acc'])['best_val_acc'] if stage1_model else 0\n",
        "    stage2_best = max(stage2_model, key=lambda x: x['best_val_acc'])['best_val_acc'] if stage2_model else 0\n",
        "    \n",
        "    overall_best = max(stage1_best, stage2_best)\n",
        "    improvement = stage2_best - stage1_best if stage2_model else 0\n",
        "    \n",
        "    print(f\"{display_name:<20} {stage1_best:<12.2f} {stage2_best:<12.2f} {overall_best:<12.2f} {improvement:<12.2f}\")\n",
        "\n",
        "# Statistical Analysis\n",
        "print(f\"\\nStatistical Analysis:\")\n",
        "print(\"-\" * 40)\n",
        "\n",
        "# Calculate confidence intervals for top models\n",
        "top_models = {}\n",
        "for model_name, display_name in MODEL_NAMES.items():\n",
        "    model_results = [r for r in all_results if r['model_name'] == model_name]\n",
        "    if model_results:\n",
        "        accuracies = [r['best_val_acc'] for r in model_results]\n",
        "        top_models[display_name] = {\n",
        "            'mean': np.mean(accuracies),\n",
        "            'std': np.std(accuracies),\n",
        "            'count': len(accuracies),\n",
        "            'max': max(accuracies),\n",
        "            'ci_lower': np.mean(accuracies) - 1.96 * np.std(accuracies) / np.sqrt(len(accuracies)),\n",
        "            'ci_upper': np.mean(accuracies) + 1.96 * np.std(accuracies) / np.sqrt(len(accuracies))\n",
        "        }\n",
        "\n",
        "for model, stats in top_models.items():\n",
        "    print(f\"{model}:\")\n",
        "    print(f\"  Mean ± Std: {stats['mean']:.2f}% ± {stats['std']:.2f}%\")\n",
        "    print(f\"  95% CI: [{stats['ci_lower']:.2f}%, {stats['ci_upper']:.2f}%]\")\n",
        "    print(f\"  Best: {stats['max']:.2f}% (n={stats['count']})\")\n",
        "\n",
        "# Create visualization\n",
        "fig, axes = plt.subplots(2, 2, figsize=(16, 12))\n",
        "fig.suptitle('Hyperparameter Search Results', fontsize=16, fontweight='bold')\n",
        "\n",
        "# 1. Model Performance Comparison\n",
        "ax1 = axes[0, 0]\n",
        "models = []\n",
        "stage1_vals = []\n",
        "stage2_vals = []\n",
        "colors = []\n",
        "\n",
        "for model_name, display_name in MODEL_NAMES.items():\n",
        "    models.append(display_name)\n",
        "    \n",
        "    stage1_model = [r for r in stage1_results if r['model_name'] == model_name]\n",
        "    stage2_model = [r for r in stage2_results if r['model_name'] == model_name]\n",
        "    \n",
        "    stage1_best = max(stage1_model, key=lambda x: x['best_val_acc'])['best_val_acc'] if stage1_model else 0\n",
        "    stage2_best = max(stage2_model, key=lambda x: x['best_val_acc'])['best_val_acc'] if stage2_model else 0\n",
        "    \n",
        "    stage1_vals.append(stage1_best)\n",
        "    stage2_vals.append(stage2_best)\n",
        "    colors.append(COLORS['models'][model_name])\n",
        "\n",
        "x = np.arange(len(models))\n",
        "width = 0.35\n",
        "\n",
        "ax1.bar(x - width/2, stage1_vals, width, label='Stage 1', alpha=0.8, color=colors)\n",
        "ax1.bar(x + width/2, stage2_vals, width, label='Stage 2', alpha=0.6, color=colors)\n",
        "\n",
        "ax1.set_xlabel('Model Architecture')\n",
        "ax1.set_ylabel('Best Validation Accuracy (%)')\n",
        "ax1.set_title('Stage 1 vs Stage 2 Best Performance')\n",
        "ax1.set_xticks(x)\n",
        "ax1.set_xticklabels(models, rotation=45, ha='right')\n",
        "ax1.legend()\n",
        "ax1.grid(True, alpha=0.3)\n",
        "\n",
        "# 2. Medical Metrics Distribution\n",
        "ax2 = axes[0, 1]\n",
        "f1_scores = [r['best_val_f1'] for r in all_results]\n",
        "precision_scores = [r['final_val_precision'] for r in all_results]\n",
        "recall_scores = [r['final_val_recall'] for r in all_results]\n",
        "\n",
        "ax2.hist(f1_scores, bins=20, alpha=0.7, label='F1 Score', color=COLORS['primary']['medical_blue'])\n",
        "ax2.hist(precision_scores, bins=20, alpha=0.7, label='Precision', color=COLORS['primary']['healthcare_teal'])\n",
        "ax2.hist(recall_scores, bins=20, alpha=0.7, label='Recall', color=COLORS['primary']['clinical_purple'])\n",
        "\n",
        "ax2.set_xlabel('Score')\n",
        "ax2.set_ylabel('Frequency')\n",
        "ax2.set_title('Medical Metrics Distribution')\n",
        "ax2.legend()\n",
        "ax2.grid(True, alpha=0.3)\n",
        "\n",
        "# 3. Overfitting Analysis\n",
        "ax3 = axes[1, 0]\n",
        "stage1_gaps = [r['final_generalization_gap'] for r in stage1_results]\n",
        "stage2_gaps = [r['final_generalization_gap'] for r in stage2_results] if stage2_results else []\n",
        "\n",
        "ax3.boxplot([stage1_gaps, stage2_gaps], labels=['Stage 1', 'Stage 2'])\n",
        "ax3.set_ylabel('Generalization Gap (%)')\n",
        "ax3.set_title('Overfitting Analysis by Stage')\n",
        "ax3.grid(True, alpha=0.3)\n",
        "\n",
        "# 4. Convergence Analysis\n",
        "ax4 = axes[1, 1]\n",
        "convergence_epochs = [r['convergence_epoch'] for r in all_results]\n",
        "ax4.hist(convergence_epochs, bins=15, alpha=0.7, color=COLORS['semantic']['info_blue'])\n",
        "ax4.set_xlabel('Convergence Epoch')\n",
        "ax4.set_ylabel('Frequency')\n",
        "ax4.set_title('Training Convergence Distribution')\n",
        "ax4.grid(True, alpha=0.3)\n",
        "\n",
        "plt.tight_layout()\n",
        "plt.savefig(RESULTS_DIR / 'results_analysis.png', dpi=300, bbox_inches='tight')\n",
        "plt.show()\n",
        "\n",
        "print(f\"\\nVisualization saved to: {repo_name}/results/hp_search_per_model/results_analysis.png\")\n"
      ]
    },
    {
      "cell_type": "markdown",
      "metadata": {},
      "source": [
        "## **Summary and Next Steps** <a id=\"summary\"></a>\n",
        "\n",
        "### **Hyperparameter Optimization Pipeline Complete**\n",
        "\n",
        "This notebook successfully completed a two-stage hyperparameter optimization process across five CNN architectures using a clinical imaging dataset.\n",
        "\n",
        "#### **1. Broad Exploration (Stage 1)**\n",
        "- Conducted 200 trials across 5 architectures with stratified sampling\n",
        "- Identified high-performing and promising \"prospect\" configurations using trend-based analysis\n",
        "- Generated training curves and clinical metrics (F1, precision, recall, generalization)\n",
        "\n",
        "#### **2. Focused Refinement (Stage 2)**\n",
        "- Refined architecture-specific search spaces via epsilon selection and curve acceleration\n",
        "- Conducted 200 additional focused trials with extended training duration\n",
        "- Quantified improvement over Stage 1 and visualized model stability\n",
        "\n",
        "#### **3. Performance Comparison & Export**\n",
        "- Compared models across accuracy, medical metrics, convergence, and generalization gap\n",
        "- Saved full trial results and statistical summaries for downstream use\n",
        "\n",
        "---\n",
        "\n",
        "### **Next Steps in the Pipeline**\n",
        "\n",
        "- **`03_Multi_Class_Model_HP_Selection.ipynb`**: Perform in-depth filtering, trend validation, and final model selection  \n",
        "- **`04_Multi_Class_Full_Training_Ensemble.ipynb`**: Retrain selected configurations on the full dataset with optimal epochs  \n",
        "- **`05_Deployment_and_Clinical_UI.ipynb`**: Integrate model into clinical workflows for real-time decision support\n",
        "\n",
        "---\n",
        "\n",
        "### **Key Technical Achievements**\n",
        "\n",
        "- **Two-Stage Optimization**: Balanced trial distribution with automated refinement  \n",
        "- **Trend-Aware Selection**: Identified slow-converging models missed by traditional selection  \n",
        "- **Metric-Rich Evaluation**: Used clinical-relevant metrics to guide optimization  \n",
        "- **Ready for Deployment**: Results packaged for model selection and downstream retraining\n"
      ]
    },
    {
      "cell_type": "markdown",
      "metadata": {},
      "source": []
    }
  ],
  "metadata": {
    "kernelspec": {
      "display_name": "gpu",
      "language": "python",
      "name": "python3"
    },
    "language_info": {
      "codemirror_mode": {
        "name": "ipython",
        "version": 3
      },
      "file_extension": ".py",
      "mimetype": "text/x-python",
      "name": "python",
      "nbconvert_exporter": "python",
      "pygments_lexer": "ipython3",
      "version": "3.11.13"
    }
  },
  "nbformat": 4,
  "nbformat_minor": 2
}
