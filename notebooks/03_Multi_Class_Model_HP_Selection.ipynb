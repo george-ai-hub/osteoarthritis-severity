{
 "cells": [
  {
   "cell_type": "markdown",
   "metadata": {
    "vscode": {
     "languageId": "raw"
    }
   },
   "source": [
    "# Osteoarthritis Severity Classification – Model Architecture and Hyperparameter Selection\n",
    "\n",
    "**George Ford - Advanced Model Selection Analysis**\n",
    "\n",
    "## 🏥 Clinical ML Model Selection Pipeline\n",
    "\n",
    "Comprehensive analysis of two-stage hyperparameter optimization results to identify the top-performing model architectures and hyperparameter combinations across different neural network families. This notebook builds directly on `02_Multi_Class_HP_Search.ipynb`, processing the comprehensive trial results to guide final model selection for clinical deployment.\n",
    "\n",
    "---\n",
    "\n",
    "## Overview\n",
    "\n",
    "This notebook performs systematic analysis of hyperparameter search results from the comprehensive two-stage optimization pipeline completed in the previous notebook. The analysis identifies optimal model/hyperparameter combinations from different architectures to ensure architectural diversity in the final ensemble while maximizing clinical performance.\n",
    "\n",
    "### Key Features:\n",
    "- **Multi-architecture performance analysis** - Statistical comparison across all model families\n",
    "- **Hyperparameter impact quantification** - Systematic sensitivity analysis of key parameters\n",
    "- **Clinical metrics optimization** - F1, F2, precision, recall tailored for medical applications\n",
    "- **Ensemble candidate selection** - Best configuration from each architecture for robust training\n",
    "- **Statistical significance testing** - Confidence intervals and performance validation\n",
    "\n",
    "### Analysis Framework:\n",
    "- **Stage 1 & 2 Results Integration** - Comprehensive performance synthesis across optimization stages\n",
    "- **Architecture-specific Selection** - Optimal configurations per model family for diversity\n",
    "- **Performance Stability Assessment** - Consistency metrics and generalization analysis\n",
    "- **Interactive Visualization** - Radar charts and performance dashboards for model comparison\n",
    "\n",
    "---\n",
    "\n",
    "## Table of Contents\n",
    "\n",
    "1. [Setup and Configuration](#setup)\n",
    "2. [Results Analysis and Integration](#analysis)\n",
    "3. [Hyperparameter Impact Analysis](#hyperparameter-analysis)\n",
    "4. [Model Selection](#model-selection)\n",
    "5. [Performance Visualization](#visualization)\n",
    "6. [Summary and Next Steps](#summary)\n"
   ]
  },
  {
   "cell_type": "markdown",
   "metadata": {
    "vscode": {
     "languageId": "raw"
    }
   },
   "source": [
    "## **Setup and Configuration** <a id=\"setup\"></a>\n",
    "\n",
    "Establishes the analysis environment and loads hyperparameter search results from the two-stage optimization pipeline. Configures visualization settings and clinical metrics for comprehensive model selection analysis.\n",
    "\n",
    "- Initialize environment with statistical and visualization libraries\n",
    "- Set official color palette and plotting styles for consistency\n",
    "- Load relative data paths for reproducibility\n",
    "- Import Stage 1 and Stage 2 hyperparameter search results\n",
    "- Configure analysis directories and clinical model mappings\n"
   ]
  },
  {
   "cell_type": "code",
   "execution_count": 1,
   "metadata": {},
   "outputs": [
    {
     "name": "stdout",
     "output_type": "stream",
     "text": [
      "Repository setup and configuration\n",
      "════════════════════════════════════════════════════════════════════════════════\n",
      "\n",
      "Repository:                      osteoarthritis-severity\n",
      "Loading results from:            osteoarthritis-severity/results/hp_search_per_model\n",
      "Final results will be saved to:  osteoarthritis-severity/results/full_training\n",
      "════════════════════════════════════════════════════════════════════════════════\n"
     ]
    }
   ],
   "source": [
    "# Setup and Imports\n",
    "import os\n",
    "import pandas as pd\n",
    "import numpy as np\n",
    "from pathlib import Path\n",
    "import json\n",
    "import warnings\n",
    "warnings.filterwarnings('ignore')\n",
    "\n",
    "# Statistical and ML Libraries\n",
    "from scipy import stats\n",
    "from sklearn.metrics import precision_score, recall_score, f1_score, fbeta_score\n",
    "\n",
    "# Visualization\n",
    "import matplotlib.pyplot as plt\n",
    "import seaborn as sns\n",
    "from matplotlib.patches import Rectangle\n",
    "import plotly.graph_objects as go\n",
    "import plotly.express as px\n",
    "from plotly.subplots import make_subplots\n",
    "\n",
    "# Configuration\n",
    "np.random.seed(42)\n",
    "\n",
    "# Auto-detect repository root for relative path display\n",
    "repo_root = Path(\"..\").resolve()\n",
    "repo_name = repo_root.name\n",
    "\n",
    "print(\"Repository setup and configuration\")\n",
    "print(\"═\" * 80)\n",
    "\n",
    "# Results directory\n",
    "RESULTS_DIR = repo_root / 'results' / 'hp_search_per_model'\n",
    "FINAL_RESULTS_DIR = repo_root / 'results' / 'full_training'\n",
    "FINAL_RESULTS_DIR.mkdir(parents=True, exist_ok=True)\n",
    "\n",
    "print(f\"\\nRepository:                      {repo_name}\")\n",
    "print(f\"Loading results from:            {repo_name}/results/hp_search_per_model\")\n",
    "print(f\"Final results will be saved to:  {repo_name}/results/full_training\")\n",
    "print(\"═\" * 80)\n"
   ]
  },
  {
   "cell_type": "code",
   "execution_count": 2,
   "metadata": {},
   "outputs": [
    {
     "name": "stdout",
     "output_type": "stream",
     "text": [
      "Configuration loaded, color palette set, and results loaded\n",
      "════════════════════════════════════════════════════════════════════════════════\n",
      "\n",
      "Hyperparameter Search Summary:\n",
      "────────────────────────────────────────────────────────────────────────────────\n",
      "  Stage 1 trials:       200\n",
      "  Stage 2 trials:       200\n",
      "  Total trials:         400\n",
      "  Models analyzed:        5\n",
      "  Search completion:   88.13%\n",
      "\n",
      "Performance Range Summary:\n",
      "────────────────────────────────────────────────────────────────────────────────\n",
      "  Validation Accuracy:  12.33%  –  88.13%\n",
      "  F1 Score:             0.033  –  0.882\n",
      "  F2 Score:             0.054  –  0.881\n",
      "  Generalization Gap:   -8.07%  –  81.28%\n",
      "════════════════════════════════════════════════════════════════════════════════\n"
     ]
    }
   ],
   "source": [
    "# === Configuration, Color Palette, and Data Loading ===\n",
    "\n",
    "# Color palette\n",
    "COLORS = {\n",
    "    'primary': {'medical_blue': '#2E5BBA', 'healthcare_teal': '#1B998B', 'clinical_purple': '#6A4C93'},\n",
    "    'neutral': {'charcoal': '#2C3E50', 'slate_gray': '#5D6D7E', 'light_gray': '#BDC3C7', 'off_white': '#F8F9FA'},\n",
    "    'semantic': {'success_green': '#27AE60', 'warning_orange': '#E67E22', 'error_red': '#E74C3C', 'info_blue': '#3498DB'},\n",
    "    'severity': {'normal': '#2ECC71', 'doubtful': '#F1C40F', 'mild': '#E67E22', 'moderate': '#E74C3C', 'severe': '#8E44AD'},\n",
    "    'models': {'efficientnet': '#2E5BBA', 'regnet': '#1B998B', 'densenet': '#6A4C93', 'resnet': '#27AE60', 'convnext': '#FF9A8B'}\n",
    "}\n",
    "\n",
    "# Model and clinical mappings\n",
    "MODEL_NAMES = {\n",
    "    'efficientnet': 'EfficientNet-B0',\n",
    "    'regnet': 'RegNet-Y-800MF',\n",
    "    'densenet': 'DenseNet-121',\n",
    "    'resnet': 'ResNet-50',\n",
    "    'convnext': 'ConvNeXt-Tiny'\n",
    "}\n",
    "class_names = ['Normal', 'Doubtful', 'Mild', 'Moderate', 'Severe']\n",
    "\n",
    "# Plotting style\n",
    "plt.style.use('default')\n",
    "plt.rcParams['figure.figsize'] = (12, 8)\n",
    "plt.rcParams['font.size'] = 12\n",
    "plt.rcParams['axes.facecolor'] = COLORS['neutral']['off_white']\n",
    "\n",
    "# File paths\n",
    "stage1_file = RESULTS_DIR / 'stage1_results.csv'\n",
    "stage2_file = RESULTS_DIR / 'stage2_results.csv'\n",
    "\n",
    "# Ensure Stage 1 exists\n",
    "if not stage1_file.exists():\n",
    "    raise FileNotFoundError(\n",
    "        f\"Stage 1 results not found at: {stage1_file}\\n\"\n",
    "        f\"Please run notebook 2.5 to generate initial hyperparameter search.\"\n",
    "    )\n",
    "\n",
    "# Load and combine results\n",
    "stage1_results = pd.read_csv(stage1_file)\n",
    "stage2_results = pd.read_csv(stage2_file) if stage2_file.exists() else pd.DataFrame()\n",
    "all_results = pd.concat([stage1_results, stage2_results], ignore_index=True)\n",
    "\n",
    "# Summary\n",
    "print(\"Configuration loaded, color palette set, and results loaded\")\n",
    "print(\"═\" * 80)\n",
    "\n",
    "print(\"\\nHyperparameter Search Summary:\")\n",
    "print(\"─\" * 80)\n",
    "print(f\"  Stage 1 trials:     {len(stage1_results):>5}\")\n",
    "print(f\"  Stage 2 trials:     {len(stage2_results):>5}\")\n",
    "print(f\"  Total trials:       {len(all_results):>5}\")\n",
    "print(f\"  Models analyzed:    {len(all_results['model_name'].unique()):>5}\")\n",
    "print(f\"  Search completion:  {all_results['best_val_acc'].max():>6.2f}%\")\n",
    "\n",
    "print(\"\\nPerformance Range Summary:\")\n",
    "print(\"─\" * 80)\n",
    "print(f\"  Validation Accuracy:  {all_results['best_val_acc'].min():>4.2f}%  –  {all_results['best_val_acc'].max():.2f}%\")\n",
    "print(f\"  F1 Score:             {all_results['best_val_f1'].min():>4.3f}  –  {all_results['best_val_f1'].max():.3f}\")\n",
    "print(f\"  F2 Score:             {all_results['best_val_f2'].min():>4.3f}  –  {all_results['best_val_f2'].max():.3f}\")\n",
    "print(f\"  Generalization Gap:   {all_results['final_generalization_gap'].min():>4.2f}%  –  {all_results['final_generalization_gap'].max():.2f}%\")\n",
    "print(\"═\" * 80)"
   ]
  },
  {
   "cell_type": "markdown",
   "metadata": {
    "vscode": {
     "languageId": "raw"
    }
   },
   "source": [
    "## **Results Analysis and Integration** <a id=\"analysis\"></a>\n",
    "\n",
    "Comprehensive analysis of hyperparameter search results across both optimization stages, identifying performance patterns and statistical significance of model differences.\n",
    "\n",
    "Performs systematic analysis of trial results from the two-stage hyperparameter optimization pipeline to understand:\n",
    "- Model architecture performance distributions and statistical significance\n",
    "- Performance improvements achieved through focused Stage 2 refinement\n",
    "- Clinical metric patterns across different neural network families\n",
    "- Generalization stability and overfitting trends per architecture\n",
    "- Trial-level consistency and convergence characteristics\n"
   ]
  },
  {
   "cell_type": "code",
   "execution_count": 3,
   "metadata": {},
   "outputs": [
    {
     "name": "stdout",
     "output_type": "stream",
     "text": [
      "Model Architecture Performance Analysis\n",
      "════════════════════════════════════════════════════════════════════════════════\n",
      "\n",
      "ConvNeXt-Tiny:\n",
      "  Best Accuracy:        83.56% (Mean: 56.83% ± 20.61%)\n",
      "  Best F1 Score:        0.8374 (Mean: 0.5299 ± 0.2411)\n",
      "  Best F2 Score:        0.8360 (Mean: 0.5455 ± 0.2266)\n",
      "  Generalization Gap:   11.81%\n",
      "  Consistency Score:    0.637\n",
      "  Total Trials:         80 (Stage 1: 40, Stage 2: 40)\n",
      "\n",
      "DenseNet-121:\n",
      "  Best Accuracy:        85.39% (Mean: 59.93% ± 22.04%)\n",
      "  Best F1 Score:        0.8542 (Mean: 0.5627 ± 0.2635)\n",
      "  Best F2 Score:        0.8539 (Mean: 0.5762 ± 0.2464)\n",
      "  Generalization Gap:   22.26%\n",
      "  Consistency Score:    0.632\n",
      "  Total Trials:         80 (Stage 1: 40, Stage 2: 40)\n",
      "\n",
      "EfficientNet-B0:\n",
      "  Best Accuracy:        88.13% (Mean: 60.88% ± 26.54%)\n",
      "  Best F1 Score:        0.8822 (Mean: 0.5863 ± 0.2909)\n",
      "  Best F2 Score:        0.8815 (Mean: 0.5944 ± 0.2809)\n",
      "  Generalization Gap:   21.56%\n",
      "  Consistency Score:    0.564\n",
      "  Total Trials:         80 (Stage 1: 40, Stage 2: 40)\n",
      "\n",
      "RegNet-Y-800MF:\n",
      "  Best Accuracy:        86.76% (Mean: 62.69% ± 23.17%)\n",
      "  Best F1 Score:        0.8701 (Mean: 0.5988 ± 0.2654)\n",
      "  Best F2 Score:        0.8678 (Mean: 0.6090 ± 0.2518)\n",
      "  Generalization Gap:   17.97%\n",
      "  Consistency Score:    0.630\n",
      "  Total Trials:         80 (Stage 1: 40, Stage 2: 40)\n",
      "\n",
      "ResNet-50:\n",
      "  Best Accuracy:        86.76% (Mean: 60.44% ± 21.16%)\n",
      "  Best F1 Score:        0.8665 (Mean: 0.5719 ± 0.2459)\n",
      "  Best F2 Score:        0.8670 (Mean: 0.5841 ± 0.2321)\n",
      "  Generalization Gap:   19.48%\n",
      "  Consistency Score:    0.650\n",
      "  Total Trials:         80 (Stage 1: 40, Stage 2: 40)\n",
      "\n",
      "\n",
      "Statistical Significance Testing:\n",
      "────────────────────────────────────────────────────────────────────────────────\n",
      "ConvNeXt-Tiny       vs  DenseNet-121         p =  0.3605  ns\n",
      "ConvNeXt-Tiny       vs  EfficientNet-B0      p =  0.2824  ns\n",
      "ConvNeXt-Tiny       vs  RegNet-Y-800MF       p =  0.0932  ns\n",
      "ConvNeXt-Tiny       vs  ResNet-50            p =  0.2763  ns\n",
      "DenseNet-121        vs  EfficientNet-B0      p =  0.8040  ns\n",
      "DenseNet-121        vs  RegNet-Y-800MF       p =  0.4408  ns\n",
      "DenseNet-121        vs  ResNet-50            p =  0.8806  ns\n",
      "EfficientNet-B0     vs  RegNet-Y-800MF       p =  0.6476  ns\n",
      "EfficientNet-B0     vs  ResNet-50            p =  0.9068  ns\n",
      "RegNet-Y-800MF      vs  ResNet-50            p =  0.5224  ns\n",
      "\n",
      "Legend:\t*** p < 0.001\n",
      "\t ** p < 0.01\n",
      "\t  * p < 0.05\n",
      "\tns = not significant\n",
      "════════════════════════════════════════════════════════════════════════════════\n"
     ]
    }
   ],
   "source": [
    "# === Model Architecture Performance Analysis ===\n",
    "\n",
    "def analyze_model_performance(results_df):\n",
    "    \"\"\"Analyze performance by model architecture\"\"\"\n",
    "    analysis_results = {}\n",
    "    \n",
    "    print(\"Model Architecture Performance Analysis\")\n",
    "    print(\"═\" * 80)\n",
    "    \n",
    "    for model_name in sorted(results_df['model_name'].unique()):\n",
    "        model_data = results_df[results_df['model_name'] == model_name]\n",
    "        display_name = MODEL_NAMES.get(model_name, model_name)\n",
    "        \n",
    "        # Stats\n",
    "        best_acc = model_data['best_val_acc'].max()\n",
    "        mean_acc = model_data['best_val_acc'].mean()\n",
    "        std_acc = model_data['best_val_acc'].std()\n",
    "\n",
    "        best_f1 = model_data['best_val_f1'].max()\n",
    "        mean_f1 = model_data['best_val_f1'].mean()\n",
    "        std_f1 = model_data['best_val_f1'].std()\n",
    "\n",
    "        best_f2  = model_data['best_val_f2'].max()\n",
    "        mean_f2  = model_data['best_val_f2'].mean()\n",
    "        std_f2   = model_data['best_val_f2'].std()\n",
    "        \n",
    "        generalization_gap = model_data['final_generalization_gap'].mean()\n",
    "        consistency = 1 - (std_acc / mean_acc) if mean_acc > 0 else 0\n",
    "\n",
    "        # Trial breakdown\n",
    "        has_stage = 'stage' in model_data.columns\n",
    "        stage1_trials = len(model_data[model_data['stage'] == 1]) if has_stage else 0\n",
    "        stage2_trials = len(model_data[model_data['stage'] == 2]) if has_stage else 0\n",
    "\n",
    "        # Store\n",
    "        best_config = model_data.loc[model_data['best_val_acc'].idxmax()]\n",
    "        analysis_results[model_name] = {\n",
    "            'display_name': display_name,\n",
    "            'best_accuracy': best_acc,\n",
    "            'mean_accuracy': mean_acc,\n",
    "            'std_accuracy': std_acc,\n",
    "            'best_f1': best_f1,\n",
    "            'mean_f1': mean_f1,\n",
    "            'std_f1': std_f1,\n",
    "            'generalization_gap': generalization_gap,\n",
    "            'consistency_score': consistency,\n",
    "            'total_trials': len(model_data),\n",
    "            'best_config': best_config.to_dict(),\n",
    "            'stage1_trials': stage1_trials,\n",
    "            'stage2_trials': stage2_trials\n",
    "        }\n",
    "        \n",
    "        # Output\n",
    "        print(f\"\\n{display_name}:\")\n",
    "        print(f\"  Best Accuracy:        {best_acc:.2f}% (Mean: {mean_acc:.2f}% ± {std_acc:.2f}%)\")\n",
    "        print(f\"  Best F1 Score:        {best_f1:.4f} (Mean: {mean_f1:.4f} ± {std_f1:.4f})\")\n",
    "        print(f\"  Best F2 Score:        {best_f2:.4f} (Mean: {mean_f2:.4f} ± {std_f2:.4f})\")\n",
    "        print(f\"  Generalization Gap:   {generalization_gap:.2f}%\")\n",
    "        print(f\"  Consistency Score:    {consistency:.3f}\")\n",
    "        print(f\"  Total Trials:         {len(model_data)} (Stage 1: {stage1_trials}, Stage 2: {stage2_trials})\")\n",
    "    \n",
    "    return analysis_results\n",
    "\n",
    "\n",
    "# Run analysis\n",
    "model_analysis = analyze_model_performance(all_results)\n",
    "\n",
    "\n",
    "# === Statistical Significance Testing ===\n",
    "\n",
    "print(f\"\\n\\nStatistical Significance Testing:\")\n",
    "print(\"─\" * 80)\n",
    "\n",
    "model_names = list(model_analysis.keys())\n",
    "for i, model1 in enumerate(model_names):\n",
    "    for model2 in model_names[i + 1:]:\n",
    "        acc1 = all_results[all_results['model_name'] == model1]['best_val_acc']\n",
    "        acc2 = all_results[all_results['model_name'] == model2]['best_val_acc']\n",
    "        \n",
    "        t_stat, p_value = stats.ttest_ind(acc1, acc2, equal_var=False)  # Welch's t-test\n",
    "\n",
    "        d1 = MODEL_NAMES.get(model1, model1)\n",
    "        d2 = MODEL_NAMES.get(model2, model2)\n",
    "        significance = \"***\" if p_value < 0.001 else \"**\" if p_value < 0.01 else \"*\" if p_value < 0.05 else \"ns\"\n",
    "        \n",
    "        print(f\"{d1:<18}  vs  {d2:<18}   p = {p_value:>7.4f}  {significance}\")\n",
    "\n",
    "print(\"\\nLegend:\\t*** p < 0.001\\n\\t ** p < 0.01\\n\\t  * p < 0.05\\n\\tns = not significant\")\n",
    "print(\"═\" * 80)"
   ]
  },
  {
   "cell_type": "markdown",
   "metadata": {
    "vscode": {
     "languageId": "raw"
    }
   },
   "source": [
    "## **Hyperparameter Impact Analysis** <a id=\"hyperparameter-analysis\"></a>\n",
    "\n",
    "Quantitative analysis of hyperparameter effects on model performance across different architectures, identifying key optimization drivers and parameter sensitivity patterns.\n",
    "\n",
    "Systematic evaluation of hyperparameter sensitivity and impact across all optimization trials to determine:\n",
    "- **Parameter performance ranges** - Quantify the impact of each hyperparameter on validation accuracy\n",
    "- **Architecture-specific preferences** - Identify optimal parameter values for each model family\n",
    "- **Cross-model parameter patterns** - Find universal vs. architecture-specific optimization preferences\n",
    "- **Correlation analysis** - Statistical relationships between parameters and clinical performance\n",
    "- **Most impactful parameters** - Rank hyperparameters by their influence on model performance\n"
   ]
  },
  {
   "cell_type": "code",
   "execution_count": 4,
   "metadata": {},
   "outputs": [
    {
     "name": "stdout",
     "output_type": "stream",
     "text": [
      "Hyperparameter Impact Analysis\n",
      "────────────────────────────────────────────────────────────────────────────────\n",
      "\n",
      "Optimizer:\n",
      "  adam: 65.17% ± 20.60% (n=189.0)\n",
      "  adamw: 64.45% ± 22.50% (n=136.0)\n",
      "  sgd: 39.72% ± 16.44% (n=75.0)\n",
      "  Performance range: 25.45%\n",
      "\n",
      "Learning Rate:\n",
      "  0.0003: 64.28% ± 23.83% (n=76.0)\n",
      "  0.0005: 63.64% ± 24.11% (n=68.0)\n",
      "  0.001: 62.98% ± 21.21% (n=78.0)\n",
      "  0.0001: 59.19% ± 24.72% (n=47.0)\n",
      "  0.002: 57.70% ± 18.92% (n=85.0)\n",
      "  0.003: 48.91% ± 22.76% (n=46.0)\n",
      "  Performance range: 15.37%\n",
      "\n",
      "Batch Size:\n",
      "  32: 60.67% ± 22.49% (n=177.0)\n",
      "  64: 59.74% ± 23.02% (n=223.0)\n",
      "  Performance range: 0.93%\n",
      "\n",
      "Hidden Dim:\n",
      "  768: 63.42% ± 21.20% (n=89.0)\n",
      "  256: 60.61% ± 23.45% (n=64.0)\n",
      "  384: 59.32% ± 22.26% (n=93.0)\n",
      "  512: 59.17% ± 23.86% (n=92.0)\n",
      "  1024: 57.71% ± 23.50% (n=62.0)\n",
      "  Performance range: 5.71%\n",
      "\n",
      "Weight Decay:\n",
      "  0.0003: 62.40% ± 22.35% (n=79.0)\n",
      "  0.0001: 59.82% ± 23.08% (n=94.0)\n",
      "  0.001: 59.82% ± 21.93% (n=110.0)\n",
      "  1e-05: 59.29% ± 23.96% (n=55.0)\n",
      "  3e-05: 59.16% ± 23.71% (n=62.0)\n",
      "  Performance range: 3.24%\n",
      "\n",
      "Dropout:\n",
      "  0.4: 64.71% ± 19.90% (n=114.0)\n",
      "  0.2: 62.66% ± 22.82% (n=119.0)\n",
      "  0.1: 55.66% ± 22.71% (n=76.0)\n",
      "  0.3: 54.91% ± 24.65% (n=91.0)\n",
      "  Performance range: 9.80%\n",
      "\n",
      "\n",
      "Most Impactful Hyperparameters (by performance range):\n",
      "────────────────────────────────────────────────────────────────────────────────\n",
      "Optimizer:\t25.45% range\n",
      "Learning Rate:\t15.37% range\n",
      "Dropout:\t9.80% range\n",
      "Hidden Dim:\t5.71% range\n",
      "Weight Decay:\t3.24% range\n",
      "Batch Size:\t0.93% range\n",
      "\n",
      "\n",
      "Architecture-Specific Hyperparameter Preferences:\n",
      "────────────────────────────────────────────────────────────────────────────────\n",
      "\n",
      "ConvNeXt-Tiny - Top 3 Configurations:\n",
      "  1. Acc: 83.56%, F1: 0.8374 - Opt: adamw, LR: 0.0005, Batch: 64, Hidden: 512, WD: 0.0003, Drop: 0.2\n",
      "  2. Acc: 83.11%, F1: 0.8336 - Opt: adamw, LR: 0.0005, Batch: 64, Hidden: 512, WD: 3e-05, Drop: 0.2\n",
      "  3. Acc: 82.65%, F1: 0.8244 - Opt: adamw, LR: 0.0003, Batch: 64, Hidden: 384, WD: 3e-05, Drop: 0.4\n",
      "\n",
      "DenseNet-121 - Top 3 Configurations:\n",
      "  1. Acc: 85.39%, F1: 0.8542 - Opt: adamw, LR: 0.0003, Batch: 64, Hidden: 512, WD: 0.0001, Drop: 0.4\n",
      "  2. Acc: 84.47%, F1: 0.8461 - Opt: adamw, LR: 0.0005, Batch: 64, Hidden: 1024, WD: 0.001, Drop: 0.3\n",
      "  3. Acc: 84.02%, F1: 0.8404 - Opt: adam, LR: 0.0003, Batch: 32, Hidden: 1024, WD: 0.0001, Drop: 0.2\n",
      "\n",
      "EfficientNet-B0 - Top 3 Configurations:\n",
      "  1. Acc: 88.13%, F1: 0.8822 - Opt: adam, LR: 0.0005, Batch: 64, Hidden: 384, WD: 0.0003, Drop: 0.4\n",
      "  2. Acc: 87.67%, F1: 0.8776 - Opt: adamw, LR: 0.0005, Batch: 32, Hidden: 384, WD: 0.001, Drop: 0.2\n",
      "  3. Acc: 87.21%, F1: 0.8705 - Opt: adamw, LR: 0.002, Batch: 64, Hidden: 512, WD: 0.001, Drop: 0.2\n",
      "\n",
      "RegNet-Y-800MF - Top 3 Configurations:\n",
      "  1. Acc: 86.76%, F1: 0.8701 - Opt: adam, LR: 0.001, Batch: 64, Hidden: 768, WD: 0.0001, Drop: 0.2\n",
      "  2. Acc: 86.30%, F1: 0.8642 - Opt: adam, LR: 0.002, Batch: 64, Hidden: 256, WD: 0.001, Drop: 0.1\n",
      "  3. Acc: 85.84%, F1: 0.8593 - Opt: adam, LR: 0.0005, Batch: 32, Hidden: 1024, WD: 0.0003, Drop: 0.3\n",
      "\n",
      "ResNet-50 - Top 3 Configurations:\n",
      "  1. Acc: 86.76%, F1: 0.8665 - Opt: adamw, LR: 0.001, Batch: 32, Hidden: 384, WD: 3e-05, Drop: 0.1\n",
      "  2. Acc: 86.30%, F1: 0.8626 - Opt: adam, LR: 0.0005, Batch: 64, Hidden: 1024, WD: 0.001, Drop: 0.4\n",
      "  3. Acc: 84.93%, F1: 0.8505 - Opt: adam, LR: 0.0003, Batch: 64, Hidden: 768, WD: 0.0001, Drop: 0.4\n",
      "\n",
      "\n",
      "Hyperparameter Correlation with Performance:\n",
      "────────────────────────────────────────────────────────────────────────────────\n",
      "Correlation with best validation accuracy:\n",
      "  optimizer_sgd     : 0.432 (negative)\n",
      "  optimizer_adam    : 0.209 (positive)\n",
      "  learning_rate     : 0.180 (negative)\n",
      "  optimizer_adamw   : 0.136 (positive)\n",
      "  dropout           : 0.091 (positive)\n",
      "  batch_size        : 0.020 (negative)\n",
      "  weight_decay      : 0.003 (positive)\n",
      "  hidden_dim        : 0.000 (negative)\n",
      "\n",
      "Hyperparameter impact analysis complete\n",
      "════════════════════════════════════════════════════════════════════════════════\n"
     ]
    }
   ],
   "source": [
    "# === Hyperparameter Impact Analysis ===\n",
    "\n",
    "def analyze_hyperparameter_impact(results_df):\n",
    "    \"\"\"Analyze the impact of different hyperparameters on validation accuracy\"\"\"\n",
    "    \n",
    "    print(\"Hyperparameter Impact Analysis\")\n",
    "    print(\"─\" * 80)\n",
    "\n",
    "    hyperparameters = ['optimizer', 'learning_rate', 'batch_size', 'hidden_dim', 'weight_decay', 'dropout']\n",
    "    impact_analysis = {}\n",
    "\n",
    "    for hp in hyperparameters:\n",
    "        if hp not in results_df.columns:\n",
    "            continue\n",
    "        \n",
    "        print(f\"\\n{hp.replace('_', ' ').title()}:\")\n",
    "        grouped = results_df.groupby(hp)['best_val_acc'].agg(['mean', 'std', 'count']).sort_values('mean', ascending=False)\n",
    "\n",
    "        impact_analysis[hp] = {\n",
    "            'values': grouped.index.tolist(),\n",
    "            'mean_performance': grouped['mean'].tolist(),\n",
    "            'std_performance': grouped['std'].tolist(),\n",
    "            'count': grouped['count'].tolist(),\n",
    "            'range': grouped['mean'].max() - grouped['mean'].min()\n",
    "        }\n",
    "\n",
    "        for val, stats in grouped.iterrows():\n",
    "            print(f\"  {val}: {stats['mean']:.2f}% ± {stats['std']:.2f}% (n={stats['count']})\")\n",
    "        print(f\"  Performance range: {impact_analysis[hp]['range']:.2f}%\")\n",
    "\n",
    "    return impact_analysis\n",
    "\n",
    "\n",
    "# Run analysis\n",
    "hp_impact = analyze_hyperparameter_impact(all_results)\n",
    "\n",
    "# === Most Impactful Hyperparameters ===\n",
    "\n",
    "print(f\"\\n\\nMost Impactful Hyperparameters (by performance range):\")\n",
    "print(\"─\" * 80)\n",
    "for hp, range_val in sorted(((k, v['range']) for k, v in hp_impact.items()), key=lambda x: x[1], reverse=True):\n",
    "    print(f\"{hp.replace('_', ' ').title()}:\\t{range_val:.2f}% range\")\n",
    "\n",
    "\n",
    "# === Architecture-Specific Preferences ===\n",
    "\n",
    "print(f\"\\n\\nArchitecture-Specific Hyperparameter Preferences:\")\n",
    "print(\"─\" * 80)\n",
    "for model_name in sorted(all_results['model_name'].unique()):\n",
    "    model_data = all_results[all_results['model_name'] == model_name]\n",
    "    display_name = MODEL_NAMES.get(model_name, model_name)\n",
    "    top_configs = model_data.nlargest(3, 'best_val_acc')\n",
    "\n",
    "    print(f\"\\n{display_name} - Top 3 Configurations:\")\n",
    "    for i, (_, cfg) in enumerate(top_configs.iterrows(), 1):\n",
    "        print(f\"  {i}. Acc: {cfg['best_val_acc']:.2f}%, F1: {cfg['best_val_f1']:.4f} - Opt: {cfg['optimizer']}, LR: {cfg['learning_rate']}, Batch: {cfg['batch_size']}, Hidden: {cfg['hidden_dim']}, WD: {cfg['weight_decay']}, Drop: {cfg['dropout']}\")\n",
    "\n",
    "# === Correlation Analysis ===\n",
    "\n",
    "print(f\"\\n\\nHyperparameter Correlation with Performance:\")\n",
    "print(\"─\" * 80)\n",
    "\n",
    "# Encode optimizers\n",
    "results_encoded = all_results.copy()\n",
    "for opt in results_encoded['optimizer'].unique():\n",
    "    results_encoded[f\"optimizer_{opt}\"] = (results_encoded['optimizer'] == opt).astype(int)\n",
    "\n",
    "numerical_cols = ['learning_rate', 'batch_size', 'hidden_dim', 'weight_decay', 'dropout'] + \\\n",
    "                 [col for col in results_encoded.columns if col.startswith('optimizer_')]\n",
    "\n",
    "correlation_df = results_encoded[numerical_cols + ['best_val_acc']]\n",
    "correlations = correlation_df.corr()['best_val_acc'].drop('best_val_acc').sort_values(key=abs, ascending=False)\n",
    "\n",
    "print(\"Correlation with best validation accuracy:\")\n",
    "for param, corr in correlations.items():\n",
    "    direction = \"positive\" if corr > 0 else \"negative\"\n",
    "    print(f\"  {param:<18}: {abs(corr):.3f} ({direction})\")\n",
    "\n",
    "print(f\"\\nHyperparameter impact analysis complete\")\n",
    "print(\"═\" * 80)\n"
   ]
  },
  {
   "cell_type": "markdown",
   "metadata": {
    "vscode": {
     "languageId": "raw"
    }
   },
   "source": [
    "## **Model Selection for Ensemble Training** <a id=\"model-selection\"></a>\n",
    "\n",
    "Systematic selection of optimal model/hyperparameter combinations from each architecture for ensemble training, ensuring architectural diversity and optimal clinical performance.\n",
    "\n",
    "Implements comprehensive model selection strategy to identify the best configuration from each architecture:\n",
    "- **Composite scoring methodology** - Combines accuracy, F2 score, and generalization penalty for clinical optimization\n",
    "- **Architecture diversity guarantee** - Ensures one optimal model from each of the five neural network families\n",
    "- **Performance ranking system** - Ranks all models using clinically-relevant composite metrics\n",
    "- **Configuration export** - Saves complete hyperparameter specifications for downstream ensemble training\n",
    "- **Ensemble readiness validation** - Confirms architectural diversity and performance thresholds for robust ensemble\n"
   ]
  },
  {
   "cell_type": "code",
   "execution_count": 5,
   "metadata": {},
   "outputs": [
    {
     "name": "stdout",
     "output_type": "stream",
     "text": [
      "Model Selection for Full Ensemble Training\n",
      "════════════════════════════════════════════════════════════════════════════════\n",
      "\n",
      "Complete Model Performance and Selection Summary:\n",
      "────────────────────────────────────────────────────────────────────────────────\n",
      "Rank Model                Acc%     F1     F2   Prec    Rec   Gap%   Score\n",
      "────────────────────────────────────────────────────────────────────────────────\n",
      "1    EfficientNet-B0     88.13%  0.882 0.881    0.855 0.845  10.1%    166.1\n",
      "2    RegNet-Y-800MF      86.76%  0.870 0.868    0.862 0.858  10.8%    162.7\n",
      "3    ResNet-50           86.76%  0.867 0.867    0.864 0.863  12.9%    160.6\n",
      "4    DenseNet-121        85.39%  0.854 0.854    0.849 0.849  12.0%    158.8\n",
      "5    ConvNeXt-Tiny       83.56%  0.837 0.836    0.831 0.822  15.9%    151.3\n",
      "\n",
      "Configuration saved to: osteoarthritis-severity/results/full_training/selected_models_for_ensemble.json\n",
      "All 5 models ready for ensemble training\n",
      "\n",
      "Architectural Diversity: 5 unique out of 5 models\n",
      "Complete architectural diversity achieved\n",
      "════════════════════════════════════════════════════════════════════════════════\n"
     ]
    }
   ],
   "source": [
    "# Model Selection\n",
    "\n",
    "def to_serializable(obj):\n",
    "    \"\"\"Ensure all types are JSON-serializable\"\"\"\n",
    "    if isinstance(obj, (np.integer, np.int64)): return int(obj)\n",
    "    if isinstance(obj, (np.floating, np.float64)): return float(obj)\n",
    "    if isinstance(obj, (np.bool_)): return bool(obj)\n",
    "    if isinstance(obj, dict): return {k: to_serializable(v) for k, v in obj.items()}\n",
    "    if isinstance(obj, list): return [to_serializable(v) for v in obj]\n",
    "    return obj\n",
    "\n",
    "def select_all_models(results_df):\n",
    "    \"\"\"Select all 5 models using a composite of accuracy, F2 and overfitting penalty.\"\"\"\n",
    "    \n",
    "    print(\"Model Selection for Full Ensemble Training\")\n",
    "    print(\"═\" * 80)\n",
    "    \n",
    "    all_models = {}\n",
    "    \n",
    "    for model_name in sorted(results_df['model_name'].unique()):\n",
    "        model_data = results_df[results_df['model_name'] == model_name]\n",
    "        if model_data.empty:\n",
    "            continue\n",
    "        \n",
    "        # pick the config with highest raw validation accuracy for this architecture\n",
    "        best_config = model_data.loc[model_data['best_val_acc'].idxmax()]\n",
    "        display_name = MODEL_NAMES.get(model_name, model_name)\n",
    "        \n",
    "        # pull out the metrics\n",
    "        best_acc = float(best_config['best_val_acc'])\n",
    "        best_f1  = float(best_config['best_val_f1'])\n",
    "        best_f2  = float(best_config['best_val_f2'])\n",
    "        best_precision = float(best_config['final_val_precision'])\n",
    "        best_recall = float(best_config['final_val_recall'])\n",
    "        gap = float(best_config['final_generalization_gap'])\n",
    "        \n",
    "        # new composite: accuracy + (F2 × 100) − overfit penalty\n",
    "        corrected_score = best_acc + best_f2 * 100.0 - gap\n",
    "        \n",
    "        all_models[model_name] = {\n",
    "            'config': best_config,\n",
    "            'corrected_score': corrected_score,\n",
    "            'display_name': display_name,\n",
    "            'performance_metrics': {\n",
    "                'accuracy': best_acc,\n",
    "                'f1_score': best_f1,\n",
    "                'f2_score': best_f2,\n",
    "                'precision': best_precision,\n",
    "                'recall': best_recall,\n",
    "                'generalization_gap': gap\n",
    "            }\n",
    "        }\n",
    "    \n",
    "    # rank architectures by composite score\n",
    "    ranked_models = sorted(\n",
    "        all_models.items(),\n",
    "        key=lambda x: x[1]['corrected_score'],\n",
    "        reverse=True\n",
    "    )\n",
    "    \n",
    "    # Create comprehensive table with all metrics\n",
    "    all_selected_models = []\n",
    "    \n",
    "    print(\"\\nComplete Model Performance and Selection Summary:\")\n",
    "    print(\"─\" * 80)\n",
    "    print(f\"{'Rank':<4} {'Model':<18} {'Acc%':>6} {'F1':>6} {'F2':>6} {'Prec':>6} {'Rec':>6} {'Gap%':>6} {'Score':>7}\")\n",
    "    print(\"─\" * 80)\n",
    "    \n",
    "    for i, (model_name, model_info) in enumerate(ranked_models, 1):\n",
    "        cfg = model_info['config']\n",
    "        display_name = model_info['display_name']\n",
    "        metrics = model_info['performance_metrics']\n",
    "        \n",
    "        print(f\"{i:<4} {display_name:<18} {metrics['accuracy']:>6.2f}%  {metrics['f1_score']:>5.3f} {metrics['f2_score']:>5.3f} {metrics['precision']:>8.3f} {metrics['recall']:>5.3f} {metrics['generalization_gap']:>5.1f}% {model_info['corrected_score']:>8.1f}\")\n",
    "        \n",
    "        model_config = {\n",
    "            'model_name': model_name,\n",
    "            'display_name': display_name,\n",
    "            'rank': i,\n",
    "            'hyperparameters': {\n",
    "                'optimizer': str(cfg['optimizer']),\n",
    "                'learning_rate': float(cfg['learning_rate']),\n",
    "                'batch_size': int(cfg['batch_size']),\n",
    "                'hidden_dim': int(cfg['hidden_dim']),\n",
    "                'weight_decay': float(cfg['weight_decay']),\n",
    "                'dropout': float(cfg['dropout']),\n",
    "                'mixup_alpha': float(cfg.get('mixup_alpha', 0.0)),\n",
    "                'gradient_clipping': float(cfg.get('gradient_clipping', 0.0)),\n",
    "                'label_smoothing': float(cfg.get('label_smoothing', 0.0)),\n",
    "                'use_ema': bool(cfg.get('use_ema', False)),\n",
    "                'ema_decay': float(cfg.get('ema_decay', 0.999)),\n",
    "                'lr_schedule': str(cfg.get('lr_schedule', 'none')),\n",
    "                'warmup_epochs': int(cfg.get('warmup_epochs', 0))\n",
    "            },\n",
    "            'performance': {\n",
    "                'validation_accuracy': metrics['accuracy'],\n",
    "                'f1_score': metrics['f1_score'],\n",
    "                'f2_score': metrics['f2_score'],\n",
    "                'precision': metrics['precision'],\n",
    "                'recall': metrics['recall'],\n",
    "                'generalization_gap': metrics['generalization_gap'],\n",
    "                'corrected_composite_score': model_info['corrected_score']\n",
    "            }\n",
    "        }\n",
    "        \n",
    "        all_selected_models.append(to_serializable(model_config))\n",
    "    \n",
    "    return all_selected_models\n",
    "\n",
    "# Execute model selection\n",
    "if 'model_analysis' in locals():\n",
    "    all_5_models = select_all_models(all_results)\n",
    "    \n",
    "    corrected_ensemble_file = FINAL_RESULTS_DIR / 'selected_models_for_ensemble.json'\n",
    "    with open(corrected_ensemble_file, 'w') as f:\n",
    "        json.dump(all_5_models, f, indent=2)\n",
    "\n",
    "    print(f\"\\nConfiguration saved to: {repo_name}/results/full_training/selected_models_for_ensemble.json\")\n",
    "    print(f\"All 5 models ready for ensemble training\")\n",
    "    \n",
    "    # === Architecture Diversity Check ===\n",
    "    architectures = [m['model_name'] for m in all_5_models]\n",
    "    unique_archs = len(set(architectures))\n",
    "    print(f\"\\nArchitectural Diversity: {unique_archs} unique out of {len(all_5_models)} models\")\n",
    "    print(\"Complete architectural diversity achieved\" if unique_archs == len(all_5_models) \n",
    "          else \"⚠️  Repeated architectures detected – consider manual adjustment for optimal diversity\")\n",
    "    \n",
    "else:\n",
    "    print(\"Run model analysis cells above first, then re-run this cell\")\n",
    "\n",
    "print(\"═\" * 80)"
   ]
  },
  {
   "cell_type": "markdown",
   "metadata": {},
   "source": [
    "## **Performance Visualization and Analysis Dashboard** <a id=\"visualization\"></a>\n",
    "\n",
    "Comprehensive visualization of hyperparameter search results, model performance distributions, and parameter sensitivity analysis to guide clinical deployment decisions.\n",
    "\n",
    "Creates interactive and static visualizations to communicate model selection insights:\n",
    "- **Interactive radar charts** - Multi-metric performance comparison across all selected models\n",
    "- **Performance distribution analysis** - Boxplots showing consistency and variability per architecture\n",
    "- **Hyperparameter impact visualization** - Impact rankings and parameter sensitivity analysis\n",
    "- **Stage comparison analysis** - Performance improvements from Stage 1 to Stage 2 optimization\n",
    "- **Model selection dashboard** - Comprehensive visual summary of top model characteristics"
   ]
  },
  {
   "cell_type": "code",
   "execution_count": 6,
   "metadata": {},
   "outputs": [
    {
     "name": "stdout",
     "output_type": "stream",
     "text": [
      "Model Selection Visualizations\n",
      "════════════════════════════════════════════════════════════════════════════════\n",
      "\n",
      "1. Interactive Model Performance Dashboard\n",
      "────────────────────────────────────────────────────────────────────────────────\n"
     ]
    },
    {
     "data": {
      "application/vnd.plotly.v1+json": {
       "config": {
        "plotlyServerURL": "https://plot.ly"
       },
       "data": [
        {
         "fill": "toself",
         "fillcolor": "#2E5BBA",
         "line": {
          "color": "#2E5BBA",
          "width": 3
         },
         "name": "1. EfficientNet-B0",
         "opacity": 0.5,
         "r": [
          88.12785388127854,
          88.2170829250858,
          88.14940910671875,
          85.4977300162704,
          84.47488584474885,
          88.12785388127854
         ],
         "theta": [
          "Accuracy",
          "F1 Score",
          "F2 Score",
          "Precision",
          "Recall",
          "Accuracy"
         ],
         "type": "scatterpolar"
        },
        {
         "fill": "toself",
         "fillcolor": "#1B998B",
         "line": {
          "color": "#1B998B",
          "width": 3
         },
         "name": "2. RegNet-Y-800MF",
         "opacity": 0.5,
         "r": [
          86.7579908675799,
          87.00902859485315,
          86.77547351700241,
          86.2126047695461,
          85.84474885844749,
          86.7579908675799
         ],
         "theta": [
          "Accuracy",
          "F1 Score",
          "F2 Score",
          "Precision",
          "Recall",
          "Accuracy"
         ],
         "type": "scatterpolar"
        },
        {
         "fill": "toself",
         "fillcolor": "#27AE60",
         "line": {
          "color": "#27AE60",
          "width": 3
         },
         "name": "3. ResNet-50",
         "opacity": 0.5,
         "r": [
          86.7579908675799,
          86.65103552617167,
          86.69772786934664,
          86.4317264196394,
          86.3013698630137,
          86.7579908675799
         ],
         "theta": [
          "Accuracy",
          "F1 Score",
          "F2 Score",
          "Precision",
          "Recall",
          "Accuracy"
         ],
         "type": "scatterpolar"
        },
        {
         "fill": "toself",
         "fillcolor": "#6A4C93",
         "line": {
          "color": "#6A4C93",
          "width": 3
         },
         "name": "4. DenseNet-121",
         "opacity": 0.5,
         "r": [
          85.38812785388127,
          85.41575136033246,
          85.39232612056341,
          84.94976885999293,
          84.93150684931507,
          85.38812785388127
         ],
         "theta": [
          "Accuracy",
          "F1 Score",
          "F2 Score",
          "Precision",
          "Recall",
          "Accuracy"
         ],
         "type": "scatterpolar"
        },
        {
         "fill": "toself",
         "fillcolor": "#FF9A8B",
         "line": {
          "color": "#FF9A8B",
          "width": 3
         },
         "name": "5. ConvNeXt-Tiny",
         "opacity": 0.5,
         "r": [
          83.56164383561644,
          83.73938072100717,
          83.59994564539637,
          83.0837253285331,
          82.1917808219178,
          83.56164383561644
         ],
         "theta": [
          "Accuracy",
          "F1 Score",
          "F2 Score",
          "Precision",
          "Recall",
          "Accuracy"
         ],
         "type": "scatterpolar"
        }
       ],
       "layout": {
        "font": {
         "size": 12
        },
        "height": 700,
        "polar": {
         "radialaxis": {
          "range": [
           77.1917808219178,
           93.2170829250858
          ],
          "visible": true
         }
        },
        "showlegend": true,
        "template": {
         "data": {
          "bar": [
           {
            "error_x": {
             "color": "#2a3f5f"
            },
            "error_y": {
             "color": "#2a3f5f"
            },
            "marker": {
             "line": {
              "color": "#E5ECF6",
              "width": 0.5
             },
             "pattern": {
              "fillmode": "overlay",
              "size": 10,
              "solidity": 0.2
             }
            },
            "type": "bar"
           }
          ],
          "barpolar": [
           {
            "marker": {
             "line": {
              "color": "#E5ECF6",
              "width": 0.5
             },
             "pattern": {
              "fillmode": "overlay",
              "size": 10,
              "solidity": 0.2
             }
            },
            "type": "barpolar"
           }
          ],
          "carpet": [
           {
            "aaxis": {
             "endlinecolor": "#2a3f5f",
             "gridcolor": "white",
             "linecolor": "white",
             "minorgridcolor": "white",
             "startlinecolor": "#2a3f5f"
            },
            "baxis": {
             "endlinecolor": "#2a3f5f",
             "gridcolor": "white",
             "linecolor": "white",
             "minorgridcolor": "white",
             "startlinecolor": "#2a3f5f"
            },
            "type": "carpet"
           }
          ],
          "choropleth": [
           {
            "colorbar": {
             "outlinewidth": 0,
             "ticks": ""
            },
            "type": "choropleth"
           }
          ],
          "contour": [
           {
            "colorbar": {
             "outlinewidth": 0,
             "ticks": ""
            },
            "colorscale": [
             [
              0,
              "#0d0887"
             ],
             [
              0.1111111111111111,
              "#46039f"
             ],
             [
              0.2222222222222222,
              "#7201a8"
             ],
             [
              0.3333333333333333,
              "#9c179e"
             ],
             [
              0.4444444444444444,
              "#bd3786"
             ],
             [
              0.5555555555555556,
              "#d8576b"
             ],
             [
              0.6666666666666666,
              "#ed7953"
             ],
             [
              0.7777777777777778,
              "#fb9f3a"
             ],
             [
              0.8888888888888888,
              "#fdca26"
             ],
             [
              1,
              "#f0f921"
             ]
            ],
            "type": "contour"
           }
          ],
          "contourcarpet": [
           {
            "colorbar": {
             "outlinewidth": 0,
             "ticks": ""
            },
            "type": "contourcarpet"
           }
          ],
          "heatmap": [
           {
            "colorbar": {
             "outlinewidth": 0,
             "ticks": ""
            },
            "colorscale": [
             [
              0,
              "#0d0887"
             ],
             [
              0.1111111111111111,
              "#46039f"
             ],
             [
              0.2222222222222222,
              "#7201a8"
             ],
             [
              0.3333333333333333,
              "#9c179e"
             ],
             [
              0.4444444444444444,
              "#bd3786"
             ],
             [
              0.5555555555555556,
              "#d8576b"
             ],
             [
              0.6666666666666666,
              "#ed7953"
             ],
             [
              0.7777777777777778,
              "#fb9f3a"
             ],
             [
              0.8888888888888888,
              "#fdca26"
             ],
             [
              1,
              "#f0f921"
             ]
            ],
            "type": "heatmap"
           }
          ],
          "histogram": [
           {
            "marker": {
             "pattern": {
              "fillmode": "overlay",
              "size": 10,
              "solidity": 0.2
             }
            },
            "type": "histogram"
           }
          ],
          "histogram2d": [
           {
            "colorbar": {
             "outlinewidth": 0,
             "ticks": ""
            },
            "colorscale": [
             [
              0,
              "#0d0887"
             ],
             [
              0.1111111111111111,
              "#46039f"
             ],
             [
              0.2222222222222222,
              "#7201a8"
             ],
             [
              0.3333333333333333,
              "#9c179e"
             ],
             [
              0.4444444444444444,
              "#bd3786"
             ],
             [
              0.5555555555555556,
              "#d8576b"
             ],
             [
              0.6666666666666666,
              "#ed7953"
             ],
             [
              0.7777777777777778,
              "#fb9f3a"
             ],
             [
              0.8888888888888888,
              "#fdca26"
             ],
             [
              1,
              "#f0f921"
             ]
            ],
            "type": "histogram2d"
           }
          ],
          "histogram2dcontour": [
           {
            "colorbar": {
             "outlinewidth": 0,
             "ticks": ""
            },
            "colorscale": [
             [
              0,
              "#0d0887"
             ],
             [
              0.1111111111111111,
              "#46039f"
             ],
             [
              0.2222222222222222,
              "#7201a8"
             ],
             [
              0.3333333333333333,
              "#9c179e"
             ],
             [
              0.4444444444444444,
              "#bd3786"
             ],
             [
              0.5555555555555556,
              "#d8576b"
             ],
             [
              0.6666666666666666,
              "#ed7953"
             ],
             [
              0.7777777777777778,
              "#fb9f3a"
             ],
             [
              0.8888888888888888,
              "#fdca26"
             ],
             [
              1,
              "#f0f921"
             ]
            ],
            "type": "histogram2dcontour"
           }
          ],
          "mesh3d": [
           {
            "colorbar": {
             "outlinewidth": 0,
             "ticks": ""
            },
            "type": "mesh3d"
           }
          ],
          "parcoords": [
           {
            "line": {
             "colorbar": {
              "outlinewidth": 0,
              "ticks": ""
             }
            },
            "type": "parcoords"
           }
          ],
          "pie": [
           {
            "automargin": true,
            "type": "pie"
           }
          ],
          "scatter": [
           {
            "fillpattern": {
             "fillmode": "overlay",
             "size": 10,
             "solidity": 0.2
            },
            "type": "scatter"
           }
          ],
          "scatter3d": [
           {
            "line": {
             "colorbar": {
              "outlinewidth": 0,
              "ticks": ""
             }
            },
            "marker": {
             "colorbar": {
              "outlinewidth": 0,
              "ticks": ""
             }
            },
            "type": "scatter3d"
           }
          ],
          "scattercarpet": [
           {
            "marker": {
             "colorbar": {
              "outlinewidth": 0,
              "ticks": ""
             }
            },
            "type": "scattercarpet"
           }
          ],
          "scattergeo": [
           {
            "marker": {
             "colorbar": {
              "outlinewidth": 0,
              "ticks": ""
             }
            },
            "type": "scattergeo"
           }
          ],
          "scattergl": [
           {
            "marker": {
             "colorbar": {
              "outlinewidth": 0,
              "ticks": ""
             }
            },
            "type": "scattergl"
           }
          ],
          "scattermap": [
           {
            "marker": {
             "colorbar": {
              "outlinewidth": 0,
              "ticks": ""
             }
            },
            "type": "scattermap"
           }
          ],
          "scattermapbox": [
           {
            "marker": {
             "colorbar": {
              "outlinewidth": 0,
              "ticks": ""
             }
            },
            "type": "scattermapbox"
           }
          ],
          "scatterpolar": [
           {
            "marker": {
             "colorbar": {
              "outlinewidth": 0,
              "ticks": ""
             }
            },
            "type": "scatterpolar"
           }
          ],
          "scatterpolargl": [
           {
            "marker": {
             "colorbar": {
              "outlinewidth": 0,
              "ticks": ""
             }
            },
            "type": "scatterpolargl"
           }
          ],
          "scatterternary": [
           {
            "marker": {
             "colorbar": {
              "outlinewidth": 0,
              "ticks": ""
             }
            },
            "type": "scatterternary"
           }
          ],
          "surface": [
           {
            "colorbar": {
             "outlinewidth": 0,
             "ticks": ""
            },
            "colorscale": [
             [
              0,
              "#0d0887"
             ],
             [
              0.1111111111111111,
              "#46039f"
             ],
             [
              0.2222222222222222,
              "#7201a8"
             ],
             [
              0.3333333333333333,
              "#9c179e"
             ],
             [
              0.4444444444444444,
              "#bd3786"
             ],
             [
              0.5555555555555556,
              "#d8576b"
             ],
             [
              0.6666666666666666,
              "#ed7953"
             ],
             [
              0.7777777777777778,
              "#fb9f3a"
             ],
             [
              0.8888888888888888,
              "#fdca26"
             ],
             [
              1,
              "#f0f921"
             ]
            ],
            "type": "surface"
           }
          ],
          "table": [
           {
            "cells": {
             "fill": {
              "color": "#EBF0F8"
             },
             "line": {
              "color": "white"
             }
            },
            "header": {
             "fill": {
              "color": "#C8D4E3"
             },
             "line": {
              "color": "white"
             }
            },
            "type": "table"
           }
          ]
         },
         "layout": {
          "annotationdefaults": {
           "arrowcolor": "#2a3f5f",
           "arrowhead": 0,
           "arrowwidth": 1
          },
          "autotypenumbers": "strict",
          "coloraxis": {
           "colorbar": {
            "outlinewidth": 0,
            "ticks": ""
           }
          },
          "colorscale": {
           "diverging": [
            [
             0,
             "#8e0152"
            ],
            [
             0.1,
             "#c51b7d"
            ],
            [
             0.2,
             "#de77ae"
            ],
            [
             0.3,
             "#f1b6da"
            ],
            [
             0.4,
             "#fde0ef"
            ],
            [
             0.5,
             "#f7f7f7"
            ],
            [
             0.6,
             "#e6f5d0"
            ],
            [
             0.7,
             "#b8e186"
            ],
            [
             0.8,
             "#7fbc41"
            ],
            [
             0.9,
             "#4d9221"
            ],
            [
             1,
             "#276419"
            ]
           ],
           "sequential": [
            [
             0,
             "#0d0887"
            ],
            [
             0.1111111111111111,
             "#46039f"
            ],
            [
             0.2222222222222222,
             "#7201a8"
            ],
            [
             0.3333333333333333,
             "#9c179e"
            ],
            [
             0.4444444444444444,
             "#bd3786"
            ],
            [
             0.5555555555555556,
             "#d8576b"
            ],
            [
             0.6666666666666666,
             "#ed7953"
            ],
            [
             0.7777777777777778,
             "#fb9f3a"
            ],
            [
             0.8888888888888888,
             "#fdca26"
            ],
            [
             1,
             "#f0f921"
            ]
           ],
           "sequentialminus": [
            [
             0,
             "#0d0887"
            ],
            [
             0.1111111111111111,
             "#46039f"
            ],
            [
             0.2222222222222222,
             "#7201a8"
            ],
            [
             0.3333333333333333,
             "#9c179e"
            ],
            [
             0.4444444444444444,
             "#bd3786"
            ],
            [
             0.5555555555555556,
             "#d8576b"
            ],
            [
             0.6666666666666666,
             "#ed7953"
            ],
            [
             0.7777777777777778,
             "#fb9f3a"
            ],
            [
             0.8888888888888888,
             "#fdca26"
            ],
            [
             1,
             "#f0f921"
            ]
           ]
          },
          "colorway": [
           "#636efa",
           "#EF553B",
           "#00cc96",
           "#ab63fa",
           "#FFA15A",
           "#19d3f3",
           "#FF6692",
           "#B6E880",
           "#FF97FF",
           "#FECB52"
          ],
          "font": {
           "color": "#2a3f5f"
          },
          "geo": {
           "bgcolor": "white",
           "lakecolor": "white",
           "landcolor": "#E5ECF6",
           "showlakes": true,
           "showland": true,
           "subunitcolor": "white"
          },
          "hoverlabel": {
           "align": "left"
          },
          "hovermode": "closest",
          "mapbox": {
           "style": "light"
          },
          "paper_bgcolor": "white",
          "plot_bgcolor": "#E5ECF6",
          "polar": {
           "angularaxis": {
            "gridcolor": "white",
            "linecolor": "white",
            "ticks": ""
           },
           "bgcolor": "#E5ECF6",
           "radialaxis": {
            "gridcolor": "white",
            "linecolor": "white",
            "ticks": ""
           }
          },
          "scene": {
           "xaxis": {
            "backgroundcolor": "#E5ECF6",
            "gridcolor": "white",
            "gridwidth": 2,
            "linecolor": "white",
            "showbackground": true,
            "ticks": "",
            "zerolinecolor": "white"
           },
           "yaxis": {
            "backgroundcolor": "#E5ECF6",
            "gridcolor": "white",
            "gridwidth": 2,
            "linecolor": "white",
            "showbackground": true,
            "ticks": "",
            "zerolinecolor": "white"
           },
           "zaxis": {
            "backgroundcolor": "#E5ECF6",
            "gridcolor": "white",
            "gridwidth": 2,
            "linecolor": "white",
            "showbackground": true,
            "ticks": "",
            "zerolinecolor": "white"
           }
          },
          "shapedefaults": {
           "line": {
            "color": "#2a3f5f"
           }
          },
          "ternary": {
           "aaxis": {
            "gridcolor": "white",
            "linecolor": "white",
            "ticks": ""
           },
           "baxis": {
            "gridcolor": "white",
            "linecolor": "white",
            "ticks": ""
           },
           "bgcolor": "#E5ECF6",
           "caxis": {
            "gridcolor": "white",
            "linecolor": "white",
            "ticks": ""
           }
          },
          "title": {
           "x": 0.05
          },
          "xaxis": {
           "automargin": true,
           "gridcolor": "white",
           "linecolor": "white",
           "ticks": "",
           "title": {
            "standoff": 15
           },
           "zerolinecolor": "white",
           "zerolinewidth": 2
          },
          "yaxis": {
           "automargin": true,
           "gridcolor": "white",
           "linecolor": "white",
           "ticks": "",
           "title": {
            "standoff": 15
           },
           "zerolinecolor": "white",
           "zerolinewidth": 2
          }
         }
        },
        "title": {
         "text": "Model Performance Dashboard"
        },
        "width": 900
       }
      }
     },
     "metadata": {},
     "output_type": "display_data"
    },
    {
     "name": "stdout",
     "output_type": "stream",
     "text": [
      "\n",
      "2. Model Performance Analysis\n",
      "────────────────────────────────────────────────────────────────────────────────\n"
     ]
    },
    {
     "data": {
      "image/png": "[encoded data removed]",
      "text/plain": [
       "<Figure size 1600x1200 with 4 Axes>"
      ]
     },
     "metadata": {},
     "output_type": "display_data"
    },
    {
     "name": "stdout",
     "output_type": "stream",
     "text": [
      "\n",
      "Visualization files saved:\n",
      "  - Model analysis: osteoarthritis-severity/results/full_training/model_selection_analysis.png\n",
      "════════════════════════════════════════════════════════════════════════════════\n"
     ]
    }
   ],
   "source": [
    "# === Model Selection Visualizations ===\n",
    "\n",
    "def create_model_selection_visualizations(all_results, all_5_models, hp_impact, MODEL_NAMES, COLORS, FINAL_RESULTS_DIR):\n",
    "    \"\"\"Create comprehensive visualizations for model selection analysis and performance comparison\"\"\"\n",
    "    \n",
    "    print(\"Model Selection Visualizations\")\n",
    "    print(\"═\" * 80)\n",
    "    \n",
    "    # 1. Interactive Model Performance Dashboard\n",
    "    print(\"\\n1. Interactive Model Performance Dashboard\")\n",
    "    print(\"─\" * 80)\n",
    "    \n",
    "    # Create radar chart for all 5 models\n",
    "    fig_radar = go.Figure()\n",
    "    \n",
    "    metrics = ['Accuracy', 'F1 Score', 'F2 Score', 'Precision', 'Recall']\n",
    "    metric_keys = ['validation_accuracy', 'f1_score', 'f2_score', 'precision', 'recall']\n",
    "    \n",
    "    # Get performance ranges for appropriate scaling\n",
    "    all_accuracies = [model['performance']['validation_accuracy'] for model in all_5_models]\n",
    "    all_f1s = [model['performance']['f1_score'] * 100 for model in all_5_models]\n",
    "    all_f2s = [model['performance']['f2_score'] * 100 for model in all_5_models]\n",
    "    all_precisions = [model['performance']['precision'] * 100 for model in all_5_models]\n",
    "    all_recalls = [model['performance']['recall'] * 100 for model in all_5_models]\n",
    "    \n",
    "    # Set appropriate range based on actual data\n",
    "    min_val = min(min(all_accuracies), min(all_f1s), min(all_f2s), min(all_precisions), min(all_recalls)) - 5\n",
    "    max_val = max(max(all_accuracies), max(all_f1s), max(all_f2s), max(all_precisions), max(all_recalls)) + 5\n",
    "    \n",
    "    for i, model in enumerate(all_5_models):  # All 5 models\n",
    "        values = []\n",
    "        for key in metric_keys:\n",
    "            val = model['performance'][key]\n",
    "            # Convert to percentage scale\n",
    "            if key == 'validation_accuracy':\n",
    "                values.append(val)  # Already in percentage\n",
    "            else:\n",
    "                values.append(val * 100)  # Convert to percentage\n",
    "        \n",
    "        values.append(values[0])  # Close the radar\n",
    "        \n",
    "        fig_radar.add_trace(go.Scatterpolar(\n",
    "            r=values,\n",
    "            theta=metrics + [metrics[0]],\n",
    "            fill='toself',\n",
    "            name=f\"{model['rank']}. {model['display_name']}\",\n",
    "            line=dict(color=COLORS['models'][model['model_name']], width=3),\n",
    "            fillcolor=COLORS['models'][model['model_name']],\n",
    "            opacity=0.5\n",
    "        ))\n",
    "    \n",
    "    fig_radar.update_layout(\n",
    "        polar=dict(\n",
    "            radialaxis=dict(\n",
    "                visible=True,\n",
    "                range=[min_val, max_val]\n",
    "            )),\n",
    "        showlegend=True,\n",
    "        title=\"Model Performance Dashboard\",\n",
    "        font=dict(size=12),\n",
    "        height=700,\n",
    "        width=900\n",
    "    )\n",
    "    \n",
    "    fig_radar.show()\n",
    "    \n",
    "    # 2. Static Visualizations Grid\n",
    "    print(\"\\n2. Model Performance Analysis\")\n",
    "    print(\"─\" * 80)\n",
    "    \n",
    "    fig, axes = plt.subplots(2, 2, figsize=(16, 12))\n",
    "    fig.suptitle('Model Performance Analysis', fontsize=16, fontweight='bold')\n",
    "    \n",
    "    # A. Model Performance Distribution\n",
    "    ax1 = axes[0, 0]\n",
    "    model_names, accuracies, colors = [], [], []\n",
    "    for model_name in sorted(all_results['model_name'].unique()):\n",
    "        model_data = all_results.loc[all_results['model_name'] == model_name, 'best_val_acc']\n",
    "        model_names.append(MODEL_NAMES.get(model_name, model_name))\n",
    "        accuracies.append(model_data.tolist())\n",
    "        colors.append(COLORS['models'][model_name])\n",
    "    \n",
    "    bp = ax1.boxplot(accuracies, labels=model_names, patch_artist=True)\n",
    "    for patch, color in zip(bp['boxes'], colors):\n",
    "        patch.set_facecolor(color)\n",
    "        patch.set_alpha(0.7)\n",
    "    \n",
    "    ax1.set_ylabel('Validation Accuracy (%)')\n",
    "    ax1.set_title('Model Performance Distribution')\n",
    "    ax1.tick_params(axis='x', rotation=45)\n",
    "    ax1.grid(True, alpha=0.3)\n",
    "    \n",
    "    # B. Stage 1 vs Stage 2 Performance\n",
    "    ax2 = axes[0, 1]\n",
    "    stage1_acc = all_results.loc[all_results['stage'] == 1, 'best_val_acc']\n",
    "    stage2_acc = all_results.loc[all_results.get('stage', []) == 2, 'best_val_acc'] if 'stage' in all_results else []\n",
    "    stage_data = [stage1_acc.tolist()]\n",
    "    stage_labels = ['Stage 1']\n",
    "    stage_colors = [COLORS['primary']['medical_blue']]\n",
    "    \n",
    "    if len(stage2_acc):\n",
    "        stage_data.append(stage2_acc.tolist())\n",
    "        stage_labels.append('Stage 2')\n",
    "        stage_colors.append(COLORS['primary']['healthcare_teal'])\n",
    "    \n",
    "    bp2 = ax2.boxplot(stage_data, labels=stage_labels, patch_artist=True)\n",
    "    for patch, color in zip(bp2['boxes'], stage_colors):\n",
    "        patch.set_facecolor(color)\n",
    "        patch.set_alpha(0.7)\n",
    "    \n",
    "    ax2.set_ylabel('Validation Accuracy (%)')\n",
    "    ax2.set_title('Stage 1 vs Stage 2 Performance')\n",
    "    ax2.grid(True, alpha=0.3)\n",
    "    \n",
    "    # C. Model Top Accuracy\n",
    "    ax3 = axes[1, 0]\n",
    "    names = [m['display_name'] for m in all_5_models]\n",
    "    accs = [m['performance']['validation_accuracy'] for m in all_5_models]\n",
    "    f2_scores = [m['performance']['f2_score'] for m in all_5_models]\n",
    "    colors = [COLORS['models'][m['model_name']] for m in all_5_models]\n",
    "    \n",
    "    bars = ax3.bar(names, accs, color=colors, alpha=0.8, edgecolor='white', linewidth=1)\n",
    "    ax3.set_ylabel('Validation Accuracy (%)')\n",
    "    ax3.set_title('Model Top Accuracy')\n",
    "    ax3.tick_params(axis='x', rotation=45)\n",
    "    ax3.grid(True, alpha=0.3, axis='y')\n",
    "    \n",
    "    # Add text labels to bars\n",
    "    for i, (bar, acc, f2) in enumerate(zip(bars, accs, f2_scores)):\n",
    "        height = bar.get_height()\n",
    "        # Accuracy percentage inside bar\n",
    "        ax3.text(bar.get_x() + bar.get_width()/2, height/2,\n",
    "                f'{acc:.1f}%', ha='center', va='center',\n",
    "                fontweight='bold', color='white', fontsize=10)\n",
    "        # F2 score below x-axis\n",
    "        ax3.text(bar.get_x() + bar.get_width()/2, -3,\n",
    "                f'F2={f2:.3f}', ha='center', va='top',\n",
    "                fontsize=8, style='italic', color='black')\n",
    "    \n",
    "    # D. Hyperparameter Impact\n",
    "    ax4 = axes[1, 1]\n",
    "    \n",
    "    # Extract hyperparameter impact data\n",
    "    hp_data = [(hp.replace('_', ' ').title(), data['range']) \n",
    "               for hp, data in hp_impact.items()]\n",
    "    \n",
    "    # Sort by impact (descending)\n",
    "    hp_data = sorted(hp_data, key=lambda x: x[1], reverse=True)\n",
    "    hp_names = [name for name, _ in hp_data]\n",
    "    hp_ranges = [val for _, val in hp_data]\n",
    "    \n",
    "    # Reverse order for display (matplotlib horizontal bars display bottom to top)\n",
    "    hp_names = hp_names[::-1]\n",
    "    hp_ranges = hp_ranges[::-1]\n",
    "    \n",
    "    y_pos = range(len(hp_names))\n",
    "    bars = ax4.barh(y_pos, hp_ranges, color=COLORS['primary']['clinical_purple'], alpha=0.7)\n",
    "    ax4.set_yticks(y_pos)\n",
    "    ax4.set_yticklabels(hp_names)\n",
    "    ax4.set_xlabel('Performance Range (%)')\n",
    "    ax4.set_title('Hyperparameter Impact')\n",
    "    ax4.grid(True, alpha=0.3, axis='x')\n",
    "    \n",
    "    # Add value labels\n",
    "    for i, (bar, val) in enumerate(zip(bars, hp_ranges)):\n",
    "        ax4.text(val + 0.5, bar.get_y() + bar.get_height()/2,\n",
    "                f'{val:.1f}%', ha='left', va='center', fontweight='bold')\n",
    "    \n",
    "    plt.tight_layout()\n",
    "    plt.savefig(FINAL_RESULTS_DIR / 'model_selection_analysis.png', dpi=300, bbox_inches='tight')\n",
    "    plt.show()\n",
    "\n",
    "    print(\"\\nVisualization files saved:\")\n",
    "    print(f\"  - Model analysis: {repo_name}/results/full_training/model_selection_analysis.png\")\n",
    "    \n",
    "    print(\"═\" * 80)\n",
    "\n",
    "# Run the visualizations\n",
    "create_model_selection_visualizations(all_results, all_5_models, hp_impact, MODEL_NAMES, COLORS, FINAL_RESULTS_DIR)\n"
   ]
  },
  {
   "cell_type": "markdown",
   "metadata": {},
   "source": [
    "## **Summary and Next Steps** <a id=\"summary\"></a>\n",
    "\n",
    "### **Model Selection and Analysis Pipeline Complete**\n",
    "\n",
    "This notebook successfully analyzed the two-stage hyperparameter optimization results and selected the optimal model configurations for ensemble training on osteoarthritis severity classification.\n",
    "\n",
    "#### **1. Comprehensive Performance Analysis**\n",
    "- Analyzed 400 hyperparameter trials across 5 CNN architectures with statistical rigor\n",
    "- Performed statistical significance testing between model architectures\n",
    "- Quantified hyperparameter impact with optimizer and learning rate as most influential factors\n",
    "- Evaluated model consistency and generalization stability across trials\n",
    "\n",
    "#### **2. Architecture-Specific Selection**\n",
    "- Selected best configuration from each of the 5 architectures: EfficientNet-B0, RegNet-Y-800MF, ResNet-50, DenseNet-121, ConvNeXt-Tiny\n",
    "- Applied composite scoring (accuracy + F2×100 - generalization gap) for clinical optimization\n",
    "- Achieved complete architectural diversity for robust ensemble training\n",
    "- Documented full hyperparameter configurations and performance metrics\n",
    "\n",
    "#### **3. Visualization and Documentation**\n",
    "- Created interactive radar charts for multi-metric model comparison\n",
    "- Generated comprehensive static visualizations including performance distributions and hyperparameter impact analysis\n",
    "- Exported model selection analysis and saved all configurations for downstream training\n",
    "\n",
    "---\n",
    "\n",
    "### **Next Steps in the Pipeline**\n",
    "\n",
    "- **`04_Multi_Class_Full_Training_Ensemble.ipynb`**: Train all 5 selected configurations for 100 epochs with full dataset and create weighted ensemble\n",
    "- **`05_Deployment_and_Clinical_UI.ipynb`**: Evaluate ensemble on test set and integrate into clinical workflows for real-time decision support\n",
    "\n",
    "---\n",
    "\n",
    "### **Key Technical Achievements**\n",
    "\n",
    "- **Comprehensive Model Analysis**: Statistical significance testing and architecture-specific performance characterization\n",
    "- **Clinical Metric Integration**: F2 score optimization for medical sensitivity requirements  \n",
    "- **Architectural Diversity**: Complete diversity across 5 distinct CNN families for robust ensemble\n",
    "- **Hyperparameter Impact Quantification**: Identified optimizer and learning rate as key performance drivers\n",
    "- **Ready for Full Training**: All configurations saved with complete hyperparameter specifications and performance baselines"
   ]
  }
 ],
 "metadata": {
  "kernelspec": {
   "display_name": "gpu",
   "language": "python",
   "name": "python3"
  },
  "language_info": {
   "codemirror_mode": {
    "name": "ipython",
    "version": 3
   },
   "file_extension": ".py",
   "mimetype": "text/x-python",
   "name": "python",
   "nbconvert_exporter": "python",
   "pygments_lexer": "ipython3",
   "version": "3.11.13"
  }
 },
 "nbformat": 4,
 "nbformat_minor": 2
}
